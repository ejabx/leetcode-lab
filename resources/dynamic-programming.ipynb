{
 "cells": [
  {
   "cell_type": "markdown",
   "id": "71bf290b",
   "metadata": {},
   "source": [
    "# [Dynamic Programming](https://www.youtube.com/watch?v=piAlsJySUGE)\n",
    "**Dynamic Programming** is a method for solving **complex problems** by **breaking them down into simpler subproblems**, **solving each subproblem once**, and **storing the results** to avoid redundant work.\n",
    "\n",
    "It’s often used for **optimization problems** (e.g. maximum, minimum, count) and is especially useful when a problem has:\n",
    "\n",
    "1. **Overlapping Subproblems**:\n",
    "   You solve the same subproblems multiple times.\n",
    "\n",
    "   > Example: In Fibonacci, `fib(5)` calls `fib(4)` and `fib(3)`, and `fib(4)` calls `fib(3)` again.\n",
    "\n",
    "2. **Optimal Substructure**:\n",
    "   The optimal solution can be built from optimal solutions of subproblems.\n",
    "\n",
    "   > Example: The shortest path from A to C via B is the shortest path from A to B plus the shortest path from B to C.\n",
    "\n",
    "## How to Spot a DP Problem\n",
    "\n",
    "Ask:\n",
    "\n",
    "- Can I break this into smaller problems?\n",
    "- Do I solve the same subproblem more than once?\n",
    "- Does caching previous results help?\n",
    "\n",
    "## Common DP Problems\n",
    "\n",
    "| Problem                    | Type            |\n",
    "| -------------------------- | --------------- |\n",
    "| Fibonacci Numbers          | Sequence        |\n",
    "| Longest Common Subsequence | Strings         |\n",
    "| 0/1 Knapsack Problem       | Optimization    |\n",
    "| Coin Change                | Minimum steps   |\n",
    "| Edit Distance              | Text similarity |\n",
    "| Matrix Path Sum            | Grid traversal  |"
   ]
  },
  {
   "cell_type": "markdown",
   "id": "cded97dc",
   "metadata": {},
   "source": [
    "## Examples"
   ]
  },
  {
   "cell_type": "markdown",
   "id": "ee5ded21",
   "metadata": {},
   "source": [
    "### Native Recursive (using the stack to store intermedate results)"
   ]
  },
  {
   "cell_type": "code",
   "execution_count": 29,
   "id": "a49d4e2f",
   "metadata": {},
   "outputs": [
    {
     "name": "stdout",
     "output_type": "stream",
     "text": [
      "102334155\n"
     ]
    }
   ],
   "source": [
    "// Time: O(2 ^ n)\n",
    "// Space: O(2 ^ n)\n",
    "function fib(n: number): number {\n",
    "    if (n <= 1) return n\n",
    "    else return fib(n - 2) + fib(n - 1)\n",
    "}\n",
    "\n",
    "console.log(fib(40))"
   ]
  },
  {
   "cell_type": "markdown",
   "id": "5186667a",
   "metadata": {},
   "source": [
    "### Top Down (Memorization)\n",
    "Use recursion and cache results in a Map or array to avoid recomputing."
   ]
  },
  {
   "cell_type": "code",
   "execution_count": 2,
   "id": "b7228098",
   "metadata": {},
   "outputs": [
    {
     "name": "stdout",
     "output_type": "stream",
     "text": [
      "354224848179262000000\n"
     ]
    }
   ],
   "source": [
    "// Time: O(n)\n",
    "// Space: O(n)\n",
    "function fib(n: number, memo: Map<number, number>): number {\n",
    "    if (n <= 1) return n\n",
    "    if (memo.get(n)) return memo.get(n)\n",
    "    const r = fib(n - 2, memo) + fib(n - 1, memo)\n",
    "    memo.set(n, r)\n",
    "    return r\n",
    "}\n",
    "\n",
    "console.log(fib(100, new Map()))"
   ]
  },
  {
   "cell_type": "markdown",
   "id": "5f9dd58d",
   "metadata": {},
   "source": [
    "### Bottom Up (Tabularization)\n",
    "Solve subproblems iteratively from smallest to largest, using a table (usually an array).  \n",
    "_Perferred because you eliminate recursion_"
   ]
  },
  {
   "cell_type": "code",
   "execution_count": 31,
   "id": "42b073ec",
   "metadata": {},
   "outputs": [
    {
     "name": "stdout",
     "output_type": "stream",
     "text": [
      "354224848179262000000\n",
      "354224848179262000000\n"
     ]
    }
   ],
   "source": [
    "// Time: O(n)\n",
    "// Space: O(n)\n",
    "function fib(n: number): number {\n",
    "    let dp = Array(n).fill(0)\n",
    "    dp[0] = 0\n",
    "    dp[1] = 1\n",
    "\n",
    "    for(let i = 2; i <= n; i++) {\n",
    "        dp[i] = dp[i - 2] + dp[i - 1]\n",
    "    }\n",
    "\n",
    "    return dp[n]\n",
    "}\n",
    "\n",
    "// Time: O(n)\n",
    "// Space: O(1)\n",
    "function fib_constant_space(n: number): number {\n",
    "    let prev = 0\n",
    "    let curr = 1\n",
    "\n",
    "    for(let i = 2; i <= n; i++) {\n",
    "        const p = prev;\n",
    "        prev = curr\n",
    "        curr = p + curr    \n",
    "    }\n",
    "\n",
    "    return curr\n",
    "}\n",
    "\n",
    "console.log(fib(100))\n",
    "console.log(fib_constant_space(100))"
   ]
  },
  {
   "cell_type": "markdown",
   "id": "5a1e4d46",
   "metadata": {},
   "source": [
    "# Golden Ratio (For Fun -- not related to DP at all)\n",
    "Fastest time"
   ]
  },
  {
   "cell_type": "code",
   "execution_count": 32,
   "id": "814985ad",
   "metadata": {},
   "outputs": [
    {
     "name": "stdout",
     "output_type": "stream",
     "text": [
      "354224848179263100000\n"
     ]
    }
   ],
   "source": [
    "// Time: O(log n)\n",
    "// Space: O(1)\n",
    "function fib(n: number): number\n",
    "{\n",
    "    const golden_ratio = (1 + (5 ** 0.5)) / 2\n",
    "    return Math.round((golden_ratio ** n) / (5 ** 0.5))\n",
    "}\n",
    "console.log(fib(100))"
   ]
  }
 ],
 "metadata": {
  "kernelspec": {
   "display_name": "Deno",
   "language": "typescript",
   "name": "deno"
  },
  "language_info": {
   "codemirror_mode": "typescript",
   "file_extension": ".ts",
   "mimetype": "text/x.typescript",
   "name": "typescript",
   "nbconvert_exporter": "script",
   "pygments_lexer": "typescript",
   "version": "5.8.3"
  }
 },
 "nbformat": 4,
 "nbformat_minor": 5
}
