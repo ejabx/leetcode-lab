{
  "cells": [
    {
      "cell_type": "markdown",
      "metadata": {},
      "source": [
        "# [Clone Graph](https://leetcode.com/problems/clone-graph)\n",
        "\n"
      ]
    },
    {
      "cell_type": "markdown",
      "metadata": {},
      "source": [
        "## Description  \n",
        "Return a deep copy (clone) of an undirected graph, given a reference to one of its nodes.\n",
        "\n"
      ]
    },
    {
      "cell_type": "markdown",
      "metadata": {},
      "source": [
        "## Strategy  \n",
        "Use DFS or BFS with a map to keep track of visited nodes and their clones to avoid infinite loops and preserve graph structure.\n",
        "\n",
        "**Time complexity:** O(V + E)  \n",
        "**Space complexity:** O(V)\n",
        "\n"
      ]
    },
    {
      "cell_type": "code",
      "execution_count": 78,
      "metadata": {},
      "outputs": [],
      "source": [
        "import { GraphNode as Node } from \"../bin/ds/graph.ts\";\n",
        "\n",
        "function cloneGraph(graph: Node | null): Node | null {\n",
        "  if (!graph) return graph\n",
        "  const nodeMap = new Map<Node, Node>()\n",
        "\n",
        "  function dfs(node: Node, visit: (node: Node) => void) {\n",
        "    if (nodeMap.has(node)) return\n",
        "\n",
        "    visit(node)\n",
        "    for(const neighbor of node.neighbors) {\n",
        "      dfs(neighbor, visit)\n",
        "    }\n",
        "  }\n",
        "\n",
        "  // pass one: create nodes\n",
        "  dfs(graph, (node: Node) => {\n",
        "    nodeMap.set(node, new Node(node.val))\n",
        "  })\n",
        "\n",
        "  // pass two: iterate and maintain connections\n",
        "  for(const [oldNode, newNode] of nodeMap) {\n",
        "    for(const neighbor of oldNode.neighbors) {\n",
        "      newNode.neighbors.push(nodeMap.get(neighbor)!)\n",
        "    }\n",
        "  }\n",
        "  \n",
        "  return nodeMap.get(graph);\n",
        "}\n",
        "\n",
        "function cloneGraph_onePass(node: Node | null): Node | null {\n",
        "    if (!node) return null;\n",
        "    \n",
        "    const nodeMap = new Map<Node, Node>();\n",
        "    \n",
        "    function dfs(original: Node): Node {\n",
        "        if (nodeMap.has(original)) {\n",
        "            return nodeMap.get(original)!;\n",
        "        }\n",
        "        \n",
        "        // Create and connect in same traversal\n",
        "        const clone = new Node(original.val);\n",
        "        nodeMap.set(original, clone);\n",
        "        \n",
        "        for (const neighbor of original.neighbors) {\n",
        "            clone.neighbors.push(dfs(neighbor)); // Connect immediately\n",
        "        }\n",
        "        \n",
        "        return clone;\n",
        "    }\n",
        "    \n",
        "    return dfs(node);\n",
        "}"
      ]
    },
    {
      "cell_type": "code",
      "execution_count": 79,
      "metadata": {},
      "outputs": [
        {
          "name": "stdout",
          "output_type": "stream",
          "text": [
            "cloneGraph - null input ... \u001b[0m\u001b[32mok\u001b[0m \u001b[0m\u001b[38;5;245m(0ms)\u001b[0m\n",
            "cloneGraph - single node ... \u001b[0m\u001b[32mok\u001b[0m \u001b[0m\u001b[38;5;245m(0ms)\u001b[0m\n",
            "cloneGraph - two connected nodes ... \u001b[0m\u001b[32mok\u001b[0m \u001b[0m\u001b[38;5;245m(0ms)\u001b[0m\n",
            "cloneGraph - triangle graph ... \u001b[0m\u001b[32mok\u001b[0m \u001b[0m\u001b[38;5;245m(0ms)\u001b[0m\n",
            "\n",
            "\u001b[0m\u001b[32mok\u001b[0m | 4 passed | 0 failed \u001b[0m\u001b[38;5;245m(1ms)\u001b[0m\n"
          ]
        }
      ],
      "source": [
        "import { assertEquals } from \"https://deno.land/std/testing/asserts.ts\";\n",
        "\n",
        "Deno.test(\"cloneGraph - null input\", () => {\n",
        "  assertEquals(cloneGraph(null), null);\n",
        "});\n",
        "\n",
        "Deno.test(\"cloneGraph - single node\", () => {\n",
        "  const node = new Node(1);\n",
        "  const clone = cloneGraph(node);\n",
        "  assertEquals(Node.adjacencyList(clone), { 1: [] });\n",
        "});\n",
        "\n",
        "Deno.test(\"cloneGraph - two connected nodes\", () => {\n",
        "  const node1 = new Node(1);\n",
        "  const node2 = new Node(2);\n",
        "  node1.neighbors.push(node2);\n",
        "  node2.neighbors.push(node1);\n",
        "\n",
        "  const clone = cloneGraph(node1);\n",
        "  assertEquals(Node.adjacencyList(clone), { 1: [2], 2: [1] });\n",
        "});\n",
        "\n",
        "Deno.test(\"cloneGraph - triangle graph\", () => {\n",
        "  const node1 = new Node(1);\n",
        "  const node2 = new Node(2);\n",
        "  const node3 = new Node(3);\n",
        "  node1.neighbors = [node2, node3];\n",
        "  node2.neighbors = [node1, node3];\n",
        "  node3.neighbors = [node1, node2];\n",
        "\n",
        "  const clone = cloneGraph(node1);\n",
        "  assertEquals(Node.adjacencyList(clone), {\n",
        "    1: [2, 3],\n",
        "    2: [1, 3],\n",
        "    3: [1, 2],\n",
        "  });\n",
        "});\n",
        "\n"
      ]
    },
    {
      "cell_type": "code",
      "execution_count": null,
      "id": "9dc2c9e3",
      "metadata": {},
      "outputs": [],
      "source": []
    }
  ],
  "metadata": {
    "kernelspec": {
      "display_name": "Deno",
      "language": "typescript",
      "name": "deno"
    },
    "language_info": {
      "codemirror_mode": "typescript",
      "file_extension": ".ts",
      "mimetype": "text/x.typescript",
      "name": "typescript",
      "nbconvert_exporter": "script",
      "pygments_lexer": "typescript",
      "version": "5.8.3"
    },
    "title": "Clone Graph"
  },
  "nbformat": 4,
  "nbformat_minor": 5
}
