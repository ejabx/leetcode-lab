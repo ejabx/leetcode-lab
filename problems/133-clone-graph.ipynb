{
  "cells": [
    {
      "cell_type": "markdown",
      "metadata": {},
      "source": [
        "# [Clone Graph](https://leetcode.com/problems/clone-graph)\n",
        "\n"
      ]
    },
    {
      "cell_type": "markdown",
      "metadata": {},
      "source": [
        "## Description  \n",
        "Return a deep copy (clone) of an undirected graph, given a reference to one of its nodes.\n",
        "\n"
      ]
    },
    {
      "cell_type": "markdown",
      "metadata": {},
      "source": [
        "## Strategy  \n",
        "Use DFS or BFS with a map to keep track of visited nodes and their clones to avoid infinite loops and preserve graph structure.\n",
        "\n"
      ]
    },
    {
      "cell_type": "code",
      "execution_count": null,
      "metadata": {},
      "outputs": [],
      "source": [
        "export class Node {\n",
        "  val: number;\n",
        "  neighbors: Node[];\n",
        "\n",
        "  constructor(val?: number, neighbors?: Node[]) {\n",
        "    this.val = val ?? 0;\n",
        "    this.neighbors = neighbors ?? [];\n",
        "  }\n",
        "}\n",
        "\n",
        "export function cloneGraph(node: Node | null): Node | null {\n",
        "  return null;\n",
        "}\n",
        "\n"
      ]
    },
    {
      "cell_type": "code",
      "execution_count": null,
      "metadata": {},
      "outputs": [],
      "source": [
        "import { assertEquals } from \"https://deno.land/std/testing/asserts.ts\";\n",
        "\n",
        "function serialize(node: Node | null): any {\n",
        "  if (!node) return null;\n",
        "  const seen = new Map<Node, number>();\n",
        "  const result: Record<number, number[]> = {};\n",
        "  let id = 1;\n",
        "\n",
        "  const dfs = (n: Node) => {\n",
        "    if (seen.has(n)) return;\n",
        "    seen.set(n, n.val);\n",
        "    result[n.val] = n.neighbors.map(nei => nei.val);\n",
        "    for (const nei of n.neighbors) {\n",
        "      dfs(nei);\n",
        "    }\n",
        "  };\n",
        "\n",
        "  dfs(node);\n",
        "  return result;\n",
        "}\n",
        "\n",
        "Deno.test(\"cloneGraph - null input\", () => {\n",
        "  assertEquals(cloneGraph(null), null);\n",
        "});\n",
        "\n",
        "Deno.test(\"cloneGraph - single node\", () => {\n",
        "  const node = new Node(1);\n",
        "  const clone = cloneGraph(node);\n",
        "  assertEquals(serialize(clone), { 1: [] });\n",
        "});\n",
        "\n",
        "Deno.test(\"cloneGraph - two connected nodes\", () => {\n",
        "  const node1 = new Node(1);\n",
        "  const node2 = new Node(2);\n",
        "  node1.neighbors.push(node2);\n",
        "  node2.neighbors.push(node1);\n",
        "\n",
        "  const clone = cloneGraph(node1);\n",
        "  assertEquals(serialize(clone), { 1: [2], 2: [1] });\n",
        "});\n",
        "\n",
        "Deno.test(\"cloneGraph - triangle graph\", () => {\n",
        "  const node1 = new Node(1);\n",
        "  const node2 = new Node(2);\n",
        "  const node3 = new Node(3);\n",
        "  node1.neighbors = [node2, node3];\n",
        "  node2.neighbors = [node1, node3];\n",
        "  node3.neighbors = [node1, node2];\n",
        "\n",
        "  const clone = cloneGraph(node1);\n",
        "  assertEquals(serialize(clone), {\n",
        "    1: [2, 3],\n",
        "    2: [1, 3],\n",
        "    3: [1, 2],\n",
        "  });\n",
        "});\n",
        "\n"
      ]
    }
  ],
  "metadata": {
    "kernelspec": {
      "display_name": "Deno",
      "name": "deno"
    },
    "language_info": {
      "name": "typescript",
      "version": "1.0"
    },
    "title": "Clone Graph"
  },
  "nbformat": 4,
  "nbformat_minor": 5
}
