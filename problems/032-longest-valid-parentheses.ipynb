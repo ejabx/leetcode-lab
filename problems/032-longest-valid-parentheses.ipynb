{
  "cells": [
    {
      "cell_type": "markdown",
      "metadata": {},
      "source": [
        "# [Longest Valid Parentheses](https://leetcode.com/problems/longest-valid-parentheses)\n",
        "\n",
        "## Description  \n",
        "Find the length of the longest valid (well-formed) parentheses substring.\n",
        "\n",
        "## Strategy  \n",
        "Use a stack to track open parentheses or use dynamic programming for efficiency."
      ]
    },
    {
      "cell_type": "code",
      "execution_count": null,
      "metadata": {},
      "outputs": [],
      "source": [
        "export function longestValidParentheses(s: string): number {\n",
        "    const stack: number[] = [-1]  // Start with -1 as base\n",
        "    let maxLength = 0\n",
        "    \n",
        "    for (let i = 0; i < s.length; i++) {\n",
        "        if (s[i] === '(') {\n",
        "            stack.push(i)  // Push index of '('\n",
        "        } else {  // s[i] === ')'\n",
        "            stack.pop()  // Remove the matching '(' or base\n",
        "            \n",
        "            if (stack.length === 0) {\n",
        "                stack.push(i)  // New base for next valid sequence\n",
        "            } else {\n",
        "                // Length = current index - top of stack\n",
        "                const currentLength = i - stack[stack.length - 1]\n",
        "                maxLength = Math.max(maxLength, currentLength)\n",
        "            }\n",
        "        }\n",
        "    }\n",
        "    \n",
        "    return maxLength\n",
        "}\n",
        "\n",
        "export function longestValidParentheses_dp(s: string): number {\n",
        "    const dp: number[] = new Array(s.length).fill(0)\n",
        "    let maxLength = 0\n",
        "    \n",
        "    for (let i = 1; i < s.length; i++) {\n",
        "        if (s[i] === ')') {\n",
        "            if (s[i-1] === '(') {\n",
        "                // Case 1: ...()\n",
        "                dp[i] = (i >= 2 ? dp[i-2] : 0) + 2\n",
        "            } else if (dp[i-1] > 0) {\n",
        "                // Case 2: ...))\n",
        "                // Find the position before the valid sequence ending at i-1\n",
        "                const matchPos = i - dp[i-1] - 1\n",
        "                if (matchPos >= 0 && s[matchPos] === '(') {\n",
        "                    dp[i] = dp[i-1] + 2 + (matchPos > 0 ? dp[matchPos-1] : 0)\n",
        "                }\n",
        "            }\n",
        "        }\n",
        "        maxLength = Math.max(maxLength, dp[i])\n",
        "    }\n",
        "    \n",
        "    return maxLength\n",
        "}\n",
        "\n"
      ]
    },
    {
      "cell_type": "code",
      "execution_count": 2,
      "metadata": {},
      "outputs": [
        {
          "name": "stdout",
          "output_type": "stream",
          "text": [
            "longestValidParentheses - nested ... \u001b[0m\u001b[32mok\u001b[0m \u001b[0m\u001b[38;5;245m(0ms)\u001b[0m\n",
            "longestValidParentheses - complex ... \u001b[0m\u001b[32mok\u001b[0m \u001b[0m\u001b[38;5;245m(0ms)\u001b[0m\n",
            "longestValidParentheses - empty ... \u001b[0m\u001b[32mok\u001b[0m \u001b[0m\u001b[38;5;245m(0ms)\u001b[0m\n",
            "longestValidParentheses - all open ... \u001b[0m\u001b[32mok\u001b[0m \u001b[0m\u001b[38;5;245m(0ms)\u001b[0m\n",
            "\n",
            "\u001b[0m\u001b[32mok\u001b[0m | 4 passed | 0 failed \u001b[0m\u001b[38;5;245m(0ms)\u001b[0m\n"
          ]
        }
      ],
      "source": [
        "import { assertEquals } from \"https://deno.land/std/testing/asserts.ts\";\n",
        "\n",
        "Deno.test(\"longestValidParentheses - nested\", () => {\n",
        "  assertEquals(longestValidParentheses(\"(()\"), 2);\n",
        "});\n",
        "\n",
        "Deno.test(\"longestValidParentheses - complex\", () => {\n",
        "  assertEquals(longestValidParentheses(\")()())\"), 4);\n",
        "});\n",
        "\n",
        "Deno.test(\"longestValidParentheses - empty\", () => {\n",
        "  assertEquals(longestValidParentheses(\"\"), 0);\n",
        "});\n",
        "\n",
        "Deno.test(\"longestValidParentheses - all open\", () => {\n",
        "  assertEquals(longestValidParentheses(\"((((\"), 0);\n",
        "});\n",
        "\n"
      ]
    }
  ],
  "metadata": {
    "kernelspec": {
      "display_name": "Deno",
      "language": "typescript",
      "name": "deno"
    },
    "language_info": {
      "codemirror_mode": "typescript",
      "file_extension": ".ts",
      "mimetype": "text/x.typescript",
      "name": "typescript",
      "nbconvert_exporter": "script",
      "pygments_lexer": "typescript",
      "version": "5.8.3"
    },
    "title": "Longest Valid Parentheses"
  },
  "nbformat": 4,
  "nbformat_minor": 5
}
