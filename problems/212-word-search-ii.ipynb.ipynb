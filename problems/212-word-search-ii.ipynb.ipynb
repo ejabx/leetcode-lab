{
  "nbformat": 4,
  "nbformat_minor": 5,
  "metadata": {
    "title": "Word Search II",
    "kernelspec": {
      "name": "deno",
      "display_name": "Deno"
    },
    "language_info": {
      "name": "typescript",
      "version": "1.0"
    }
  },
  "cells": [
    {
      "cell_type": "markdown",
      "metadata": {},
      "source": [
        "# [Word Search II](https://leetcode.com/problems/word-search-ii)\n",
        "## Description  \n",
        "Given a board and a list of words, find all the words present in the board using DFS with prefix pruning.\n",
        "## Strategy  \n",
        "Use a Trie for efficient prefix checks and backtrack through the board to find valid words.\n",
        "\n"
      ]
    },
    {
      "cell_type": "code",
      "metadata": {},
      "source": [
        "export function findWords(board: string[][], words: string[]): string[] {\n",
        "  return [];\n",
        "}\n",
        "\n"
      ],
      "execution_count": null,
      "outputs": []
    },
    {
      "cell_type": "code",
      "metadata": {},
      "source": [
        "import { assertEquals } from \"https://deno.land/std/testing/asserts.ts\";\n",
        "import { findWords } from \"./212-word-search-ii.ts\";\n",
        "\n",
        "Deno.test(\"findWords basic\", () => {\n",
        "  const board = [[\"o\",\"a\",\"a\",\"n\"],[\"e\",\"t\",\"a\",\"e\"],[\"i\",\"h\",\"k\",\"r\"],[\"i\",\"f\",\"l\",\"v\"]];\n",
        "  const words = [\"oath\",\"pea\",\"eat\",\"rain\"];\n",
        "  assertEquals(findWords(board, words).sort(), [\"eat\",\"oath\"].sort());\n",
        "});\n",
        "\n",
        "Deno.test(\"findWords edge\", () => {\n",
        "  assertEquals(findWords([], [\"abc\"]), []);\n",
        "  assertEquals(findWords([[\"a\"]], [\"a\"]), [\"a\"]);\n",
        "});\n",
        "\n"
      ],
      "execution_count": null,
      "outputs": []
    }
  ]
}