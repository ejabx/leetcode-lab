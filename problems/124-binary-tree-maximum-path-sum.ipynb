{
  "cells": [
    {
      "cell_type": "markdown",
      "metadata": {},
      "source": [
        "# [Binary Tree Maximum Path Sum](https://leetcode.com/problems/binary-tree-maximum-path-sum/)"
      ]
    },
    {
      "cell_type": "markdown",
      "metadata": {
        "tags": [
          "Tree",
          "Depth-First Search",
          "Binary Tree"
        ]
      },
      "source": [
        "## Description\n",
        "Find the maximum path sum in a binary tree, where the path may start and end at any node.\n",
        "The path must contain at least one node.\n",
        "## Strategy\n",
        "Use a DFS approach:\n",
        "- Traverse the tree recursively.\n",
        "- At each node, compute the maximum gain from left and right subtrees.\n",
        "- Update the global max path sum considering paths through the current node.\n",
        "- Return the maximum gain to parent for use in higher recursive calls.\n",
        "\n",
        "Time complexity: O(n)  \n",
        "Space complexity: O(h), where h is the height of the tree\n",
        "\n",
        "\n"
      ]
    },
    {
      "cell_type": "code",
      "execution_count": null,
      "metadata": {},
      "outputs": [],
      "source": [
        "import { TreeNode } from \"../bin/ds/tree.ts\"\n",
        "\n",
        "function maxPathSum(root: TreeNode | null): number {\n",
        "    let maxSum = -Infinity;\n",
        "    \n",
        "    function dfs(node: TreeNode | null): number {\n",
        "        if (!node) return 0;\n",
        "        \n",
        "        // POSTORDER: Get children's results FIRST\n",
        "        const leftGain = Math.max(dfs(node.left), 0);   // Left subtree first\n",
        "        const rightGain = Math.max(dfs(node.right), 0); // Right subtree second\n",
        "        \n",
        "        // NOW we can calculate path THROUGH current node\n",
        "        const pathThroughNode = node.val + leftGain + rightGain;\n",
        "        maxSum = Math.max(maxSum, pathThroughNode);\n",
        "        \n",
        "        // Return the best path ENDING at this node (for parent)\n",
        "        return node.val + Math.max(leftGain, rightGain);\n",
        "    }\n",
        "    \n",
        "    dfs(root);\n",
        "    return maxSum;\n",
        "  }"
      ]
    },
    {
      "cell_type": "code",
      "execution_count": 14,
      "metadata": {},
      "outputs": [
        {
          "name": "stdout",
          "output_type": "stream",
          "text": [
            "Max Path Sum - Simple Tree ... \u001b[0m\u001b[32mok\u001b[0m \u001b[0m\u001b[38;5;245m(0ms)\u001b[0m\n",
            "Max Path Sum - Single Node ... \u001b[0m\u001b[32mok\u001b[0m \u001b[0m\u001b[38;5;245m(0ms)\u001b[0m\n",
            "Max Path Sum - Negative Nodes ... \u001b[0m\u001b[32mok\u001b[0m \u001b[0m\u001b[38;5;245m(0ms)\u001b[0m\n",
            "Max Path Sum - Left Skewed Tree ... \u001b[0m\u001b[32mok\u001b[0m \u001b[0m\u001b[38;5;245m(0ms)\u001b[0m\n",
            "\n",
            "\u001b[0m\u001b[32mok\u001b[0m | 4 passed | 0 failed \u001b[0m\u001b[38;5;245m(0ms)\u001b[0m\n"
          ]
        }
      ],
      "source": [
        "import { assertEquals } from \"https://deno.land/std/testing/asserts.ts\";\n",
        "\n",
        "Deno.test(\"Max Path Sum - Simple Tree\", () => {\n",
        "  const root = new TreeNode(-10, new TreeNode(9), new TreeNode(20, new TreeNode(15), new TreeNode(7)));\n",
        "  assertEquals(maxPathSum(root), 42);\n",
        "});\n",
        "\n",
        "Deno.test(\"Max Path Sum - Single Node\", () => {\n",
        "  const root = new TreeNode(1);\n",
        "  assertEquals(maxPathSum(root), 1);\n",
        "});\n",
        "\n",
        "Deno.test(\"Max Path Sum - Negative Nodes\", () => {\n",
        "  const root = new TreeNode(-3);\n",
        "  assertEquals(maxPathSum(root), -3);\n",
        "});\n",
        "\n",
        "Deno.test(\"Max Path Sum - Left Skewed Tree\", () => {\n",
        "  const root = new TreeNode(2, new TreeNode(-1));\n",
        "  assertEquals(maxPathSum(root), 2);\n",
        "});\n",
        "\n"
      ]
    }
  ],
  "metadata": {
    "kernelspec": {
      "display_name": "Deno",
      "language": "typescript",
      "name": "deno"
    },
    "language_info": {
      "codemirror_mode": "typescript",
      "file_extension": ".ts",
      "mimetype": "text/x.typescript",
      "name": "typescript",
      "nbconvert_exporter": "script",
      "pygments_lexer": "typescript",
      "version": "5.8.3"
    },
    "title": "Binary Tree Maximum Path Sum"
  },
  "nbformat": 4,
  "nbformat_minor": 5
}
