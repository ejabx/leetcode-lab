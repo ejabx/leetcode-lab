{
 "cells": [
  {
   "cell_type": "markdown",
   "id": "7fac02ef",
   "metadata": {
    "tags": [
     "Array",
     "Hash Table"
    ]
   },
   "source": [
    "# [Two Sum]()\n",
    "\n",
    "Given an array of integers nums and an integer target, return the indices of the two numbers that add up to target.\n",
    "\n",
    "Each input has exactly one solution.\n",
    "You may not use the same element twice.\n",
    "Return the answer in any order.\n",
    "\n",
    "# Strategy\n",
    "\n",
    "Use a hash map to store each number and its index as you iterate.\n",
    "For each number n, check if target - n exists in the map.\n",
    "If found, return the indices.\n",
    "\n",
    "__Time__: O(n) — one pass through the array  \n",
    "__Space__: O(n) — hash map to store seen numbers  "
   ]
  },
  {
   "cell_type": "markdown",
   "id": "2a22a9a6",
   "metadata": {},
   "source": [
    "## Solution"
   ]
  },
  {
   "cell_type": "code",
   "execution_count": 41,
   "id": "f433bd4f",
   "metadata": {},
   "outputs": [],
   "source": [
    "function twoSum(nums: number[], target: number): number[] {\n",
    "    const map: Map<number, number> = new Map<number, number>()\n",
    "\n",
    "    for(let i = 0; i < nums.length; i++) {\n",
    "        const n: number = nums[i]\n",
    "        const compliment = target - n;\n",
    "        if (map.has(compliment)) {\n",
    "            return [map.get(compliment), i]\n",
    "        }\n",
    "        map.set(n, i)\n",
    "    }\n",
    "\n",
    "    return []\n",
    "};\n"
   ]
  },
  {
   "cell_type": "markdown",
   "id": "0cea00b1",
   "metadata": {},
   "source": [
    "## Test Cases"
   ]
  },
  {
   "cell_type": "code",
   "execution_count": 42,
   "id": "bf690382",
   "metadata": {},
   "outputs": [
    {
     "name": "stdout",
     "output_type": "stream",
     "text": [
      "twoSum - basic positive numbers ... \u001b[0m\u001b[32mok\u001b[0m \u001b[0m\u001b[38;5;245m(0ms)\u001b[0m\n",
      "twoSum - includes zero ... \u001b[0m\u001b[32mok\u001b[0m \u001b[0m\u001b[38;5;245m(0ms)\u001b[0m\n",
      "twoSum - all negative numbers ... \u001b[0m\u001b[32mok\u001b[0m \u001b[0m\u001b[38;5;245m(0ms)\u001b[0m\n",
      "twoSum - mix of positive and negative ... \u001b[0m\u001b[32mok\u001b[0m \u001b[0m\u001b[38;5;245m(0ms)\u001b[0m\n",
      "twoSum - large array ... \u001b[0m\u001b[32mok\u001b[0m \u001b[0m\u001b[38;5;245m(0ms)\u001b[0m\n",
      "\n",
      "\u001b[0m\u001b[32mok\u001b[0m | 5 passed | 0 failed \u001b[0m\u001b[38;5;245m(1ms)\u001b[0m\n"
     ]
    }
   ],
   "source": [
    "import { assertEquals } from \"jsr:@std/assert\";\n",
    "\n",
    "function sorted(a: [number, number]): [number, number] {\n",
    "  return a[0] < a[1] ? a : [a[1], a[0]];\n",
    "}\n",
    "\n",
    "Deno.test(\"twoSum - basic positive numbers\", () => {\n",
    "  const nums = [2, 7, 11, 15];\n",
    "  const target = 9;\n",
    "  const result = sorted(twoSum(nums, target));\n",
    "  const expected: [number, number] = sorted([0, 1]);\n",
    "  assertEquals(result, expected);\n",
    "});\n",
    "\n",
    "Deno.test(\"twoSum - includes zero\", () => {\n",
    "  const nums = [0, 4, 3, 0];\n",
    "  const target = 0;\n",
    "  const result = sorted(twoSum(nums, target));\n",
    "  const expected: [number, number] = sorted([0, 3]);\n",
    "  assertEquals(result, expected);\n",
    "});\n",
    "\n",
    "Deno.test(\"twoSum - all negative numbers\", () => {\n",
    "  const nums = [-5, -2, -3, -7];\n",
    "  const target = -10;\n",
    "  const result = sorted(twoSum(nums, target));\n",
    "  const expected: [number, number] = sorted([2, 3]);\n",
    "  assertEquals(result, expected);\n",
    "});\n",
    "\n",
    "Deno.test(\"twoSum - mix of positive and negative\", () => {\n",
    "  const nums = [10, -3, 4, 6, 9];\n",
    "  const target = 6;\n",
    "  const result = sorted(twoSum(nums, target));\n",
    "  const expected: [number, number] = sorted([1, 4]);\n",
    "  assertEquals(result, expected);\n",
    "});\n",
    "\n",
    "Deno.test(\"twoSum - large array\", () => {\n",
    "  const nums = Array.from({ length: 10000 }, (_, i) => i);\n",
    "  const target = 9999;\n",
    "  const result = sorted(twoSum(nums, target));\n",
    "  const expected: [number, number] = sorted([4999, 5000]);\n",
    "  assertEquals(result, expected);\n",
    "});"
   ]
  },
  {
   "cell_type": "code",
   "execution_count": null,
   "id": "7c0446b7",
   "metadata": {},
   "outputs": [],
   "source": []
  }
 ],
 "metadata": {
  "kernelspec": {
   "display_name": "Deno",
   "language": "typescript",
   "name": "deno"
  },
  "language_info": {
   "codemirror_mode": "typescript",
   "file_extension": ".ts",
   "mimetype": "text/x.typescript",
   "name": "typescript",
   "nbconvert_exporter": "script",
   "pygments_lexer": "typescript",
   "version": "5.8.3"
  }
 },
 "nbformat": 4,
 "nbformat_minor": 5
}
