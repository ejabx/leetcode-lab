{
  "cells": [
    {
      "cell_type": "markdown",
      "metadata": {
        "tags": [
          "Depth-First Search",
          "Breadth-First Search",
          "Graph",
          "Topological Sort"
        ]
      },
      "source": [
        "# [Course Schedule](https://leetcode.com/problems/course-schedule)\n",
        "\n"
      ]
    },
    {
      "cell_type": "markdown",
      "metadata": {},
      "source": [
        "## Description  \n",
        "Determine if it's possible to finish all courses given their prerequisites.\n",
        "\n"
      ]
    },
    {
      "cell_type": "markdown",
      "metadata": {},
      "source": [
        "## Strategy  \n",
        "Use [topological sorting](../resources/topological-sorting.ipynb) (BFS with in-degree or DFS with cycle detection) to detect if a cycle exists in the dependency graph.\n",
        "\n"
      ]
    },
    {
      "cell_type": "code",
      "execution_count": 1,
      "metadata": {},
      "outputs": [],
      "source": [
        "export function canFinish(numCourses: number, prerequisites: number[][]): boolean {\n",
        "  const graph: Map<number, number[]> = new Map()\n",
        "\n",
        "   for (const [course, prereq] of prerequisites) {\n",
        "      if (!graph.has(prereq)) graph.set(prereq, []);\n",
        "      graph.get(prereq)!.push(course);\n",
        "  }\n",
        "\n",
        "  console.log(graph)\n",
        "  const Visited = {\n",
        "    WHITE: 0,\n",
        "    GREY: 1,\n",
        "    BLACK: 2\n",
        "  };\n",
        "\n",
        "  const status: number[] = new Array(numCourses).fill(Visited.WHITE)\n",
        "\n",
        "  function dfs(node: number): boolean {\n",
        "    if (status[node] === Visited.BLACK) return true\n",
        "    if (status[node] === Visited.GREY) return false\n",
        "\n",
        "    status[node] = Visited.GREY\n",
        "\n",
        "    for(const neighbor of graph.get(node) || []) {\n",
        "      if (!dfs(neighbor)) return false\n",
        "    }\n",
        "\n",
        "    status[node] = Visited.BLACK\n",
        "    return true\n",
        "  }\n",
        "\n",
        "  for(let course = 0; course < numCourses; course++) {\n",
        "    if (status[course] === Visited.WHITE && !dfs(course)) return false\n",
        "  }\n",
        "\n",
        "  return true\n",
        "}"
      ]
    },
    {
      "cell_type": "code",
      "execution_count": 2,
      "metadata": {},
      "outputs": [
        {
          "name": "stdout",
          "output_type": "stream",
          "text": [
            "canFinish - no prerequisites ...Map(0) {}\n",
            " \u001b[0m\u001b[32mok\u001b[0m \u001b[0m\u001b[38;5;245m(2ms)\u001b[0m\n",
            "canFinish - simple cycle ...Map(2) { 0 => [ 1 ], 1 => [ 0 ] }\n",
            " \u001b[0m\u001b[32mok\u001b[0m \u001b[0m\u001b[38;5;245m(0ms)\u001b[0m\n",
            "canFinish - acyclic graph ...Map(3) { 0 => [ 1 ], 1 => [ 2 ], 2 => [ 3 ] }\n",
            " \u001b[0m\u001b[32mok\u001b[0m \u001b[0m\u001b[38;5;245m(0ms)\u001b[0m\n",
            "canFinish - complex cycle ...Map(3) { 1 => [ 0 ], 2 => [ 1 ], 0 => [ 2 ] }\n",
            " \u001b[0m\u001b[32mok\u001b[0m \u001b[0m\u001b[38;5;245m(0ms)\u001b[0m\n",
            "canFinish - disconnected components ...Map(2) { 0 => [ 1 ], 4 => [ 3 ] }\n",
            " \u001b[0m\u001b[32mok\u001b[0m \u001b[0m\u001b[38;5;245m(0ms)\u001b[0m\n",
            "\n",
            "\u001b[0m\u001b[32mok\u001b[0m | 5 passed | 0 failed \u001b[0m\u001b[38;5;245m(3ms)\u001b[0m\n"
          ]
        }
      ],
      "source": [
        "import { assertEquals } from \"https://deno.land/std/testing/asserts.ts\";\n",
        "\n",
        "Deno.test(\"canFinish - no prerequisites\", () => {\n",
        "  assertEquals(canFinish(2, []), true);\n",
        "});\n",
        "\n",
        "Deno.test(\"canFinish - simple cycle\", () => {\n",
        "  assertEquals(canFinish(2, [[1, 0], [0, 1]]), false);\n",
        "});\n",
        "\n",
        "Deno.test(\"canFinish - acyclic graph\", () => {\n",
        "  assertEquals(canFinish(4, [[1, 0], [2, 1], [3, 2]]), true);\n",
        "});\n",
        "\n",
        "Deno.test(\"canFinish - complex cycle\", () => {\n",
        "  assertEquals(canFinish(3, [[0,1],[1,2],[2,0]]), false);\n",
        "});\n",
        "\n",
        "Deno.test(\"canFinish - disconnected components\", () => {\n",
        "  assertEquals(canFinish(5, [[1,0],[3,4]]), true);\n",
        "});\n",
        "\n"
      ]
    }
  ],
  "metadata": {
    "kernelspec": {
      "display_name": "Deno",
      "language": "typescript",
      "name": "deno"
    },
    "language_info": {
      "codemirror_mode": "typescript",
      "file_extension": ".ts",
      "mimetype": "text/x.typescript",
      "name": "typescript",
      "nbconvert_exporter": "script",
      "pygments_lexer": "typescript",
      "version": "5.8.3"
    },
    "title": "Course Schedule"
  },
  "nbformat": 4,
  "nbformat_minor": 5
}
