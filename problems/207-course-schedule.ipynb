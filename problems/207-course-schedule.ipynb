{
  "nbformat": 4,
  "nbformat_minor": 5,
  "metadata": {
    "title": "Course Schedule",
    "kernelspec": {
      "name": "deno",
      "display_name": "Deno"
    },
    "language_info": {
      "name": "typescript",
      "version": "1.0"
    }
  },
  "cells": [
    {
      "cell_type": "markdown",
      "metadata": {},
      "source": [
        "# Course Schedule  \n",
        "[LeetCode Link](https://leetcode.com/problems/course-schedule)\n",
        "\n"
      ]
    },
    {
      "cell_type": "markdown",
      "metadata": {},
      "source": [
        "## Description  \n",
        "Determine if it's possible to finish all courses given their prerequisites.\n",
        "\n"
      ]
    },
    {
      "cell_type": "markdown",
      "metadata": {},
      "source": [
        "## Strategy  \n",
        "Use topological sorting (BFS with in-degree or DFS with cycle detection) to detect if a cycle exists in the dependency graph.\n",
        "\n"
      ]
    },
    {
      "cell_type": "code",
      "metadata": {},
      "source": [
        "export function canFinish(numCourses: number, prerequisites: number[][]): boolean {\n",
        "  return false;\n",
        "}\n",
        "\n"
      ],
      "execution_count": null,
      "outputs": []
    },
    {
      "cell_type": "code",
      "metadata": {},
      "source": [
        "import { assertEquals } from \"https://deno.land/std/testing/asserts.ts\";\n",
        "\n",
        "Deno.test(\"canFinish - no prerequisites\", () => {\n",
        "  assertEquals(canFinish(2, []), true);\n",
        "});\n",
        "\n",
        "Deno.test(\"canFinish - simple cycle\", () => {\n",
        "  assertEquals(canFinish(2, [[1, 0], [0, 1]]), false);\n",
        "});\n",
        "\n",
        "Deno.test(\"canFinish - acyclic graph\", () => {\n",
        "  assertEquals(canFinish(4, [[1, 0], [2, 1], [3, 2]]), true);\n",
        "});\n",
        "\n",
        "Deno.test(\"canFinish - complex cycle\", () => {\n",
        "  assertEquals(canFinish(3, [[0,1],[1,2],[2,0]]), false);\n",
        "});\n",
        "\n",
        "Deno.test(\"canFinish - disconnected components\", () => {\n",
        "  assertEquals(canFinish(5, [[1,0],[3,4]]), true);\n",
        "});\n",
        "\n"
      ],
      "execution_count": null,
      "outputs": []
    }
  ]
}