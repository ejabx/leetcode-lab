{
  "cells": [
    {
      "cell_type": "markdown",
      "metadata": {},
      "source": [
        "# [Best Time to Buy and Sell Stock](https://leetcode.com/problems/best-time-to-buy-and-sell-stock)\n",
        "## Description  \n",
        "Determine the maximum profit you can achieve from a single buy and a single sell, given a list of stock prices over time.\n",
        "## Strategy  \n",
        "Use a single-pass approach to track the minimum price so far and update the max profit as you go.\n",
        "\n"
      ]
    },
    {
      "cell_type": "code",
      "execution_count": 3,
      "metadata": {},
      "outputs": [],
      "source": [
        "export function maxProfit(prices: number[]): number {\n",
        "    let profit: number = 0\n",
        "    let lowest: number = Infinity\n",
        "\n",
        "    for(let i = 0; i < prices.length; i++) {\n",
        "        const price: number = prices[i]\n",
        "\n",
        "        lowest = Math.min(lowest, price)\n",
        "        profit = Math.max(profit, price - lowest)\n",
        "    }\n",
        "\n",
        "    return profit\n",
        "}\n",
        "\n"
      ]
    },
    {
      "cell_type": "code",
      "execution_count": 4,
      "metadata": {},
      "outputs": [
        {
          "name": "stdout",
          "output_type": "stream",
          "text": [
            "maxProfit basic ... \u001b[0m\u001b[32mok\u001b[0m \u001b[0m\u001b[38;5;245m(0ms)\u001b[0m\n",
            "maxProfit no profit ... \u001b[0m\u001b[32mok\u001b[0m \u001b[0m\u001b[38;5;245m(0ms)\u001b[0m\n",
            "maxProfit single day ... \u001b[0m\u001b[32mok\u001b[0m \u001b[0m\u001b[38;5;245m(0ms)\u001b[0m\n",
            "maxProfit empty ... \u001b[0m\u001b[32mok\u001b[0m \u001b[0m\u001b[38;5;245m(0ms)\u001b[0m\n",
            "\n",
            "\u001b[0m\u001b[32mok\u001b[0m | 4 passed | 0 failed \u001b[0m\u001b[38;5;245m(1ms)\u001b[0m\n"
          ]
        }
      ],
      "source": [
        "import { assertEquals } from \"https://deno.land/std/testing/asserts.ts\";\n",
        "\n",
        "Deno.test(\"maxProfit basic\", () => {\n",
        "  assertEquals(maxProfit([7,1,5,3,6,4]), 5);\n",
        "});\n",
        "\n",
        "Deno.test(\"maxProfit no profit\", () => {\n",
        "  assertEquals(maxProfit([7,6,4,3,1]), 0);\n",
        "});\n",
        "\n",
        "Deno.test(\"maxProfit single day\", () => {\n",
        "  assertEquals(maxProfit([5]), 0);\n",
        "});\n",
        "\n",
        "Deno.test(\"maxProfit empty\", () => {\n",
        "  assertEquals(maxProfit([]), 0);\n",
        "})\n",
        "\n"
      ]
    }
  ],
  "metadata": {
    "kernelspec": {
      "display_name": "Deno",
      "language": "typescript",
      "name": "deno"
    },
    "language_info": {
      "codemirror_mode": "typescript",
      "file_extension": ".ts",
      "mimetype": "text/x.typescript",
      "name": "typescript",
      "nbconvert_exporter": "script",
      "pygments_lexer": "typescript",
      "version": "5.8.3"
    },
    "title": "Best Time to Buy and Sell Stock"
  },
  "nbformat": 4,
  "nbformat_minor": 5
}
