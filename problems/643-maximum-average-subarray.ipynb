{
 "cells": [
  {
   "cell_type": "markdown",
   "id": "ac10abd7",
   "metadata": {
    "tags": [
     "Array",
     "Sliding Window"
    ]
   },
   "source": [
    "# [Maximum Average Subarray I](https://leetcode.com/problems/maximum-average-subarray-i/description/)\n",
    "\n",
    "Given an array of integers `nums` and an integer `k`, find the __maximum average value__ of any contiguous subarray of length `k`.\n",
    "\n",
    "Return the answer as a floating-point number.\n",
    "The subarray must have exactly `k` elements.\n",
    "You must maintain __precision__ for fractional averages.\n",
    "\n",
    "\n",
    "## Strategy\n",
    "\n",
    "Use the [static sliding window](https://www.youtube.com/watch?v=GaXwHThEgGk) technique:\n",
    "\n",
    "1. Use the sliding window technique to maintain the sum of a subarray of length k.\n",
    "2. Start by calculating the sum of the first k elements.\n",
    "3a. Then slide the window across the array:\n",
    "3b. Subtract the element going out.\n",
    "3c. Add the new element coming in.\n",
    "3d. Track the maximum average seen.\n",
    "\n",
    "__Time__: O(n) — each character is visited at most twice  \n",
    "__Space__: O(1) — Just a few variables for sum and max.\n",
    "\n",
    "<img src=\"https://miro.medium.com/v2/resize:fit:720/format:webp/1*lcfE6u6wcUj7qxVY34Zidw.gif\" width=\"200\" />\n"
   ]
  },
  {
   "cell_type": "markdown",
   "id": "3e85fa96",
   "metadata": {},
   "source": [
    "## Solution"
   ]
  },
  {
   "cell_type": "code",
   "execution_count": null,
   "id": "f683eca9",
   "metadata": {},
   "outputs": [],
   "source": [
    "function findMaxAverage(nums: number[], k: number): number {\n",
    "  let maxAvg = -Infinity;\n",
    "  let curSum = 0;\n",
    "\n",
    "  for(let i = 0; i < k; i++) {\n",
    "    curSum += nums[i]\n",
    "  }\n",
    "\n",
    "  maxAvg = curSum / k\n",
    "\n",
    "  for(let i = k; i < nums.length; i++) {\n",
    "    curSum -= nums[i - k]\n",
    "    curSum += nums[i]\n",
    "    maxAvg = Math.max(maxAvg, curSum / k)\n",
    "  }\n",
    "\n",
    "  return maxAvg\n",
    "};"
   ]
  },
  {
   "cell_type": "markdown",
   "id": "62931645",
   "metadata": {},
   "source": [
    "## Test Cases"
   ]
  },
  {
   "cell_type": "code",
   "execution_count": 10,
   "id": "1e1219a3",
   "metadata": {},
   "outputs": [
    {
     "name": "stdout",
     "output_type": "stream",
     "text": [
      "findMaxAverage - increasing array ... \u001b[0m\u001b[32mok\u001b[0m \u001b[0m\u001b[38;5;245m(0ms)\u001b[0m\n",
      "findMaxAverage - all negatives ... \u001b[0m\u001b[32mok\u001b[0m \u001b[0m\u001b[38;5;245m(0ms)\u001b[0m\n",
      "findMaxAverage - mix of pos and neg ... \u001b[0m\u001b[32mok\u001b[0m \u001b[0m\u001b[38;5;245m(0ms)\u001b[0m\n",
      "findMaxAverage - k equals array length ... \u001b[0m\u001b[32mok\u001b[0m \u001b[0m\u001b[38;5;245m(0ms)\u001b[0m\n",
      "findMaxAverage - repeating pattern ... \u001b[0m\u001b[32mok\u001b[0m \u001b[0m\u001b[38;5;245m(0ms)\u001b[0m\n",
      "findMaxAverage - single element window ... \u001b[0m\u001b[32mok\u001b[0m \u001b[0m\u001b[38;5;245m(0ms)\u001b[0m\n",
      "findMaxAverage - zeroes in array ... \u001b[0m\u001b[32mok\u001b[0m \u001b[0m\u001b[38;5;245m(0ms)\u001b[0m\n",
      "\n",
      "\u001b[0m\u001b[32mok\u001b[0m | 7 passed | 0 failed \u001b[0m\u001b[38;5;245m(1ms)\u001b[0m\n"
     ]
    }
   ],
   "source": [
    "import { assertAlmostEquals } from \"jsr:@std/assert\";\n",
    "\n",
    "// Helper for floating point comparisons\n",
    "function check(result: number, expected: number, message = \"\") {\n",
    "  assertAlmostEquals(result, expected, 1e-5, message);\n",
    "}\n",
    "\n",
    "Deno.test(\"findMaxAverage - increasing array\", () => {\n",
    "  check(findMaxAverage([1, 2, 3, 4, 5], 2), 4.5);\n",
    "});\n",
    "\n",
    "Deno.test(\"findMaxAverage - all negatives\", () => {\n",
    "  check(findMaxAverage([-5, -3, -4, -2, -1], 3), -2.33333);\n",
    "});\n",
    "\n",
    "Deno.test(\"findMaxAverage - mix of pos and neg\", () => {\n",
    "  check(findMaxAverage([1, 12, -5, -6, 50, 3], 4), 12.75);\n",
    "});\n",
    "\n",
    "Deno.test(\"findMaxAverage - k equals array length\", () => {\n",
    "  check(findMaxAverage([4, 0, -2, 7], 4), 2.25);\n",
    "});\n",
    "\n",
    "Deno.test(\"findMaxAverage - repeating pattern\", () => {\n",
    "  check(findMaxAverage([2, 1, 2, 1, 2, 1], 2), 1.5);\n",
    "});\n",
    "\n",
    "Deno.test(\"findMaxAverage - single element window\", () => {\n",
    "  check(findMaxAverage([1, 3, 7, 2, 9], 1), 9);\n",
    "});\n",
    "\n",
    "Deno.test(\"findMaxAverage - zeroes in array\", () => {\n",
    "  check(findMaxAverage([0, 0, 0, 5, 0, 0], 2), 2.5);\n",
    "});\n"
   ]
  },
  {
   "cell_type": "code",
   "execution_count": null,
   "id": "fad6a823",
   "metadata": {},
   "outputs": [],
   "source": []
  }
 ],
 "metadata": {
  "kernelspec": {
   "display_name": "Deno",
   "language": "typescript",
   "name": "deno"
  },
  "language_info": {
   "codemirror_mode": "typescript",
   "file_extension": ".ts",
   "mimetype": "text/x.typescript",
   "name": "typescript",
   "nbconvert_exporter": "script",
   "pygments_lexer": "typescript",
   "version": "5.8.3"
  }
 },
 "nbformat": 4,
 "nbformat_minor": 5
}
