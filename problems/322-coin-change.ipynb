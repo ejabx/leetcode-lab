{
  "cells": [
    {
      "cell_type": "markdown",
      "metadata": {},
      "source": [
        "# [Coin Change](https://leetcode.com/problems/coin-change/)\n",
        "\n",
        "Given a set of coin denominations and a target amount, determine the minimum number of coins required to make up that amount.  \n",
        "If it's not possible to form the amount with the given coins, return -1.\n",
        "\n",
        "## [Strategy](https://www.youtube.com/watch?v=koE9ly1CFDc)\n",
        "\n",
        "This is a classic [dynamic programming](../resources/dynamic-programming.ipynb) problem. You can approach it in multiple ways:\n",
        "\n",
        "- **Bottom-Up DP (Tabulation):** Build up a solution iteratively.\n",
        "- **Top-Down DP (Memoization):** Solve recursively and cache subproblem results.\n",
        "\n"
      ]
    },
    {
      "cell_type": "markdown",
      "metadata": {},
      "source": [
        "## Bottom-Up DP (Tabulation)\n",
        "\n",
        "- Use a DP array `dp[i]` where `i` is the current amount and `dp[i]` is the fewest coins needed.\n",
        "- Initialize `dp[0] = 0` and all other entries to `Infinity`.\n",
        "- For each coin and for each amount from the coin's value up to the target, update:\n",
        "  ```ts\n",
        "  dp[i] = Math.min(dp[i], dp[i - coin] + 1);\n",
        "  ```\n",
        "- Return `dp[amount]` if it's not `Infinity`, otherwise `-1`.\n",
        "\n",
        "**Time complexity:** O(amount × number of coins)  \n",
        "**Space complexity:** O(amount)\n",
        "\n"
      ]
    },
    {
      "cell_type": "code",
      "execution_count": 58,
      "metadata": {},
      "outputs": [],
      "source": [
        "export function coinChange(coins: number[], amount: number): number {\n",
        "  const dp = new Array(amount + 1).fill(Infinity);\n",
        "  dp[0] = 0;\n",
        "\n",
        "  for (const coin of coins) {\n",
        "    for (let i = coin; i <= amount; i++) {\n",
        "      dp[i] = Math.min(dp[i], dp[i - coin] + 1);\n",
        "    }\n",
        "  }\n",
        "\n",
        "  return dp[amount] === Infinity ? -1 : dp[amount];\n",
        "}\n",
        "\n"
      ]
    },
    {
      "cell_type": "markdown",
      "metadata": {},
      "source": [
        "## Top-Down DP (Memoization)\n",
        "\n",
        "- Use recursion to try every combination.\n",
        "- Cache results with memoization to avoid redundant computation.\n",
        "- Base case: if amount is 0, return 0.\n",
        "- If no combination leads to a solution, return -1.\n",
        "\n",
        "**Time complexity:** O(amount × number of coins)  \n",
        "**Space complexity:** O(amount)\n",
        "\n"
      ]
    },
    {
      "cell_type": "code",
      "execution_count": 59,
      "metadata": {},
      "outputs": [],
      "source": [
        "export function coinChangeMemo(coins: number[], amount: number): number {\n",
        "  const memo = new Map<number, number>();\n",
        "  // base cases\n",
        "  memo.set(0, 0)\n",
        "  \n",
        "  function mincoin(rem: number): number {\n",
        "    if (rem < 0) return Infinity;\n",
        "    if (memo.has(rem)) return memo.get(rem)!;\n",
        "\n",
        "    let min = Infinity;\n",
        "    for (const coin of coins) {\n",
        "      min = Math.min(min, 1 + mincoin(rem - coin));\n",
        "    }\n",
        "\n",
        "    memo.set(rem, min);\n",
        "    return min;\n",
        "  }\n",
        "\n",
        "  const res = mincoin(amount);\n",
        "  return res === Infinity ? -1 : res;\n",
        "}\n",
        "\n"
      ]
    },
    {
      "cell_type": "markdown",
      "metadata": {},
      "source": [
        "## Test Cases\n",
        "\n"
      ]
    },
    {
      "cell_type": "code",
      "execution_count": 60,
      "metadata": {},
      "outputs": [
        {
          "name": "stdout",
          "output_type": "stream",
          "text": [
            "Bottom-Up: 1,2,5 → 11 ... \u001b[0m\u001b[32mok\u001b[0m \u001b[0m\u001b[38;5;245m(0ms)\u001b[0m\n",
            "Top-Down: 1,2,5 → 11 ... \u001b[0m\u001b[32mok\u001b[0m \u001b[0m\u001b[38;5;245m(0ms)\u001b[0m\n",
            "Bottom-Up: 2 → 3 ... \u001b[0m\u001b[32mok\u001b[0m \u001b[0m\u001b[38;5;245m(0ms)\u001b[0m\n",
            "Top-Down: 2 → 3 ... \u001b[0m\u001b[32mok\u001b[0m \u001b[0m\u001b[38;5;245m(0ms)\u001b[0m\n",
            "Bottom-Up: 3 → 3 ... \u001b[0m\u001b[32mok\u001b[0m \u001b[0m\u001b[38;5;245m(0ms)\u001b[0m\n",
            "Top-Down: 3 → 3 ... \u001b[0m\u001b[32mok\u001b[0m \u001b[0m\u001b[38;5;245m(0ms)\u001b[0m\n",
            "Bottom-Up: 5,2,1 → 7 ... \u001b[0m\u001b[32mok\u001b[0m \u001b[0m\u001b[38;5;245m(0ms)\u001b[0m\n",
            "Top-Down: 5,2,1 → 7 ... \u001b[0m\u001b[32mok\u001b[0m \u001b[0m\u001b[38;5;245m(0ms)\u001b[0m\n",
            "Bottom-Up: 1,2,5 → 0 ... \u001b[0m\u001b[32mok\u001b[0m \u001b[0m\u001b[38;5;245m(0ms)\u001b[0m\n",
            "Top-Down: 1,2,5 → 0 ... \u001b[0m\u001b[32mok\u001b[0m \u001b[0m\u001b[38;5;245m(0ms)\u001b[0m\n",
            "Bottom-Up: 7,14 → 49 ... \u001b[0m\u001b[32mok\u001b[0m \u001b[0m\u001b[38;5;245m(0ms)\u001b[0m\n",
            "Top-Down: 7,14 → 49 ... \u001b[0m\u001b[32mok\u001b[0m \u001b[0m\u001b[38;5;245m(0ms)\u001b[0m\n",
            "Bottom-Up: 10 → 5 ... \u001b[0m\u001b[32mok\u001b[0m \u001b[0m\u001b[38;5;245m(0ms)\u001b[0m\n",
            "Top-Down: 10 → 5 ... \u001b[0m\u001b[32mok\u001b[0m \u001b[0m\u001b[38;5;245m(0ms)\u001b[0m\n",
            "Bottom-Up: 1,3,4 → 6 ... \u001b[0m\u001b[32mok\u001b[0m \u001b[0m\u001b[38;5;245m(0ms)\u001b[0m\n",
            "Top-Down: 1,3,4 → 6 ... \u001b[0m\u001b[32mok\u001b[0m \u001b[0m\u001b[38;5;245m(0ms)\u001b[0m\n",
            "\n",
            "\u001b[0m\u001b[32mok\u001b[0m | 16 passed | 0 failed \u001b[0m\u001b[38;5;245m(1ms)\u001b[0m\n"
          ]
        }
      ],
      "source": [
        "import { assertEquals } from \"https://deno.land/std/testing/asserts.ts\";\n",
        "\n",
        "const cases = [\n",
        "  { coins: [1, 2, 5], amount: 11, expected: 3 },\n",
        "  { coins: [2], amount: 3, expected: -1 },\n",
        "  { coins: [3], amount: 3, expected: 1 },\n",
        "  { coins: [5, 2, 1], amount: 7, expected: 2 },\n",
        "  { coins: [1, 2, 5], amount: 0, expected: 0 },\n",
        "  { coins: [7, 14], amount: 49, expected: 4 },\n",
        "  { coins: [10], amount: 5, expected: -1 },\n",
        "  { coins: [1, 3, 4], amount: 6, expected: 2 },\n",
        "];\n",
        "\n",
        "for (const { coins, amount, expected } of cases) {\n",
        "  Deno.test(`Bottom-Up: ${coins} → ${amount}`, () => {\n",
        "    assertEquals(coinChange(coins, amount), expected);\n",
        "  });\n",
        "  Deno.test(`Top-Down: ${coins} → ${amount}`, () => {\n",
        "    assertEquals(coinChangeMemo(coins, amount), expected);\n",
        "  });\n",
        "}\n",
        "\n"
      ]
    }
  ],
  "metadata": {
    "kernelspec": {
      "display_name": "Deno",
      "language": "typescript",
      "name": "deno"
    },
    "language_info": {
      "codemirror_mode": "typescript",
      "file_extension": ".ts",
      "mimetype": "text/x.typescript",
      "name": "typescript",
      "nbconvert_exporter": "script",
      "pygments_lexer": "typescript",
      "version": "5.8.3"
    },
    "title": "Coin Change"
  },
  "nbformat": 4,
  "nbformat_minor": 5
}
