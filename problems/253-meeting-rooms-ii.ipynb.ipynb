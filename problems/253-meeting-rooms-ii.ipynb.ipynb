{
  "nbformat": 4,
  "nbformat_minor": 5,
  "metadata": {
    "title": "Meeting Rooms II",
    "kernelspec": {
      "name": "deno",
      "display_name": "Deno"
    },
    "language_info": {
      "name": "typescript",
      "version": "1.0"
    }
  },
  "cells": [
    {
      "cell_type": "markdown",
      "metadata": {},
      "source": [
        "# [Meeting Rooms II](https://leetcode.com/problems/meeting-rooms-ii/)\n",
        "## Description\n",
        "Find the minimum number of conference rooms required to hold all meetings given as time intervals.\n",
        "## Strategy\n",
        "Sort start and end times separately and use a two-pointer scan to track overlap.\n",
        "\n"
      ]
    },
    {
      "cell_type": "code",
      "metadata": {},
      "source": [
        "export function minMeetingRooms(intervals: number[][]): number {\n",
        "  return 0;\n",
        "}\n",
        "\n"
      ],
      "execution_count": null,
      "outputs": []
    },
    {
      "cell_type": "code",
      "metadata": {},
      "source": [
        "import { assertEquals } from \"https://deno.land/std/testing/asserts.ts\";\n",
        "\n",
        "Deno.test(\"Meeting Rooms - Overlap\", () => {\n",
        "  assertEquals(minMeetingRooms([[0,30],[5,10],[15,20]]), 2);\n",
        "});\n",
        "\n",
        "Deno.test(\"Meeting Rooms - No Overlap\", () => {\n",
        "  assertEquals(minMeetingRooms([[7,10],[2,4]]), 1);\n",
        "});\n",
        "\n"
      ],
      "execution_count": null,
      "outputs": []
    }
  ]
}