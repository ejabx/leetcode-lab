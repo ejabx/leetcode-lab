{
  "nbformat": 4,
  "nbformat_minor": 5,
  "metadata": {
    "title": "Implement Trie (Prefix Tree)",
    "kernelspec": {
      "name": "deno",
      "display_name": "Deno"
    },
    "language_info": {
      "name": "typescript",
      "version": "1.0"
    }
  },
  "cells": [
    {
      "cell_type": "markdown",
      "metadata": {},
      "source": [
        "# [Implement Trie (Prefix Tree)](https://leetcode.com/problems/implement-trie-prefix-tree)\n",
        "## Description  \n",
        "Design a Trie data structure to insert words, search for exact matches, and check prefixes.\n",
        "## Strategy  \n",
        "Use nested hash maps (objects) or a class-based tree structure to represent nodes with character keys.\n",
        "\n"
      ]
    },
    {
      "cell_type": "code",
      "metadata": {},
      "source": [
        "export class Trie {\n",
        "  constructor() {}\n",
        "\n",
        "  insert(word: string): void {}\n",
        "\n",
        "  search(word: string): boolean {\n",
        "    return false;\n",
        "  }\n",
        "\n",
        "  startsWith(prefix: string): boolean {\n",
        "    return false;\n",
        "  }\n",
        "}\n",
        "\n"
      ],
      "execution_count": null,
      "outputs": []
    },
    {
      "cell_type": "code",
      "metadata": {},
      "source": [
        "import { assertEquals } from \"https://deno.land/std/testing/asserts.ts\";\n",
        "\n",
        "Deno.test(\"Trie basic operations\", () => {\n",
        "  const trie = new Trie();\n",
        "  trie.insert(\"apple\");\n",
        "  assertEquals(trie.search(\"apple\"), true);\n",
        "  assertEquals(trie.search(\"app\"), false);\n",
        "  assertEquals(trie.startsWith(\"app\"), true);\n",
        "  trie.insert(\"app\");\n",
        "  assertEquals(trie.search(\"app\"), true);\n",
        "});\n",
        "\n"
      ],
      "execution_count": null,
      "outputs": []
    }
  ]
}