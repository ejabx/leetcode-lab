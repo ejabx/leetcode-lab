{
  "cells": [
    {
      "cell_type": "markdown",
      "metadata": {},
      "source": [
        "# [Construct Binary Tree from Preorder and Inorder Traversal](https://leetcode.com/problems/construct-binary-tree-from-preorder-and-inorder-traversal/)\n",
        "## Description\n",
        "Build a binary tree from preorder and inorder traversal arrays.\n",
        "## Strategy\n",
        "Use recursion and map of inorder indexes. Reconstruct root from preorder and partition in inorder.\n",
        "\n"
      ]
    },
    {
      "cell_type": "code",
      "execution_count": null,
      "id": "c293f165",
      "metadata": {},
      "outputs": [],
      "source": [
        "export class TreeNode {\n",
        "  val: number;\n",
        "  left: TreeNode | null;\n",
        "  right: TreeNode | null;\n",
        "  constructor(val?: number, left?: TreeNode | null, right?: TreeNode | null) {\n",
        "    this.val = val === undefined ? 0 : val;\n",
        "    this.left = left ?? null;\n",
        "    this.right = right ?? null;\n",
        "  }\n",
        "}\n",
        "\n",
        "export function buildTree(preorder: number[], inorder: number[]): TreeNode | null {\n",
        "  return null;\n",
        "}\n",
        "\n"
      ]
    },
    {
      "cell_type": "code",
      "execution_count": null,
      "metadata": {},
      "outputs": [],
      "source": [
        "import { assertEquals } from \"https://deno.land/std/testing/asserts.ts\";\n",
        "\n",
        "Deno.test(\"Build Tree - Basic\", () => {\n",
        "  const res = buildTree([3,9,20,15,7], [9,3,15,20,7]);\n",
        "  assertEquals(res?.val, 3);\n",
        "});\n",
        "\n"
      ]
    }
  ],
  "metadata": {
    "kernelspec": {
      "display_name": "Deno",
      "name": "deno"
    },
    "language_info": {
      "name": "typescript",
      "version": "1.0"
    },
    "title": "Construct Binary Tree from Preorder and Inorder Traversal"
  },
  "nbformat": 4,
  "nbformat_minor": 5
}
