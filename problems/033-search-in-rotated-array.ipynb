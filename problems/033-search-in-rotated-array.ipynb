{
  "cells": [
    {
      "cell_type": "markdown",
      "metadata": {
        "tags": [
          "Array",
          "Binary Search"
        ]
      },
      "source": [
        "# [Search in Rotated Sorted Array](https://leetcode.com/problems/search-in-rotated-sorted-array/)\n",
        "## Strategy\n",
        "Binary search with rotation logic.\n",
        "\n"
      ]
    },
    {
      "cell_type": "markdown",
      "metadata": {},
      "source": [
        "# Solution"
      ]
    },
    {
      "cell_type": "code",
      "execution_count": null,
      "metadata": {},
      "outputs": [],
      "source": [
        "function search(nums: number[], target: number): number {\n",
        "\n",
        "}"
      ]
    },
    {
      "cell_type": "markdown",
      "metadata": {},
      "source": [
        "# Test Cases"
      ]
    },
    {
      "cell_type": "code",
      "execution_count": null,
      "metadata": {},
      "outputs": [],
      "source": [
        "import { assertEquals } from \"https://deno.land/std/testing/asserts.ts\";\n",
        "\n",
        "Deno.test(\"Rotated search - Found\", () => {\n",
        "  const index = search([4,5,6,7,0,1,2], 0);\n",
        "  if (index !== 4) throw new Error(\"Expected 4\");\n",
        "});\n",
        "\n",
        "Deno.test(\"Rotated search - Not found\", () => {\n",
        "  const index = search([4,5,6,7,0,1,2], 3);\n",
        "  if (index !== -1) throw new Error(\"Expected -1\");\n",
        "});\n",
        "\n",
        "Deno.test(\"Rotated search - Single element match\", () => {\n",
        "  const index = search([1], 1);\n",
        "  if (index !== 0) throw new Error(\"Expected 0\");\n",
        "});\n",
        "\n",
        "Deno.test(\"Rotated search - Single element no match\", () => {\n",
        "  const index = search([1], 0);\n",
        "  if (index !== -1) throw new Error(\"Expected -1\");\n",
        "});"
      ]
    }
  ],
  "metadata": {
    "author": "Me",
    "kernelspec": {
      "display_name": "TypeScript",
      "language": "TypeScript",
      "name": "typescript"
    },
    "title": "Search in Rotated Sorted Array"
  },
  "nbformat": 4,
  "nbformat_minor": 2
}
