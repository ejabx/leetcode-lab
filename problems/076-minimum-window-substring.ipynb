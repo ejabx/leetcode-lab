{
 "cells": [
  {
   "cell_type": "markdown",
   "id": "a5bcd663",
   "metadata": {
    "tags": [
     "Array",
     "Two Pointers",
     "Sorting"
    ]
   },
   "source": [
    "# [Minimum Window Substring](https://leetcode.com/problems/minimum-window-substring/description/)\n",
    "\n",
    "Given two strings `s` and `t`, return the __minimum substring__ of `s` that contains all characters of `t` (including duplicates). If no such substring exists, return an empty string.\n",
    "\n",
    "## Strategy\n",
    "\n",
    "1. Use a sliding window with two pointers (left, right).\n",
    "2. Count characters from t in a hash map (need).\n",
    "3. Expand right until a valid window is formed.\n",
    "4. Shrink left while keeping the window valid to find the minimum.\n",
    "5. Track the best window seen so far.\n",
    "\n",
    "__Time__: O(n) — each character is visited at most twice   \n",
    "__Space__: O(1) — (because alphabet size is bounded)  "
   ]
  },
  {
   "cell_type": "markdown",
   "id": "4e451c00",
   "metadata": {},
   "source": [
    "## Solution"
   ]
  },
  {
   "cell_type": "code",
   "execution_count": 9,
   "id": "a9813dfd",
   "metadata": {},
   "outputs": [],
   "source": [
    "function minWindow(s: string, t: string): string {\n",
    "    if (!s || !t || t.length > s.length) return \"\";\n",
    "\n",
    "    const need: Map<string, number> = new Map()\n",
    "    const window: Map<string, number> = new Map()\n",
    "\n",
    "    for(const c of t) {\n",
    "        need.set(c, (need.get(c) ?? 0) + 1)\n",
    "    }\n",
    "\n",
    "    let have = 0\n",
    "    const needSize = need.size\n",
    "    let result: [number, number] = [null, null]\n",
    "    let minLen = Infinity\n",
    "\n",
    "    let left = 0\n",
    "\n",
    "    for(let right = 0; right < s.length; right++) {\n",
    "        const rchar = s[right]\n",
    "        window.set(rchar, (window.get(rchar) ?? 0) + 1)\n",
    "        if (need.has(rchar) && window.get(rchar) === need.get(rchar)) {\n",
    "            have++\n",
    "        }\n",
    "\n",
    "        // Try to shrink the window from the left\n",
    "        while (have === needSize) {\n",
    "            // Update results if smaller window is found\n",
    "            if ((right - left + 1) < minLen) {\n",
    "                result = [left, right]\n",
    "                minLen = right - left + 1\n",
    "            }\n",
    "\n",
    "            // Shrink the window\n",
    "            const lchar = s[left]\n",
    "            window.set(lchar, (window.get(lchar) ?? 0) - 1)\n",
    "\n",
    "            if (need.has(lchar) && window.get(lchar) < need.get(lchar)!) {\n",
    "                have--\n",
    "            }\n",
    "\n",
    "            left++\n",
    "        }\n",
    "    }\n",
    "\n",
    "    const [start, end] = result\n",
    "    return minLen === Infinity ? \"\" : s.substring(start, end + 1)\n",
    "};"
   ]
  },
  {
   "cell_type": "markdown",
   "id": "4b7e5051",
   "metadata": {},
   "source": [
    "## Test Cases\n",
    "_Expected to fail until Solution is solved_"
   ]
  },
  {
   "cell_type": "code",
   "execution_count": 10,
   "id": "0f55ead8",
   "metadata": {},
   "outputs": [
    {
     "name": "stdout",
     "output_type": "stream",
     "text": [
      "minWindow - full string is answer ... \u001b[0m\u001b[32mok\u001b[0m \u001b[0m\u001b[38;5;245m(0ms)\u001b[0m\n",
      "minWindow - repeated window shrinking ... \u001b[0m\u001b[32mok\u001b[0m \u001b[0m\u001b[38;5;245m(0ms)\u001b[0m\n",
      "minWindow - overlapping characters ... \u001b[0m\u001b[32mok\u001b[0m \u001b[0m\u001b[38;5;245m(0ms)\u001b[0m\n",
      "\n",
      "\u001b[0m\u001b[32mok\u001b[0m | 3 passed | 0 failed \u001b[0m\u001b[38;5;245m(0ms)\u001b[0m\n"
     ]
    }
   ],
   "source": [
    "import { assertEquals } from \"jsr:@std/assert\";\n",
    "\n",
    "Deno.test(\"minWindow - full string is answer\", () => {\n",
    "  assertEquals(minWindow(\"xyz\", \"xyz\"), \"xyz\");\n",
    "});\n",
    "\n",
    "Deno.test(\"minWindow - repeated window shrinking\", () => {\n",
    "  assertEquals(minWindow(\"aaabdabcefaecbef\", \"abc\"), \"abc\");\n",
    "});\n",
    "\n",
    "Deno.test(\"minWindow - overlapping characters\", () => {\n",
    "  assertEquals(minWindow(\"aaaabaaa\", \"aa\"), \"aa\");\n",
    "});"
   ]
  },
  {
   "cell_type": "code",
   "execution_count": null,
   "id": "25732c52",
   "metadata": {},
   "outputs": [],
   "source": []
  }
 ],
 "metadata": {
  "kernelspec": {
   "display_name": "Deno",
   "language": "typescript",
   "name": "deno"
  },
  "language_info": {
   "codemirror_mode": "typescript",
   "file_extension": ".ts",
   "mimetype": "text/x.typescript",
   "name": "typescript",
   "nbconvert_exporter": "script",
   "pygments_lexer": "typescript",
   "version": "5.8.3"
  }
 },
 "nbformat": 4,
 "nbformat_minor": 5
}
