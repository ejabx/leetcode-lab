{
  "nbformat": 4,
  "nbformat_minor": 5,
  "metadata": {
    "title": "Number of Islands II",
    "kernelspec": {
      "name": "deno",
      "display_name": "Deno"
    },
    "language_info": {
      "name": "typescript",
      "version": "1.0"
    }
  },
  "cells": [
    {
      "cell_type": "markdown",
      "metadata": {},
      "source": [
        "# [Number of Islands II](https://leetcode.com/problems/number-of-islands-ii/)\n",
        "## Description\n",
        "Given a 2D grid that starts as water, add land incrementally and return the number of islands after each addition.\n",
        "## Strategy\n",
        "Use Union Find (Disjoint Set Union) to merge land patches and count distinct roots.\n",
        "\n"
      ]
    },
    {
      "cell_type": "code",
      "metadata": {},
      "source": [
        "export function numIslands2(m: number, n: number, positions: number[][]): number[] {\n",
        "  return [];\n",
        "}\n",
        "\n"
      ],
      "execution_count": null,
      "outputs": []
    },
    {
      "cell_type": "code",
      "metadata": {},
      "source": [
        "import { assertEquals } from \"https://deno.land/std/testing/asserts.ts\";\n",
        "\n",
        "Deno.test(\"Islands II - Basic\", () => {\n",
        "  assertEquals(numIslands2(3, 3, [[0,0],[0,1],[1,2],[2,1]]), [1,1,2,3]);\n",
        "});\n",
        "\n",
        "Deno.test(\"Islands II - Merge\", () => {\n",
        "  assertEquals(numIslands2(3, 3, [[0,0],[0,1],[1,2],[1,1]]), [1,1,2,1]);\n",
        "});\n",
        "\n"
      ],
      "execution_count": null,
      "outputs": []
    }
  ]
}