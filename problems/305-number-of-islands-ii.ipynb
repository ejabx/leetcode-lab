{
  "cells": [
    {
      "cell_type": "markdown",
      "metadata": {
        "tags": [
          "Array",
          "Hash Table",
          "Union Find"
        ]
      },
      "source": [
        "# [Number of Islands II](https://leetcode.com/problems/number-of-islands-ii/)\n",
        "## Description\n",
        "Given a 2D grid that starts as water, add land incrementally and return the number of islands after each addition.\n",
        "## Strategy\n",
        "Use [Union Find (Disjoint Set Union)](../resources/disjoinit-sets.ipynb) to merge land patches and count distinct roots.\n",
        "\n"
      ]
    },
    {
      "cell_type": "code",
      "execution_count": null,
      "metadata": {},
      "outputs": [
        {
          "data": {
            "text/plain": [
              "[ \u001b[33m1\u001b[39m, \u001b[33m1\u001b[39m, \u001b[33m2\u001b[39m, \u001b[33m3\u001b[39m ]"
            ]
          },
          "execution_count": 66,
          "metadata": {},
          "output_type": "execute_result"
        }
      ],
      "source": [
        "import { UnionFind } from \"../bin/algo/union-find.ts\";\n",
        "\n",
        "class IslandCount extends UnionFind {\n",
        "    private islandCount: number;\n",
        "    private isLandCell: boolean[];\n",
        "    \n",
        "    constructor(n: number) {\n",
        "        super(n);\n",
        "        this.islandCount = 0;\n",
        "        this.isLandCell = new Array(n).fill(false);\n",
        "    }\n",
        "    \n",
        "    addLand(x: number): void {\n",
        "        if (this.isLandCell[x]) return; // Already land\n",
        "        \n",
        "        this.isLandCell[x] = true;\n",
        "        this.islandCount++; // New island created\n",
        "    }\n",
        "    \n",
        "    isLand(x: number): boolean {\n",
        "        return this.isLandCell[x];\n",
        "    }\n",
        "    \n",
        "    unionIslands(x: number, y: number): void {\n",
        "        if (this.union(x, y)) {\n",
        "            this.islandCount--; // Two islands merged into one\n",
        "        }\n",
        "    }\n",
        "    \n",
        "    numberOfIslands(): number {\n",
        "        return this.islandCount;\n",
        "    }\n",
        "}\n",
        "\n",
        "export function numIslands2(m: number, n: number, positions: number[][]): number[] {\n",
        "    const islands = new IslandCount(m * n);\n",
        "    const result: number[] = [];\n",
        "    const directions = [[-1, 0], [1, 0], [0, -1], [0, 1]]; // up, down, left, right\n",
        "    \n",
        "    for (const [row, col] of positions) {\n",
        "        const landPosition = row * n + col; // row * n + col for consistent indexing\n",
        "        islands.addLand(landPosition);\n",
        "        \n",
        "        // Check all 4 neighbors\n",
        "        for (const [dx, dy] of directions) {\n",
        "            const newRow = row + dx;\n",
        "            const newCol = col + dy;\n",
        "            \n",
        "            if (newRow >= 0 && newRow < m && newCol >= 0 && newCol < n) {\n",
        "                const neighborPosition = newRow * n + newCol;\n",
        "                \n",
        "                if (islands.isLand(neighborPosition)) {\n",
        "                    islands.unionIslands(landPosition, neighborPosition);\n",
        "                }\n",
        "            }\n",
        "        }\n",
        "        \n",
        "        result.push(islands.numberOfIslands());\n",
        "    }\n",
        "    \n",
        "    return result;\n",
        "}\n",
        "\n",
        "numIslands2(3, 3, [[0,0],[0,1],[1,2],[2,1]])"
      ]
    },
    {
      "cell_type": "code",
      "execution_count": 67,
      "metadata": {},
      "outputs": [
        {
          "name": "stdout",
          "output_type": "stream",
          "text": [
            "Islands II - Basic ... \u001b[0m\u001b[32mok\u001b[0m \u001b[0m\u001b[38;5;245m(1ms)\u001b[0m\n",
            "Islands II - Merge ... \u001b[0m\u001b[32mok\u001b[0m \u001b[0m\u001b[38;5;245m(0ms)\u001b[0m\n",
            "\n",
            "\u001b[0m\u001b[32mok\u001b[0m | 2 passed | 0 failed \u001b[0m\u001b[38;5;245m(1ms)\u001b[0m\n"
          ]
        }
      ],
      "source": [
        "import { assertEquals } from \"https://deno.land/std/testing/asserts.ts\";\n",
        "\n",
        "Deno.test(\"Islands II - Basic\", () => {\n",
        "  assertEquals(numIslands2(3, 3, [[0,0],[0,1],[1,2],[2,1]]), [1,1,2,3]);\n",
        "});\n",
        "\n",
        "Deno.test(\"Islands II - Merge\", () => {\n",
        "  assertEquals(numIslands2(3, 3, [[0,0],[0,1],[1,2],[1,1]]), [1,1,2,1]);\n",
        "});\n",
        "\n"
      ]
    }
  ],
  "metadata": {
    "kernelspec": {
      "display_name": "Deno",
      "language": "typescript",
      "name": "deno"
    },
    "language_info": {
      "codemirror_mode": "typescript",
      "file_extension": ".ts",
      "mimetype": "text/x.typescript",
      "name": "typescript",
      "nbconvert_exporter": "script",
      "pygments_lexer": "typescript",
      "version": "5.8.3"
    },
    "title": "Number of Islands II"
  },
  "nbformat": 4,
  "nbformat_minor": 5
}
