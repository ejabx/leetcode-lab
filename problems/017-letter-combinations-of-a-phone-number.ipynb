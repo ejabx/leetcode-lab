{
  "cells": [
    {
      "cell_type": "markdown",
      "metadata": {
        "tags": [
          "Hash Table",
          "String",
          "Backtracking"
        ]
      },
      "source": [
        "# [Letter Combinations of a Phone Number](https://leetcode.com/problems/letter-combinations-of-a-phone-number)\n",
        "## Description  \n",
        "Map digits to letters (phone keypad) and return all possible letter combinations.\n",
        "## Strategy  \n",
        "Use backtracking to build all combinations character by character.\n",
        "\n"
      ]
    },
    {
      "cell_type": "code",
      "execution_count": null,
      "metadata": {},
      "outputs": [],
      "source": [
        "export function letterCombinations(digits: string): string[] {\n",
        "  const results: string[] = []\n",
        "  const letters: Record<string, string> = {\n",
        "\n",
        "    '2': 'abc',\n",
        "    '3': 'def',\n",
        "    '4': 'ghi',\n",
        "    '5': 'jkl',\n",
        "    '6': 'mno',\n",
        "    '7': 'pqrs',\n",
        "    '8': 'tuv',\n",
        "    '9': 'wxyz'\n",
        "  }\n",
        "\n",
        "  if (digits.length === 0) return []\n",
        "\n",
        "  function backtrace(start: number, current: string[]) {\n",
        "    if (current.length === digits.length) {\n",
        "      results.push(current.join(''))\n",
        "    } else {\n",
        "      for(const char of letters[digits[start]]) {\n",
        "        current.push(char)\n",
        "        backtrace(start + 1, current)\n",
        "        current.pop()\n",
        "      }\n",
        "    }\n",
        "  }\n",
        "\n",
        "  backtrace(0, [])\n",
        "\n",
        "  return results\n",
        "}"
      ]
    },
    {
      "cell_type": "code",
      "execution_count": 37,
      "metadata": {},
      "outputs": [
        {
          "name": "stdout",
          "output_type": "stream",
          "text": [
            "letterCombinations - basic ... \u001b[0m\u001b[32mok\u001b[0m \u001b[0m\u001b[38;5;245m(0ms)\u001b[0m\n",
            "letterCombinations - empty input ... \u001b[0m\u001b[32mok\u001b[0m \u001b[0m\u001b[38;5;245m(0ms)\u001b[0m\n",
            "letterCombinations - single digit ... \u001b[0m\u001b[32mok\u001b[0m \u001b[0m\u001b[38;5;245m(0ms)\u001b[0m\n",
            "\n",
            "\u001b[0m\u001b[32mok\u001b[0m | 3 passed | 0 failed \u001b[0m\u001b[38;5;245m(1ms)\u001b[0m\n"
          ]
        }
      ],
      "source": [
        "import { assertEquals } from \"https://deno.land/std/testing/asserts.ts\";\n",
        "\n",
        "Deno.test(\"letterCombinations - basic\", () => {\n",
        "  assertEquals(letterCombinations(\"23\").length === 9, true);\n",
        "});\n",
        "\n",
        "Deno.test(\"letterCombinations - empty input\", () => {\n",
        "  assertEquals(letterCombinations(\"\"), []);\n",
        "});\n",
        "\n",
        "Deno.test(\"letterCombinations - single digit\", () => {\n",
        "  assertEquals(letterCombinations(\"7\"), [\"p\", \"q\", \"r\", \"s\"]);\n",
        "});\n",
        "\n",
        "\n"
      ]
    }
  ],
  "metadata": {
    "kernelspec": {
      "display_name": "Deno",
      "language": "typescript",
      "name": "deno"
    },
    "language_info": {
      "codemirror_mode": "typescript",
      "file_extension": ".ts",
      "mimetype": "text/x.typescript",
      "name": "typescript",
      "nbconvert_exporter": "script",
      "pygments_lexer": "typescript",
      "version": "5.8.3"
    },
    "title": "Letter Combinations of a Phone Number"
  },
  "nbformat": 4,
  "nbformat_minor": 5
}
