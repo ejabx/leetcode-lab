{
  "cells": [
    {
      "cell_type": "markdown",
      "metadata": {},
      "source": [
        "# [Permutations II](https://leetcode.com/problems/permutations-ii)\n",
        "\n",
        "Return all unique permutations of numbers that might contain duplicates.\n",
        "\n",
        "## Strategy  \n",
        "Sort input and use backtracking with used set and duplicate skip check.\n",
        "\n"
      ]
    },
    {
      "cell_type": "code",
      "execution_count": 1,
      "metadata": {},
      "outputs": [],
      "source": [
        "function permuteUnique(nums: number[]): number[][] {\n",
        "    const results: number[][] = []\n",
        "    const used: boolean[] = Array(nums.length).fill(false)\n",
        "\n",
        "    nums = nums.sort((a,b) => a-b)\n",
        "\n",
        "    function backtrack(current: number[]) {\n",
        "        if (current.length === nums.length) {\n",
        "            results.push([...current])\n",
        "            return\n",
        "        }\n",
        "\n",
        "        for(let i = 0; i < nums.length; i++) {\n",
        "            // Skip if already used\n",
        "            if (used[i]) continue\n",
        "            // Skip duplicates: if current element equals previous AND previous not used\n",
        "            // For duplicates like [1,1,2], always use the first 1 before the second 1.\n",
        "            if (i > 0 && nums[i] === nums[i - 1] && !used[i - 1]) continue\n",
        "\n",
        "            used[i] = true\n",
        "            current.push(nums[i])\n",
        "            backtrack(current)\n",
        "            current.pop()\n",
        "            used[i] = false\n",
        "        }\n",
        "    }\n",
        "\n",
        "    backtrack([])\n",
        "\n",
        "    return results\n",
        "};"
      ]
    },
    {
      "cell_type": "code",
      "execution_count": null,
      "metadata": {},
      "outputs": [
        {
          "name": "stdout",
          "output_type": "stream",
          "text": [
            "permuteUnique - duplicates ... \u001b[0m\u001b[32mok\u001b[0m \u001b[0m\u001b[38;5;245m(1ms)\u001b[0m\n",
            "\n",
            "\u001b[0m\u001b[32mok\u001b[0m | 1 passed | 0 failed \u001b[0m\u001b[38;5;245m(1ms)\u001b[0m\n"
          ]
        }
      ],
      "source": [
        "import { assertEquals } from \"https://deno.land/std/testing/asserts.ts\";\n",
        "\n",
        "Deno.test(\"permuteUnique - duplicates\", () => {\n",
        "  assertEquals(permuteUnique([1,1,2]).length, 3);\n",
        "});\n",
        "\n"
      ]
    }
  ],
  "metadata": {
    "kernelspec": {
      "display_name": "Deno",
      "language": "typescript",
      "name": "deno"
    },
    "language_info": {
      "codemirror_mode": "typescript",
      "file_extension": ".ts",
      "mimetype": "text/x.typescript",
      "name": "typescript",
      "nbconvert_exporter": "script",
      "pygments_lexer": "typescript",
      "version": "5.8.3"
    },
    "title": "Permutations II"
  },
  "nbformat": 4,
  "nbformat_minor": 5
}
