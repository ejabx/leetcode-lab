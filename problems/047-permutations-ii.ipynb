{
  "nbformat": 4,
  "nbformat_minor": 5,
  "metadata": {
    "title": "Permutations II",
    "kernelspec": {
      "name": "deno",
      "display_name": "Deno"
    },
    "language_info": {
      "name": "typescript",
      "version": "1.0"
    }
  },
  "cells": [
    {
      "cell_type": "markdown",
      "metadata": {},
      "source": [
        "# [Permutations II](https://leetcode.com/problems/permutations-ii)\n",
        "\n",
        "Return all unique permutations of numbers that might contain duplicates.\n",
        "\n",
        "## Strategy  \n",
        "Sort input and use backtracking with visited set and duplicate skip check.\n",
        "\n"
      ]
    },
    {
      "cell_type": "code",
      "metadata": {},
      "source": [
        "export function permuteUnique(nums: number[]): number[][] {\n",
        "  return [];\n",
        "}\n",
        "\n"
      ],
      "execution_count": null,
      "outputs": []
    },
    {
      "cell_type": "code",
      "metadata": {},
      "source": [
        "import { assertEquals } from \"https://deno.land/std/testing/asserts.ts\";\n",
        "\n",
        "Deno.test(\"permuteUnique - duplicates\", () => {\n",
        "  assertEquals(permuteUnique([1,1,2]).length, 3);\n",
        "});\n",
        "\n"
      ],
      "execution_count": null,
      "outputs": []
    }
  ]
}