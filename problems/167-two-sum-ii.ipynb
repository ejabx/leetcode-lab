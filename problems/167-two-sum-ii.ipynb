{
 "cells": [
  {
   "cell_type": "markdown",
   "id": "64db1d20",
   "metadata": {
    "tags": [
     "Array",
     "Two Pointer",
     "Binary Search"
    ]
   },
   "source": [
    "# [Two Sum II](https://leetcode.com/problems/two-sum-ii-input-array-is-sorted/description/)\n",
    "You're given a sorted array of integers (ascending order) and a target value. Find the indices of two numbers that add up to the target. Return 1-based indices.  \n",
    "_Assume exactly one solution exists, and each input has only one valid pair._\n",
    "\n",
    "## Strategy\n",
    "Since the input array is sorted, use the two-pointer technique:\n",
    "1. Start with pointers at the beginning and end of the array.\n",
    "2. Calculate the sum of values at both pointers.\n",
    "3. If the sum equals the target, return the indices (1-based).\n",
    "4. If the sum is too small, move the left pointer right.\n",
    "5. If the sum is too large, move the right pointer left.\n",
    "\n",
    "__Time__: O(n) — at most one pass through the array  \n",
    "__Space__: O(1) — no extra space used  "
   ]
  },
  {
   "cell_type": "markdown",
   "id": "c58f8155",
   "metadata": {},
   "source": [
    "## Solution"
   ]
  },
  {
   "cell_type": "code",
   "execution_count": null,
   "id": "48ed7c65",
   "metadata": {},
   "outputs": [],
   "source": [
    "function twoSumSorted(numbers: number[], target: number): number[] {\n",
    "    let low = 0\n",
    "    let high = numbers.length - 1\n",
    "    while (low < high) {\n",
    "        const sum = numbers[low] + numbers[high]\n",
    "\n",
    "        if (sum === target) return [low + 1, high + 1]\n",
    "        if (sum < target) {\n",
    "            low++\n",
    "        } else {\n",
    "            high--\n",
    "        }\n",
    "    }\n",
    "\n",
    "    return []\n",
    "}"
   ]
  },
  {
   "cell_type": "markdown",
   "id": "8ba51a15",
   "metadata": {},
   "source": [
    "## Test Cases"
   ]
  },
  {
   "cell_type": "code",
   "execution_count": 11,
   "id": "a937f3cd",
   "metadata": {},
   "outputs": [
    {
     "name": "stdout",
     "output_type": "stream",
     "text": [
      "twoSumSorted - basic cases ... \u001b[0m\u001b[32mok\u001b[0m \u001b[0m\u001b[38;5;245m(0ms)\u001b[0m\n",
      "twoSumSorted - edge and negatives ... \u001b[0m\u001b[32mok\u001b[0m \u001b[0m\u001b[38;5;245m(0ms)\u001b[0m\n",
      "\n",
      "\u001b[0m\u001b[32mok\u001b[0m | 2 passed | 0 failed \u001b[0m\u001b[38;5;245m(0ms)\u001b[0m\n"
     ]
    }
   ],
   "source": [
    "import { assertEquals } from \"jsr:@std/assert\";\n",
    "\n",
    "Deno.test(\"twoSumSorted - basic cases\", () => {\n",
    "  assertEquals(twoSumSorted([2, 7, 11, 15], 9), [1, 2]);\n",
    "  assertEquals(twoSumSorted([1, 2, 3, 4, 4, 9, 56, 90], 8), [4, 5]);\n",
    "});\n",
    "\n",
    "Deno.test(\"twoSumSorted - edge and negatives\", () => {\n",
    "  assertEquals(twoSumSorted([-3, 0, 1, 2, 3, 4], 1), [1, 6]);\n",
    "  assertEquals(twoSumSorted([1, 3, 4, 5, 7, 10, 11], 9), [3, 4]);\n",
    "});"
   ]
  }
 ],
 "metadata": {
  "kernelspec": {
   "display_name": "Deno",
   "language": "typescript",
   "name": "deno"
  },
  "language_info": {
   "codemirror_mode": "typescript",
   "file_extension": ".ts",
   "mimetype": "text/x.typescript",
   "name": "typescript",
   "nbconvert_exporter": "script",
   "pygments_lexer": "typescript",
   "version": "5.8.3"
  }
 },
 "nbformat": 4,
 "nbformat_minor": 5
}
