{
 "cells": [
  {
   "cell_type": "markdown",
   "id": "4231dbd4",
   "metadata": {},
   "source": [
    "# [Maximal Rectangle](https://leetcode.com/problems/maximal-rectangle/)\n",
    "\n",
    "Given a 2D binary matrix of `'0'`s and `'1'`s, find the largest rectangle containing only `'1'`s.\n",
    "\n",
    "## Strategy\n",
    "\n",
    "- Treat each row as a histogram by accumulating column heights.\n",
    "- Use the Largest Rectangle in Histogram stack technique on each row.\n",
    "\n",
    "\n",
    "__Time__: TKTKTK  \n",
    "__Space__: TKTKTK  "
   ]
  },
  {
   "cell_type": "markdown",
   "id": "262206e8",
   "metadata": {},
   "source": [
    "## Solution\n"
   ]
  },
  {
   "cell_type": "code",
   "execution_count": null,
   "id": "7aebb81a",
   "metadata": {},
   "outputs": [],
   "source": [
    "function largestRectangleArea(heights: number[]): number {\n",
    "    const stack: number[] = [];\n",
    "    let maxArea = 0;\n",
    "    \n",
    "    for (let i = 0; i < heights.length; i++) {\n",
    "        // While current height is smaller than stack top\n",
    "        while (stack.length > 0 && heights[stack[stack.length - 1]] > heights[i]) {\n",
    "            const height = heights[stack.pop()!];\n",
    "            \n",
    "            // Calculate width:\n",
    "            // - Right boundary: current index i\n",
    "            // - Left boundary: element before new stack top (or 0)\n",
    "            const width = stack.length === 0 ? i : i - stack[stack.length - 1] - 1;\n",
    "            \n",
    "            maxArea = Math.max(maxArea, height * width);\n",
    "        }\n",
    "        stack.push(i);\n",
    "    }\n",
    "    \n",
    "    // Process remaining elements in stack\n",
    "    while (stack.length > 0) {\n",
    "        const height = heights[stack.pop()!];\n",
    "        const width = stack.length === 0 ? heights.length : heights.length - stack[stack.length - 1] - 1;\n",
    "        maxArea = Math.max(maxArea, height * width);\n",
    "    }\n",
    "    \n",
    "    return maxArea;\n",
    "};\n",
    "\n",
    "function maximalRectangle(matrix: string[][]): number {\n",
    "    let maxArea: number = 0\n",
    "    const heights = Array(matrix[0].length).fill(0)\n",
    "\n",
    "    for(let row of matrix) {\n",
    "         // Accumulate histogram heights\n",
    "         for(let i = 0; i < row.length; i++) {\n",
    "            if (row[i] === '1') {\n",
    "                heights[i] = heights[i] + 1\n",
    "            } else {\n",
    "                heights[i] = 0\n",
    "            }\n",
    "         }\n",
    "         \n",
    "        // Apply largest rectangle in histogram\n",
    "        maxArea = Math.max(maxArea, largestRectangleArea(heights))\n",
    "    }\n",
    "\n",
    "    return maxArea\n",
    "};"
   ]
  },
  {
   "cell_type": "markdown",
   "id": "b5ec007c",
   "metadata": {},
   "source": [
    "## Test Cases"
   ]
  },
  {
   "cell_type": "code",
   "execution_count": 24,
   "id": "a10ce450",
   "metadata": {},
   "outputs": [
    {
     "name": "stdout",
     "output_type": "stream",
     "text": [
      "maximalRectangle - simple block ... \u001b[0m\u001b[32mok\u001b[0m \u001b[0m\u001b[38;5;245m(0ms)\u001b[0m\n",
      "maximalRectangle - all zeros ... \u001b[0m\u001b[32mok\u001b[0m \u001b[0m\u001b[38;5;245m(0ms)\u001b[0m\n",
      "maximalRectangle - full ones ... \u001b[0m\u001b[32mok\u001b[0m \u001b[0m\u001b[38;5;245m(0ms)\u001b[0m\n",
      "\n",
      "\u001b[0m\u001b[32mok\u001b[0m | 3 passed | 0 failed \u001b[0m\u001b[38;5;245m(6ms)\u001b[0m\n"
     ]
    }
   ],
   "source": [
    "import { assertEquals } from \"jsr:@std/assert\";\n",
    "\n",
    "Deno.test(\"maximalRectangle - simple block\", () => {\n",
    "  const matrix = [\n",
    "    [\"1\", \"0\", \"1\", \"0\", \"0\"],\n",
    "    [\"1\", \"0\", \"1\", \"1\", \"1\"],\n",
    "    [\"1\", \"1\", \"1\", \"1\", \"1\"],\n",
    "    [\"1\", \"0\", \"0\", \"1\", \"0\"]\n",
    "  ];\n",
    "  assertEquals(maximalRectangle(matrix), 6);\n",
    "});\n",
    "\n",
    "Deno.test(\"maximalRectangle - all zeros\", () => {\n",
    "  const matrix = [\n",
    "    [\"0\", \"0\"],\n",
    "    [\"0\", \"0\"]\n",
    "  ];\n",
    "  assertEquals(maximalRectangle(matrix), 0);\n",
    "});\n",
    "\n",
    "Deno.test(\"maximalRectangle - full ones\", () => {\n",
    "  const matrix = [\n",
    "    [\"1\", \"1\"],\n",
    "    [\"1\", \"1\"]\n",
    "  ];\n",
    "  assertEquals(maximalRectangle(matrix), 4);\n",
    "});"
   ]
  },
  {
   "cell_type": "code",
   "execution_count": null,
   "id": "34570f26",
   "metadata": {},
   "outputs": [],
   "source": []
  }
 ],
 "metadata": {
  "kernelspec": {
   "display_name": "Deno",
   "language": "typescript",
   "name": "deno"
  },
  "language_info": {
   "codemirror_mode": "typescript",
   "file_extension": ".ts",
   "mimetype": "text/x.typescript",
   "name": "typescript",
   "nbconvert_exporter": "script",
   "pygments_lexer": "typescript",
   "version": "5.8.3"
  }
 },
 "nbformat": 4,
 "nbformat_minor": 5
}
