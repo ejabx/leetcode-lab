{
  "nbformat": 4,
  "nbformat_minor": 5,
  "metadata": {
    "title": "Burst Balloons",
    "kernelspec": {
      "name": "deno",
      "display_name": "Deno"
    },
    "language_info": {
      "name": "typescript",
      "version": "1.0"
    }
  },
  "cells": [
    {
      "cell_type": "markdown",
      "metadata": {},
      "source": [
        "# Burst Balloons  \n",
        "[LeetCode Link](https://leetcode.com/problems/burst-balloons)\n",
        "\n"
      ]
    },
    {
      "cell_type": "markdown",
      "metadata": {},
      "source": [
        "## Description  \n",
        "You are given n balloons. Each balloon has a number. You burst them in some order. When you burst a balloon `i`, you gain `nums[left] * nums[i] * nums[right]` coins.\n",
        "\n"
      ]
    },
    {
      "cell_type": "markdown",
      "metadata": {},
      "source": [
        "## Strategy  \n",
        "Use DP to try every possible bursting order and memorize overlapping subproblems.\n",
        "\n"
      ]
    },
    {
      "cell_type": "code",
      "metadata": {},
      "source": [
        "export function maxCoins(nums: number[]): number {\n",
        "  return 0;\n",
        "}\n",
        "\n"
      ],
      "execution_count": null,
      "outputs": []
    },
    {
      "cell_type": "code",
      "metadata": {},
      "source": [
        "import { assertEquals } from \"https://deno.land/std/testing/asserts.ts\";\n",
        "\n",
        "Deno.test(\"maxCoins - basic\", () => {\n",
        "  assertEquals(maxCoins([3,1,5,8]), 167);\n",
        "});\n",
        "\n",
        "Deno.test(\"maxCoins - single balloon\", () => {\n",
        "  assertEquals(maxCoins([1]), 1);\n",
        "});\n",
        "\n",
        "Deno.test(\"maxCoins - empty input\", () => {\n",
        "  assertEquals(maxCoins([]), 0);\n",
        "});\n",
        "\n",
        "Deno.test(\"maxCoins - two balloons\", () => {\n",
        "  assertEquals(maxCoins([1,5]), 10);\n",
        "});\n",
        "\n"
      ],
      "execution_count": null,
      "outputs": []
    }
  ]
}