{
  "nbformat": 4,
  "nbformat_minor": 5,
  "metadata": {
    "title": "Find Minimum in Rotated Sorted Array II",
    "kernelspec": {
      "name": "deno",
      "display_name": "Deno"
    },
    "language_info": {
      "name": "typescript",
      "version": "1.0"
    }
  },
  "cells": [
    {
      "cell_type": "markdown",
      "metadata": {},
      "source": [
        "# [Find Minimum in Rotated Sorted Array II](https://leetcode.com/problems/find-minimum-in-rotated-sorted-array-ii/)\n",
        "## Description\n",
        "Find the minimum value in a rotated sorted array that may contain duplicates.\n",
        "## Strategy\n",
        "Use binary search with logic to handle duplicates by shrinking search space conservatively.\n",
        "\n"
      ]
    },
    {
      "cell_type": "code",
      "metadata": {},
      "source": [
        "export function findMin(nums: number[]): number {\n",
        "  return 0;\n",
        "}\n",
        "\n"
      ],
      "execution_count": null,
      "outputs": []
    },
    {
      "cell_type": "code",
      "metadata": {},
      "source": [
        "import { assertEquals } from \"https://deno.land/std/testing/asserts.ts\";\n",
        "\n",
        "Deno.test(\"Min Rotated II - With Duplicates\", () => {\n",
        "  assertEquals(findMin([2,2,2,0,1]), 0);\n",
        "});\n",
        "\n",
        "Deno.test(\"Min Rotated II - Single Element\", () => {\n",
        "  assertEquals(findMin([1]), 1);\n",
        "});\n",
        "\n",
        "Deno.test(\"Min Rotated II - Sorted\", () => {\n",
        "  assertEquals(findMin([1,2,3,4]), 1);\n",
        "});\n",
        "\n"
      ],
      "execution_count": null,
      "outputs": []
    }
  ]
}