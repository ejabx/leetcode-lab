{
 "cells": [
  {
   "cell_type": "markdown",
   "id": "4231dbd4",
   "metadata": {},
   "source": [
    "# [Largest Rectangle in Histogram](https://leetcode.com/problems/largest-rectangle-in-histogram/description/)\n",
    "\n",
    "Given bar heights, find the area of the largest rectangle in the histogram.\n",
    "\n",
    "## Strategy\n",
    "\n",
    "### Brute Force\n",
    "\n",
    "For each bar, we want to find the __largest rectangle that uses that bar__ as the shortest bar. This means:\n",
    "\n",
    "- Find how far left we can extend while heights are ≥ current height\n",
    "- Find how far right we can extend while heights are ≥ current height\n",
    "- Calculate area = height × width\n",
    "\n",
    "### Using Stack\n",
    "\n",
    "Use a __[monotonic increasing stack](../resources/montonic-stack.ipynb)__ to track indices of bars.\n",
    "\n",
    "1. Stack stores indices of bars in increasing height order\n",
    "2. When we encounter a shorter bar, it means we've found the right boundary for all taller bars in the stack\n",
    "3. For each popped bar, calculate its maximum rectangle area\n",
    "\n",
    "Tricky Part is calculating the stack\n",
    "```javascript\n",
    "const width = stack.length === 0 ? i : i - stack[stack.length - 1] - 1;\n",
    "```\n",
    "__Time__: O(n)  \n",
    "__Space__: O(n)  "
   ]
  },
  {
   "cell_type": "markdown",
   "id": "262206e8",
   "metadata": {},
   "source": [
    "## Solution\n"
   ]
  },
  {
   "cell_type": "code",
   "execution_count": 3,
   "id": "7aebb81a",
   "metadata": {},
   "outputs": [
    {
     "name": "stdout",
     "output_type": "stream",
     "text": [
      "10\n"
     ]
    }
   ],
   "source": [
    "// Time: O(n^2)\n",
    "// Space: O(1)\n",
    "function largestRectangleArea_brute(heights: number[]): number {\n",
    "    let maxArea = 0;\n",
    "    \n",
    "    for (let i = 0; i < heights.length; i++) {\n",
    "        const currentHeight = heights[i];\n",
    "        \n",
    "        // Find left boundary\n",
    "        let left = i;\n",
    "        while (left > 0 && heights[left - 1] >= currentHeight) {\n",
    "            left--;\n",
    "        }\n",
    "        \n",
    "        // Find right boundary  \n",
    "        let right = i;\n",
    "        while (right < heights.length - 1 && heights[right + 1] >= currentHeight) {\n",
    "            right++;\n",
    "        }\n",
    "        \n",
    "        const width = right - left + 1;\n",
    "        maxArea = Math.max(maxArea, currentHeight * width);\n",
    "    }\n",
    "    \n",
    "    return maxArea;\n",
    "};\n",
    "\n",
    "// Time: O(n)\n",
    "// Space: O(n)\n",
    "function largestRectangleArea(heights: number[]): number {\n",
    "    const stack: number[] = [];\n",
    "    let maxArea = 0;\n",
    "    \n",
    "    for (let i = 0; i < heights.length; i++) {\n",
    "        // While current height is smaller than stack top\n",
    "        while (stack.length > 0 && heights[stack[stack.length - 1]] > heights[i]) {\n",
    "            const height = heights[stack.pop()!];\n",
    "            \n",
    "            // Calculate width:\n",
    "            // - Right boundary: current index i\n",
    "            // - Left boundary: element before new stack top (or 0)\n",
    "            const width = stack.length === 0 ? i : i - stack[stack.length - 1] - 1;\n",
    "            \n",
    "            maxArea = Math.max(maxArea, height * width);\n",
    "        }\n",
    "        stack.push(i);\n",
    "    }\n",
    "    \n",
    "    // Process remaining elements in stack\n",
    "    while (stack.length > 0) {\n",
    "        const height = heights[stack.pop()!];\n",
    "        const width = stack.length === 0 ? heights.length : heights.length - stack[stack.length - 1] - 1;\n",
    "        maxArea = Math.max(maxArea, height * width);\n",
    "    }\n",
    "    \n",
    "    return maxArea;\n",
    "};\n",
    "\n",
    "console.log(largestRectangleArea([2, 1, 5, 6, 2, 3]))"
   ]
  },
  {
   "cell_type": "markdown",
   "id": "b5ec007c",
   "metadata": {},
   "source": [
    "## Test Cases"
   ]
  },
  {
   "cell_type": "code",
   "execution_count": 4,
   "id": "a10ce450",
   "metadata": {},
   "outputs": [
    {
     "name": "stdout",
     "output_type": "stream",
     "text": [
      "largestRectangleArea - standard pattern ... \u001b[0m\u001b[32mok\u001b[0m \u001b[0m\u001b[38;5;245m(0ms)\u001b[0m\n",
      "largestRectangleArea - uniform height ... \u001b[0m\u001b[32mok\u001b[0m \u001b[0m\u001b[38;5;245m(0ms)\u001b[0m\n",
      "largestRectangleArea - increasing bars ... \u001b[0m\u001b[32mok\u001b[0m \u001b[0m\u001b[38;5;245m(0ms)\u001b[0m\n",
      "largestRectangleArea - decreasing bars ... \u001b[0m\u001b[32mok\u001b[0m \u001b[0m\u001b[38;5;245m(0ms)\u001b[0m\n",
      "largestRectangleArea - with zero height ... \u001b[0m\u001b[32mok\u001b[0m \u001b[0m\u001b[38;5;245m(0ms)\u001b[0m\n",
      "largestRectangleArea - single bar ... \u001b[0m\u001b[32mok\u001b[0m \u001b[0m\u001b[38;5;245m(0ms)\u001b[0m\n",
      "largestRectangleArea - empty histogram ... \u001b[0m\u001b[32mok\u001b[0m \u001b[0m\u001b[38;5;245m(0ms)\u001b[0m\n",
      "\n",
      "\u001b[0m\u001b[32mok\u001b[0m | 7 passed | 0 failed \u001b[0m\u001b[38;5;245m(1ms)\u001b[0m\n"
     ]
    }
   ],
   "source": [
    "import { assertEquals } from \"jsr:@std/assert\";\n",
    "\n",
    "Deno.test(\"largestRectangleArea - standard pattern\", () => {\n",
    "  assertEquals(largestRectangleArea([2, 1, 5, 6, 2, 3]), 10);\n",
    "});\n",
    "\n",
    "Deno.test(\"largestRectangleArea - uniform height\", () => {\n",
    "  assertEquals(largestRectangleArea([2, 2, 2, 2]), 8); // 4 bars * height 2\n",
    "});\n",
    "\n",
    "Deno.test(\"largestRectangleArea - increasing bars\", () => {\n",
    "  assertEquals(largestRectangleArea([1, 2, 3, 4, 5]), 9); // 3 bars at height 3\n",
    "});\n",
    "\n",
    "Deno.test(\"largestRectangleArea - decreasing bars\", () => {\n",
    "  assertEquals(largestRectangleArea([5, 4, 3, 2, 1]), 9); // 3 bars at height 3\n",
    "});\n",
    "\n",
    "Deno.test(\"largestRectangleArea - with zero height\", () => {\n",
    "  assertEquals(largestRectangleArea([2, 0, 2]), 2);\n",
    "});\n",
    "\n",
    "Deno.test(\"largestRectangleArea - single bar\", () => {\n",
    "  assertEquals(largestRectangleArea([6]), 6);\n",
    "});\n",
    "\n",
    "Deno.test(\"largestRectangleArea - empty histogram\", () => {\n",
    "  assertEquals(largestRectangleArea([]), 0);\n",
    "});"
   ]
  },
  {
   "cell_type": "code",
   "execution_count": null,
   "id": "47113901",
   "metadata": {},
   "outputs": [],
   "source": []
  }
 ],
 "metadata": {
  "kernelspec": {
   "display_name": "Deno",
   "language": "typescript",
   "name": "deno"
  },
  "language_info": {
   "codemirror_mode": "typescript",
   "file_extension": ".ts",
   "mimetype": "text/x.typescript",
   "name": "typescript",
   "nbconvert_exporter": "script",
   "pygments_lexer": "typescript",
   "version": "5.8.3"
  }
 },
 "nbformat": 4,
 "nbformat_minor": 5
}
