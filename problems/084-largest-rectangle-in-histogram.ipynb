{
 "cells": [
  {
   "cell_type": "markdown",
   "id": "4231dbd4",
   "metadata": {},
   "source": [
    "# [TKTKTK]()\n",
    "\n",
    "TKTKTK\n",
    "\n",
    "## Strategy\n",
    "\n",
    "### TKTKTK\n",
    "\n",
    "TKTKTK\n",
    "\n",
    "__Time__: TKTKTK\n",
    "__Space__: TKTKTK"
   ]
  },
  {
   "cell_type": "markdown",
   "id": "262206e8",
   "metadata": {},
   "source": [
    "## Solution\n"
   ]
  },
  {
   "cell_type": "code",
   "execution_count": 11,
   "id": "7aebb81a",
   "metadata": {},
   "outputs": [],
   "source": [
    "function fib(n: number): number {\n",
    "    if (n <= 1) return n\n",
    "    return fib(n - 2) + fib(n - 1)\n",
    "}"
   ]
  },
  {
   "cell_type": "markdown",
   "id": "b5ec007c",
   "metadata": {},
   "source": [
    "## Test Cases"
   ]
  },
  {
   "cell_type": "code",
   "execution_count": 10,
   "id": "a10ce450",
   "metadata": {},
   "outputs": [
    {
     "name": "stdout",
     "output_type": "stream",
     "text": [
      "TKTKTK ... \u001b[0m\u001b[32mok\u001b[0m \u001b[0m\u001b[38;5;245m(0ms)\u001b[0m\n",
      "TKTKTK ... \u001b[0m\u001b[32mok\u001b[0m \u001b[0m\u001b[38;5;245m(0ms)\u001b[0m\n",
      "TKTKTK ... \u001b[0m\u001b[32mok\u001b[0m \u001b[0m\u001b[38;5;245m(0ms)\u001b[0m\n",
      "\n",
      "\u001b[0m\u001b[32mok\u001b[0m | 3 passed | 0 failed \u001b[0m\u001b[38;5;245m(0ms)\u001b[0m\n"
     ]
    }
   ],
   "source": [
    "import { assertEquals } from \"jsr:@std/assert\";\n",
    "\n",
    "Deno.test(\"TKTKTK\", () => {\n",
    "  assertEquals(fib(3), 2);\n",
    "});\n",
    "\n",
    "Deno.test(\"TKTKTK\", () => {\n",
    "  assertEquals(fib(4), 3);\n",
    "});\n",
    "\n",
    "Deno.test(\"TKTKTK\", () => {\n",
    "  assertEquals(fib(5), 5);\n",
    "});"
   ]
  }
 ],
 "metadata": {
  "kernelspec": {
   "display_name": "Deno",
   "language": "typescript",
   "name": "deno"
  },
  "language_info": {
   "codemirror_mode": "typescript",
   "file_extension": ".ts",
   "mimetype": "text/x.typescript",
   "name": "typescript",
   "nbconvert_exporter": "script",
   "pygments_lexer": "typescript",
   "version": "5.8.3"
  }
 },
 "nbformat": 4,
 "nbformat_minor": 5
}
