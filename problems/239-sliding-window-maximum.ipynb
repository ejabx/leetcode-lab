{
 "cells": [
  {
   "cell_type": "markdown",
   "id": "4231dbd4",
   "metadata": {
    "tags": [
     "Array",
     "Queue",
     "Sliding Window",
     "Heap (Priority Queue)",
     "Monotonic Queue"
    ]
   },
   "source": [
    "# [Sliding Window Maximum](https://leetcode.com/problems/sliding-window-maximum/description/)\n",
    "\n",
    "Given an array and a window size `k`, return the maximum value in each sliding window of size `k`.\n",
    "\n",
    "## Strategy\n",
    "\n",
    "Strategy\n",
    "\n",
    "- Use a __monotonic deque__ to maintain decreasing order of values' indices.\n",
    "- At each step, remove:\n",
    "    - Indices outside the window.\n",
    "    - Indices of elements smaller than the current value.\n",
    "    - The max of each window is at the front of the deque.\n",
    "\n",
    "__Time__: O(n)  \n",
    "__Space__: O(n)  "
   ]
  },
  {
   "cell_type": "markdown",
   "id": "262206e8",
   "metadata": {},
   "source": [
    "## Solution\n"
   ]
  },
  {
   "cell_type": "code",
   "execution_count": 20,
   "id": "7aebb81a",
   "metadata": {},
   "outputs": [],
   "source": [
    "// Time: O(nk)\n",
    "// Space: O(1)\n",
    "function maxSlidingWindow_brute(nums: number[], k: number): number[] {\n",
    "    const n: number = nums.length\n",
    "    const result = Array(n - k + 1).fill(0)\n",
    "\n",
    "    for(let i = 0; i <= n - k; i++) {\n",
    "        let max = nums[i]\n",
    "        for(let j = 0; j < k; j++) {\n",
    "            if (nums[i + j] > max) {\n",
    "                max = nums[i + j]\n",
    "            }\n",
    "        }\n",
    "        result[i] = max\n",
    "    }\n",
    "\n",
    "    return result\n",
    "};\n",
    "\n",
    "// Time: O(n)\n",
    "// Space: O(n)\n",
    "function maxSlidingWindow(nums: number[], k: number): number[] {\n",
    "    const deque: number[] = []\n",
    "    const result: number[] = []\n",
    "\n",
    "    for(let i = 0; i < nums.length; i++) {\n",
    "        // Remove indices outside current window\n",
    "        while (deque.length && deque[0] <= i - k) {\n",
    "            deque.shift()\n",
    "        }\n",
    "\n",
    "        // Remove indices of smaller elements\n",
    "        while (deque.length && nums[deque[deque.length - 1]] < nums[i]) {\n",
    "            deque.pop()\n",
    "        }\n",
    "\n",
    "        deque.push(i)\n",
    "\n",
    "        // Add to result once we have a full window\n",
    "        if (i >= k - 1) {\n",
    "            result.push(nums[deque[0]])\n",
    "        }\n",
    "    }\n",
    "\n",
    "    return result\n",
    "};"
   ]
  },
  {
   "cell_type": "markdown",
   "id": "b5ec007c",
   "metadata": {},
   "source": [
    "## Test Cases"
   ]
  },
  {
   "cell_type": "code",
   "execution_count": 23,
   "id": "a10ce450",
   "metadata": {},
   "outputs": [
    {
     "name": "stdout",
     "output_type": "stream",
     "text": [
      "maxSlidingWindow - basic ... \u001b[0m\u001b[32mok\u001b[0m \u001b[0m\u001b[38;5;245m(0ms)\u001b[0m\n",
      "maxSlidingWindow - window size 1 ... \u001b[0m\u001b[32mok\u001b[0m \u001b[0m\u001b[38;5;245m(0ms)\u001b[0m\n",
      "maxSlidingWindow - increasing array ... \u001b[0m\u001b[32mok\u001b[0m \u001b[0m\u001b[38;5;245m(0ms)\u001b[0m\n",
      "maxSlidingWindow - decreasing array ... \u001b[0m\u001b[32mok\u001b[0m \u001b[0m\u001b[38;5;245m(0ms)\u001b[0m\n",
      "\n",
      "\u001b[0m\u001b[32mok\u001b[0m | 4 passed | 0 failed \u001b[0m\u001b[38;5;245m(1ms)\u001b[0m\n"
     ]
    }
   ],
   "source": [
    "import { assertEquals } from \"jsr:@std/assert\";\n",
    "\n",
    "Deno.test(\"maxSlidingWindow - basic\", () => {\n",
    "  assertEquals(maxSlidingWindow([1, 3, -1, -3, 5, 3, 6, 7], 3), [3, 3, 5, 5, 6, 7]);\n",
    "});\n",
    "\n",
    "Deno.test(\"maxSlidingWindow - window size 1\", () => {\n",
    "  assertEquals(maxSlidingWindow([4, 2, 12], 1), [4, 2, 12]);\n",
    "});\n",
    "\n",
    "Deno.test(\"maxSlidingWindow - increasing array\", () => {\n",
    "  assertEquals(maxSlidingWindow([1, 2, 3, 4, 5], 2), [2, 3, 4, 5]);\n",
    "});\n",
    "\n",
    "Deno.test(\"maxSlidingWindow - decreasing array\", () => {\n",
    "  assertEquals(maxSlidingWindow([5, 4, 3, 2, 1], 2), [5, 4, 3, 2]);\n",
    "});"
   ]
  },
  {
   "cell_type": "code",
   "execution_count": null,
   "id": "f7a7f9bd",
   "metadata": {},
   "outputs": [],
   "source": []
  }
 ],
 "metadata": {
  "kernelspec": {
   "display_name": "Deno",
   "language": "typescript",
   "name": "deno"
  },
  "language_info": {
   "codemirror_mode": "typescript",
   "file_extension": ".ts",
   "mimetype": "text/x.typescript",
   "name": "typescript",
   "nbconvert_exporter": "script",
   "pygments_lexer": "typescript",
   "version": "5.8.3"
  }
 },
 "nbformat": 4,
 "nbformat_minor": 5
}
