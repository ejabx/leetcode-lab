{
  "nbformat": 4,
  "nbformat_minor": 5,
  "metadata": {
    "title": "Word Ladder",
    "kernelspec": {
      "name": "deno",
      "display_name": "Deno"
    },
    "language_info": {
      "name": "typescript",
      "version": "1.0"
    }
  },
  "cells": [
    {
      "cell_type": "markdown",
      "metadata": {},
      "source": [
        "# Word Ladder  \n",
        "[LeetCode Link](https://leetcode.com/problems/word-ladder)\n",
        "\n"
      ]
    },
    {
      "cell_type": "markdown",
      "metadata": {},
      "source": [
        "## Description  \n",
        "Find the shortest transformation sequence from `beginWord` to `endWord`, changing one letter at a time using words in a given list.\n",
        "\n"
      ]
    },
    {
      "cell_type": "markdown",
      "metadata": {},
      "source": [
        "## Strategy  \n",
        "Use BFS to find the shortest path between the start and end words through valid transformations.\n",
        "\n"
      ]
    },
    {
      "cell_type": "code",
      "metadata": {},
      "source": [
        "export function ladderLength(beginWord: string, endWord: string, wordList: string[]): number {\n",
        "  return 0;\n",
        "}\n",
        "\n"
      ],
      "execution_count": null,
      "outputs": []
    },
    {
      "cell_type": "code",
      "metadata": {},
      "source": [
        "import { assertEquals } from \"https://deno.land/std/testing/asserts.ts\";\n",
        "\n",
        "Deno.test(\"ladderLength - basic\", () => {\n",
        "  assertEquals(ladderLength(\"hit\", \"cog\", [\"hot\",\"dot\",\"dog\",\"lot\",\"log\",\"cog\"]), 5);\n",
        "});\n",
        "\n",
        "Deno.test(\"ladderLength - unreachable end\", () => {\n",
        "  assertEquals(ladderLength(\"hit\", \"cog\", [\"hot\",\"dot\",\"dog\",\"lot\",\"log\"]), 0);\n",
        "});\n",
        "\n",
        "Deno.test(\"ladderLength - single word\", () => {\n",
        "  assertEquals(ladderLength(\"hit\", \"hit\", [\"hit\"]), 1);\n",
        "});\n",
        "\n",
        "Deno.test(\"ladderLength - empty wordList\", () => {\n",
        "  assertEquals(ladderLength(\"hit\", \"cog\", []), 0);\n",
        "});\n",
        "\n"
      ],
      "execution_count": null,
      "outputs": []
    }
  ]
}