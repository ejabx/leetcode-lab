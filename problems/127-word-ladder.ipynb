{
  "cells": [
    {
      "cell_type": "markdown",
      "metadata": {},
      "source": [
        "# [Word Ladder](https://leetcode.com/problems/word-ladder)\n",
        "\n",
        "## Description  \n",
        "Find the shortest transformation sequence from `beginWord` to `endWord`, changing one letter at a time using words in a given list.\n",
        "\n",
        "## Strategy  \n",
        "Use BFS to find the shortest path between the start and end words through valid transformations.\n",
        "\n"
      ]
    },
    {
      "cell_type": "code",
      "execution_count": null,
      "metadata": {},
      "outputs": [],
      "source": [
        "export function ladderLength(beginWord: string, endWord: string, wordList: string[]): number {\n",
        "  return 0;\n",
        "}\n",
        "\n"
      ]
    },
    {
      "cell_type": "code",
      "execution_count": null,
      "metadata": {},
      "outputs": [],
      "source": [
        "import { assertEquals } from \"https://deno.land/std/testing/asserts.ts\";\n",
        "\n",
        "Deno.test(\"ladderLength - basic\", () => {\n",
        "  assertEquals(ladderLength(\"hit\", \"cog\", [\"hot\",\"dot\",\"dog\",\"lot\",\"log\",\"cog\"]), 5);\n",
        "});\n",
        "\n",
        "Deno.test(\"ladderLength - unreachable end\", () => {\n",
        "  assertEquals(ladderLength(\"hit\", \"cog\", [\"hot\",\"dot\",\"dog\",\"lot\",\"log\"]), 0);\n",
        "});\n",
        "\n",
        "Deno.test(\"ladderLength - single word\", () => {\n",
        "  assertEquals(ladderLength(\"hit\", \"hit\", [\"hit\"]), 1);\n",
        "});\n",
        "\n",
        "Deno.test(\"ladderLength - empty wordList\", () => {\n",
        "  assertEquals(ladderLength(\"hit\", \"cog\", []), 0);\n",
        "});\n",
        "\n"
      ]
    }
  ],
  "metadata": {
    "kernelspec": {
      "display_name": "Deno",
      "name": "deno"
    },
    "language_info": {
      "name": "typescript",
      "version": "1.0"
    },
    "title": "Word Ladder"
  },
  "nbformat": 4,
  "nbformat_minor": 5
}
