{
  "cells": [
    {
      "cell_type": "markdown",
      "metadata": {},
      "source": [
        "# [Word Ladder](https://leetcode.com/problems/word-ladder)\n",
        "\n",
        "## Description  \n",
        "Find the shortest transformation sequence from `beginWord` to `endWord`, changing one letter at a time using words in a given list.\n",
        "\n",
        "## Strategy  \n",
        "Use BFS to find the shortest path between the start and end words through valid transformations.\n",
        "\n"
      ]
    },
    {
      "cell_type": "code",
      "execution_count": 4,
      "id": "e1768f73",
      "metadata": {},
      "outputs": [],
      "source": [
        "function ladderLength(beginWord: string, endWord: string, wordList: string[]): number {\n",
        "    let L: number = beginWord.length;\n",
        "    let allComboDict: { [key: string]: string[] } = {};\n",
        "    for (let word of wordList) {\n",
        "        for (let i = 0; i < L; i++) {\n",
        "            let newWord = word.substring(0, i) + \"*\" + word.substring(i + 1, L);\n",
        "            if (!allComboDict[newWord]) allComboDict[newWord] = [];\n",
        "            allComboDict[newWord].push(word);\n",
        "        }\n",
        "    }\n",
        "    let Q: [string, number][] = [[beginWord, 1]];\n",
        "    let visited: { [key: string]: boolean } = { [beginWord]: true };\n",
        "    while (Q.length > 0) {\n",
        "        let node = Q.shift() as [string, number];\n",
        "        let word: string = node[0];\n",
        "        let level: number = node[1];\n",
        "        for (let i = 0; i < L; i++) {\n",
        "            let newWord = word.substring(0, i) + \"*\" + word.substring(i + 1, L);\n",
        "            for (let adjacentWord of allComboDict[newWord] || []) {\n",
        "                if (adjacentWord === endWord) return level + 1;\n",
        "                if (!visited[adjacentWord]) {\n",
        "                    visited[adjacentWord] = true;\n",
        "                    Q.push([adjacentWord, level + 1]);\n",
        "                }\n",
        "            }\n",
        "        }\n",
        "    }\n",
        "    return 0;\n",
        "}"
      ]
    },
    {
      "cell_type": "code",
      "execution_count": 5,
      "metadata": {},
      "outputs": [
        {
          "name": "stdout",
          "output_type": "stream",
          "text": [
            "ladderLength - basic ... \u001b[0m\u001b[32mok\u001b[0m \u001b[0m\u001b[38;5;245m(0ms)\u001b[0m\n",
            "ladderLength - unreachable end ... \u001b[0m\u001b[32mok\u001b[0m \u001b[0m\u001b[38;5;245m(21ms)\u001b[0m\n",
            "ladderLength - single word ... \u001b[0m\u001b[31mFAILED\u001b[0m \u001b[0m\u001b[38;5;245m(4ms)\u001b[0m\n",
            "ladderLength - empty wordList ... \u001b[0m\u001b[32mok\u001b[0m \u001b[0m\u001b[38;5;245m(0ms)\u001b[0m\n",
            "\n",
            "\u001b[0m\u001b[1m\u001b[37m\u001b[41m ERRORS \u001b[0m\n",
            "\n",
            "ladderLength - single word \u001b[0m\u001b[38;5;245m=> <anonymous>:21:6\u001b[0m\n",
            "\u001b[0m\u001b[1m\u001b[31merror\u001b[0m: AssertionError: Values are not equal.\n",
            "\n",
            "\n",
            "    \u001b[90m\u001b[1m[Diff]\u001b[22m\u001b[39m \u001b[31m\u001b[1mActual\u001b[22m\u001b[39m / \u001b[32m\u001b[1mExpected\u001b[22m\u001b[39m\n",
            "\n",
            "\n",
            "\u001b[31m\u001b[1m-   2\u001b[22m\u001b[39m\n",
            "\u001b[32m\u001b[1m+   1\u001b[22m\u001b[39m\n",
            "\n",
            "  throw new AssertionError(message);\n",
            "\u001b[0m\u001b[31m        ^\u001b[0m\n",
            "    at \u001b[0m\u001b[1m\u001b[3mModule.assertEquals\u001b[0m (\u001b[0m\u001b[36mhttps://deno.land/std@0.224.0/assert/assert_equals.ts\u001b[0m:\u001b[0m\u001b[33m52\u001b[0m:\u001b[0m\u001b[33m9\u001b[0m)\n",
            "    at \u001b[0m\u001b[1m\u001b[3massertEquals\u001b[0m (\u001b[0m\u001b[36mhttps://deno.land/std@0.224.0/testing/asserts.ts\u001b[0m:\u001b[0m\u001b[33m101\u001b[0m:\u001b[0m\u001b[33m11\u001b[0m)\n",
            "    at \u001b[0m\u001b[36m<anonymous>\u001b[0m:\u001b[0m\u001b[33m22\u001b[0m:\u001b[0m\u001b[33m3\u001b[0m\n",
            "\n",
            "\u001b[0m\u001b[1m\u001b[37m\u001b[41m FAILURES \u001b[0m\n",
            "\n",
            "ladderLength - single word \u001b[0m\u001b[38;5;245m=> <anonymous>:21:6\u001b[0m\n",
            "\n",
            "\u001b[0m\u001b[31mFAILED\u001b[0m | 3 passed | 1 failed \u001b[0m\u001b[38;5;245m(27ms)\u001b[0m\n"
          ]
        }
      ],
      "source": [
        "import { assertEquals } from \"https://deno.land/std/testing/asserts.ts\";\n",
        "\n",
        "Deno.test(\"ladderLength - basic\", () => {\n",
        "  assertEquals(ladderLength(\"hit\", \"cog\", [\"hot\",\"dot\",\"dog\",\"lot\",\"log\",\"cog\"]), 5);\n",
        "});\n",
        "\n",
        "Deno.test(\"ladderLength - unreachable end\", () => {\n",
        "  assertEquals(ladderLength(\"hit\", \"cog\", [\"hot\",\"dot\",\"dog\",\"lot\",\"log\"]), 0);\n",
        "});\n",
        "\n",
        "Deno.test(\"ladderLength - single word\", () => {\n",
        "  assertEquals(ladderLength(\"hit\", \"hit\", [\"hit\"]), 1);\n",
        "});\n",
        "\n",
        "Deno.test(\"ladderLength - empty wordList\", () => {\n",
        "  assertEquals(ladderLength(\"hit\", \"cog\", []), 0);\n",
        "});\n",
        "\n"
      ]
    }
  ],
  "metadata": {
    "kernelspec": {
      "display_name": "Deno",
      "language": "typescript",
      "name": "deno"
    },
    "language_info": {
      "codemirror_mode": "typescript",
      "file_extension": ".ts",
      "mimetype": "text/x.typescript",
      "name": "typescript",
      "nbconvert_exporter": "script",
      "pygments_lexer": "typescript",
      "version": "5.8.3"
    },
    "title": "Word Ladder"
  },
  "nbformat": 4,
  "nbformat_minor": 5
}
