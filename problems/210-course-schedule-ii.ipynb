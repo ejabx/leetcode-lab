{
  "cells": [
    {
      "cell_type": "markdown",
      "id": "4933fff3",
      "metadata": {
        "tags": [
          "Depth-First Search",
          "Breadth-First Search",
          "Graph",
          "Topological Sort"
        ]
      },
      "source": [
        "# [Course Schedule II](https://leetcode.com/problems/course-schedule-ii/)\n",
        "## Description\n",
        "Given a number of courses and a list of prerequisites, return an ordering of courses you can take to finish all.\n",
        "If it's not possible, return an empty array.\n",
        "## Strategy\n",
        "Use [topological sort](../resources/topological-sorting.ipynb) via BFS (Kahn's algorithm) or DFS with cycle detection.\n",
        "Maintain an adjacency list and track indegrees."
      ]
    },
    {
      "cell_type": "code",
      "execution_count": null,
      "metadata": {},
      "outputs": [],
      "source": [
        "export function findOrder(numCourses: number, prerequisites: number[][]): number[] {\n",
        "  const graph: Map<number, number[]> = new Map()\n",
        "\n",
        "  // construct graph\n",
        "  for(const [course, prereq] of prerequisites) {\n",
        "    if (!graph.has(prereq)) graph.set(prereq, [])\n",
        "      graph.get(prereq)!.push(course)\n",
        "  }\n",
        "\n",
        "  const Visited = {\n",
        "    WHITE: 0,\n",
        "    GREY: 1,\n",
        "    BLACK: 2\n",
        "  }\n",
        "\n",
        "  const status: number[] = new Array(numCourses).fill(Visited.WHITE)\n",
        "  const results: number[] = []\n",
        "\n",
        "  function dfs(node: number): boolean {\n",
        "    if (status[node] === Visited.BLACK) return true\n",
        "    if (status[node] === Visited.GREY) return false\n",
        "\n",
        "    status[node] = Visited.GREY\n",
        "\n",
        "    for(const neighbor of graph.get(node) || []) {\n",
        "      if (!dfs(neighbor)) return false\n",
        "    }\n",
        "\n",
        "    status[node] = Visited.BLACK\n",
        "    results.push(node)\n",
        "\n",
        "    return true\n",
        "  }\n",
        "\n",
        "  for(let course = 0; course < numCourses; course++) {\n",
        "    if (status[course] === Visited.WHITE && !dfs(course)) {\n",
        "      return []\n",
        "    }\n",
        "  }\n",
        "\n",
        "  return results.reverse();\n",
        "}"
      ]
    },
    {
      "cell_type": "code",
      "execution_count": 16,
      "metadata": {},
      "outputs": [
        {
          "name": "stdout",
          "output_type": "stream",
          "text": [
            "Course Order - Possible ...Map(1) { 0 => [ 1 ] }\n",
            " \u001b[0m\u001b[32mok\u001b[0m \u001b[0m\u001b[38;5;245m(0ms)\u001b[0m\n",
            "Course Order - Not Possible ...Map(2) { 0 => [ 1 ], 1 => [ 0 ] }\n",
            " \u001b[0m\u001b[32mok\u001b[0m \u001b[0m\u001b[38;5;245m(0ms)\u001b[0m\n",
            "Course Order - Multiple Paths ...Map(3) { 0 => [ 1, 2 ], 1 => [ 3 ], 2 => [ 3 ] }\n",
            " \u001b[0m\u001b[32mok\u001b[0m \u001b[0m\u001b[38;5;245m(0ms)\u001b[0m\n",
            "\n",
            "\u001b[0m\u001b[32mok\u001b[0m | 3 passed | 0 failed \u001b[0m\u001b[38;5;245m(1ms)\u001b[0m\n"
          ]
        }
      ],
      "source": [
        "import { assertEquals } from \"https://deno.land/std/testing/asserts.ts\";\n",
        "\n",
        "Deno.test(\"Course Order - Possible\", () => {\n",
        "  assertEquals(findOrder(2, [[1,0]]), [0,1]);\n",
        "});\n",
        "\n",
        "Deno.test(\"Course Order - Not Possible\", () => {\n",
        "  assertEquals(findOrder(2, [[1,0],[0,1]]), []);\n",
        "});\n",
        "\n",
        "Deno.test(\"Course Order - Multiple Paths\", () => {\n",
        "  const res = findOrder(4, [[1,0],[2,0],[3,1],[3,2]]);\n",
        "  assertEquals(new Set(res), new Set([0,1,2,3]));\n",
        "});\n",
        "\n"
      ]
    }
  ],
  "metadata": {
    "kernelspec": {
      "display_name": "Deno",
      "language": "typescript",
      "name": "deno"
    },
    "language_info": {
      "codemirror_mode": "typescript",
      "file_extension": ".ts",
      "mimetype": "text/x.typescript",
      "name": "typescript",
      "nbconvert_exporter": "script",
      "pygments_lexer": "typescript",
      "version": "5.8.3"
    },
    "title": "Course Schedule II"
  },
  "nbformat": 4,
  "nbformat_minor": 5
}
