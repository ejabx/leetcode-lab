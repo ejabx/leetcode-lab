{
  "cells": [
    {
      "cell_type": "markdown",
      "id": "4933fff3",
      "metadata": {},
      "source": [
        "# [Course Schedule II](https://leetcode.com/problems/course-schedule-ii/)\n",
        "## Description\n",
        "Given a number of courses and a list of prerequisites, return an ordering of courses you can take to finish all.\n",
        "If it's not possible, return an empty array.\n",
        "## Strategy\n",
        "Use topological sort via BFS (Kahn's algorithm) or DFS with cycle detection.\n",
        "Maintain an adjacency list and track indegrees."
      ]
    },
    {
      "cell_type": "code",
      "execution_count": null,
      "metadata": {},
      "outputs": [],
      "source": [
        "export function findOrder(numCourses: number, prerequisites: number[][]): number[] {\n",
        "  return [];\n",
        "}\n",
        "\n"
      ]
    },
    {
      "cell_type": "code",
      "execution_count": null,
      "metadata": {},
      "outputs": [],
      "source": [
        "import { assertEquals } from \"https://deno.land/std/testing/asserts.ts\";\n",
        "\n",
        "Deno.test(\"Course Order - Possible\", () => {\n",
        "  assertEquals(findOrder(2, [[1,0]]), [0,1]);\n",
        "});\n",
        "\n",
        "Deno.test(\"Course Order - Not Possible\", () => {\n",
        "  assertEquals(findOrder(2, [[1,0],[0,1]]), []);\n",
        "});\n",
        "\n",
        "Deno.test(\"Course Order - Multiple Paths\", () => {\n",
        "  const res = findOrder(4, [[1,0],[2,0],[3,1],[3,2]]);\n",
        "  assertEquals(new Set(res), new Set([0,1,2,3]));\n",
        "});\n",
        "\n"
      ]
    }
  ],
  "metadata": {
    "kernelspec": {
      "display_name": "Deno",
      "name": "deno"
    },
    "language_info": {
      "name": "typescript",
      "version": "1.0"
    },
    "title": "Course Schedule II"
  },
  "nbformat": 4,
  "nbformat_minor": 5
}
