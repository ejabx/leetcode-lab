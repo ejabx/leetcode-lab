{
 "cells": [
  {
   "cell_type": "markdown",
   "id": "a5bcd663",
   "metadata": {
    "tags": [
     "Array",
     "Two Pointers",
     "Sorting"
    ]
   },
   "source": [
    "# [3Sum](https://leetcode.com/problems/3sum/)\n",
    "\n",
    "Given an array of integers, find all unique triplets (three numbers) that sum to zero. You cannot use the same element more than once in the same triplet.  \n",
    "_The result must not contain duplicate triplets._\n",
    "\n",
    "## [Strategy](https://www.youtube.com/watch?v=jzZsG8n2R9A)\n",
    "1. Sort the array first.\n",
    "2. Loop through the array with index i, treating nums[i] as the first number in a triplet.\n",
    "3. Use the two-pointer technique starting from i+1 to the end to find two other numbers that sum with nums[i] to zero.\n",
    "4. Skip duplicates for both i, left, and right to ensure unique triplets.\n",
    "\n",
    "__Time__: O(n²) — due to nested loops with two pointers.  \n",
    "__Space__: O(1) — not counting the output list.  "
   ]
  },
  {
   "cell_type": "markdown",
   "id": "4e451c00",
   "metadata": {},
   "source": [
    "## Solution"
   ]
  },
  {
   "cell_type": "code",
   "execution_count": null,
   "id": "a9813dfd",
   "metadata": {},
   "outputs": [],
   "source": [
    "function threeSum(nums: number[]): number[][] {\n",
    "    const sortNums: number[] = nums.sort((a, b) => a-b);\n",
    "    const results = []\n",
    "    let sum = -Infinity;\n",
    "\n",
    "    for(let i = 0; i < sortNums.length; i++) {\n",
    "        const n = nums[i]\n",
    "        if (i > 0 && n === nums[i - 1]) {\n",
    "            continue;\n",
    "        }\n",
    "\n",
    "        let low = i + 1;\n",
    "        let high = nums.length - 1\n",
    "        while (low < high) {\n",
    "            const sum = n + nums[low] + nums[high]\n",
    "            if (sum === 0) {\n",
    "                results.push([n, nums[low], nums[high]])\n",
    "                low++\n",
    "                while (nums[low] === nums[low - 1] && low < high) {\n",
    "                    low++\n",
    "                }\n",
    "            } else if (sum < 0) {\n",
    "                low++\n",
    "            }\n",
    "            else {\n",
    "                high--;\n",
    "            }\n",
    "        }\n",
    "    }\n",
    "\n",
    "    return results;\n",
    "};"
   ]
  },
  {
   "cell_type": "code",
   "execution_count": 6,
   "id": "0f55ead8",
   "metadata": {},
   "outputs": [
    {
     "name": "stdout",
     "output_type": "stream",
     "text": [
      "threeSum - basic ... \u001b[0m\u001b[32mok\u001b[0m \u001b[0m\u001b[38;5;245m(0ms)\u001b[0m\n",
      "threeSum - no valid triplet ... \u001b[0m\u001b[32mok\u001b[0m \u001b[0m\u001b[38;5;245m(0ms)\u001b[0m\n",
      "threeSum - multiple zeros ... \u001b[0m\u001b[32mok\u001b[0m \u001b[0m\u001b[38;5;245m(0ms)\u001b[0m\n",
      "\n",
      "\u001b[0m\u001b[32mok\u001b[0m | 3 passed | 0 failed \u001b[0m\u001b[38;5;245m(0ms)\u001b[0m\n"
     ]
    }
   ],
   "source": [
    "import { assertEquals } from \"jsr:@std/assert\";\n",
    "\n",
    "function sortTriplets(triplets: number[][]): number[][] {\n",
    "  return triplets.map(t => [...t].sort((a, b) => a - b))\n",
    "                 .sort((a, b) => a[0] - b[0] || a[1] - b[1] || a[2] - b[2]);\n",
    "}\n",
    "\n",
    "Deno.test(\"threeSum - basic\", () => {\n",
    "  const result = sortTriplets(threeSum([-1, 0, 1, 2, -1, -4]));\n",
    "  const expected = sortTriplets([[-1, -1, 2], [-1, 0, 1]]);\n",
    "  assertEquals(result, expected);\n",
    "});\n",
    "\n",
    "Deno.test(\"threeSum - no valid triplet\", () => {\n",
    "  assertEquals(threeSum([1, 2, -2, -1]), []);\n",
    "});\n",
    "\n",
    "Deno.test(\"threeSum - multiple zeros\", () => {\n",
    "  const result = sortTriplets(threeSum([0, 0, 0, 0]));\n",
    "  const expected = sortTriplets([[0, 0, 0]]);\n",
    "  assertEquals(result, expected);\n",
    "});"
   ]
  },
  {
   "cell_type": "markdown",
   "id": "4b7e5051",
   "metadata": {},
   "source": [
    "## Test Cases\n",
    "_Expected to fail until Solution is solved_"
   ]
  }
 ],
 "metadata": {
  "kernelspec": {
   "display_name": "Deno",
   "language": "typescript",
   "name": "deno"
  },
  "language_info": {
   "codemirror_mode": "typescript",
   "file_extension": ".ts",
   "mimetype": "text/x.typescript",
   "name": "typescript",
   "nbconvert_exporter": "script",
   "pygments_lexer": "typescript",
   "version": "5.8.3"
  }
 },
 "nbformat": 4,
 "nbformat_minor": 5
}
