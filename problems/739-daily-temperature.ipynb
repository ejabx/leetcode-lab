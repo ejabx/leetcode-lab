{
 "cells": [
  {
   "cell_type": "markdown",
   "id": "4231dbd4",
   "metadata": {
    "tags": [
     "Array",
     "Stack",
     "Monotonic Stack"
    ]
   },
   "source": [
    "# [Daily Temperature](https://leetcode.com/problems/daily-temperatures/description/)\n",
    "\n",
    "For each day in a temperature list, return the number of days to wait until a warmer temperature. If none, return 0. Use a stack to track indices.\n",
    "\n",
    "## Strategy\n",
    "\n",
    "Use a [__monotonic decreasing stack to store indices__](../resources/montonic-stack.ipynb).\n",
    "\n",
    "- As you iterate through the array:\n",
    "    - Pop from the stack while the current temp is higher than the one at the top index.\n",
    "    - The difference between the current index and the popped index gives the number of days to wait.\n",
    "\n",
    "__Time__: O(n)  \n",
    "__Space__: O(n)  \n",
    "\n",
    "🚫 Common Pitfalls:\n",
    "- Pushing values instead of indices onto the stack.\n",
    "- Not filling the result array with default 0s."
   ]
  },
  {
   "cell_type": "markdown",
   "id": "262206e8",
   "metadata": {},
   "source": [
    "## Solution\n"
   ]
  },
  {
   "cell_type": "code",
   "execution_count": 16,
   "id": "7aebb81a",
   "metadata": {},
   "outputs": [],
   "source": [
    "function dailyTemperatures_brute(temperatures: numbers[]): number[] {\n",
    "    const n: number = temperatures.length\n",
    "    let results = new Array(n).fill(0)\n",
    "\n",
    "    for(let i = 0; i < n; i++) {\n",
    "        for(let j = i + 1; j < n; j++) {\n",
    "            if (temperatures[j] > temperatures[i]) {\n",
    "                results[i] = j - i\n",
    "                break\n",
    "            }\n",
    "        }\n",
    "    }\n",
    "\n",
    "    return results\n",
    "}\n",
    "\n",
    "function dailyTemperatures(temperatures: number[]): number[] {\n",
    "    const n: number = temperatures.length\n",
    "    let stack = new Array(n).fill(0)\n",
    "    let results = new Array(n).fill(0)\n",
    "\n",
    "    for(let i = 0; i < n; i++) {\n",
    "        while(stack.length && temperatures[i] > temperatures[stack[stack.length - 1]]) {\n",
    "            const idx = stack.pop()!\n",
    "            results[idx] = i - idx\n",
    "        }\n",
    "        stack.push(i)\n",
    "    }\n",
    "\n",
    "    return results\n",
    "};\n"
   ]
  },
  {
   "cell_type": "markdown",
   "id": "b5ec007c",
   "metadata": {},
   "source": [
    "## Test Cases"
   ]
  },
  {
   "cell_type": "code",
   "execution_count": null,
   "id": "fd86c282",
   "metadata": {},
   "outputs": [],
   "source": []
  },
  {
   "cell_type": "code",
   "execution_count": 17,
   "id": "a10ce450",
   "metadata": {},
   "outputs": [
    {
     "name": "stdout",
     "output_type": "stream",
     "text": [
      "dailyTemperatures - standard pattern ... \u001b[0m\u001b[32mok\u001b[0m \u001b[0m\u001b[38;5;245m(1ms)\u001b[0m\n",
      "dailyTemperatures - all decreasing ... \u001b[0m\u001b[32mok\u001b[0m \u001b[0m\u001b[38;5;245m(0ms)\u001b[0m\n",
      "dailyTemperatures - all increasing ... \u001b[0m\u001b[32mok\u001b[0m \u001b[0m\u001b[38;5;245m(0ms)\u001b[0m\n",
      "dailyTemperatures - flat temperatures ... \u001b[0m\u001b[32mok\u001b[0m \u001b[0m\u001b[38;5;245m(0ms)\u001b[0m\n",
      "dailyTemperatures - single day ... \u001b[0m\u001b[32mok\u001b[0m \u001b[0m\u001b[38;5;245m(0ms)\u001b[0m\n",
      "\n",
      "\u001b[0m\u001b[32mok\u001b[0m | 5 passed | 0 failed \u001b[0m\u001b[38;5;245m(2ms)\u001b[0m\n"
     ]
    }
   ],
   "source": [
    "import { assertEquals } from \"jsr:@std/assert\";\n",
    "\n",
    "Deno.test(\"dailyTemperatures - standard pattern\", () => {\n",
    "  assertEquals(dailyTemperatures([73, 74, 75, 71, 69, 72, 76, 73]), [1, 1, 4, 2, 1, 1, 0, 0]);\n",
    "});\n",
    "\n",
    "Deno.test(\"dailyTemperatures - all decreasing\", () => {\n",
    "  assertEquals(dailyTemperatures([80, 78, 75, 70]), [0, 0, 0, 0]);\n",
    "});\n",
    "\n",
    "Deno.test(\"dailyTemperatures - all increasing\", () => {\n",
    "  assertEquals(dailyTemperatures([60, 65, 70, 75]), [1, 1, 1, 0]);\n",
    "});\n",
    "\n",
    "Deno.test(\"dailyTemperatures - flat temperatures\", () => {\n",
    "  assertEquals(dailyTemperatures([70, 70, 70]), [0, 0, 0]);\n",
    "});\n",
    "\n",
    "Deno.test(\"dailyTemperatures - single day\", () => {\n",
    "  assertEquals(dailyTemperatures([73]), [0]);\n",
    "});"
   ]
  },
  {
   "cell_type": "code",
   "execution_count": null,
   "id": "aabd636c",
   "metadata": {},
   "outputs": [],
   "source": []
  }
 ],
 "metadata": {
  "kernelspec": {
   "display_name": "Deno",
   "language": "typescript",
   "name": "deno"
  },
  "language_info": {
   "codemirror_mode": "typescript",
   "file_extension": ".ts",
   "mimetype": "text/x.typescript",
   "name": "typescript",
   "nbconvert_exporter": "script",
   "pygments_lexer": "typescript",
   "version": "5.8.3"
  }
 },
 "nbformat": 4,
 "nbformat_minor": 5
}
