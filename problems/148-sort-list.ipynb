{
  "cells": [
    {
      "cell_type": "markdown",
      "metadata": {
        "tags": [
          "Linked List",
          "Two Pointers",
          "Divide and Conquer",
          "Sorting",
          "Merge Sort"
        ]
      },
      "source": [
        "# [Sort List](https://leetcode.com/problems/sort-list/description/)\n",
        "Sort a singly linked list in O(n log n) time and constant space.\n",
        "## Strategy\n",
        "- Use the slow-fast pointer technique to find the middle.\n",
        "- Recursively split and merge sorted halves.\n",
        "- Merge two sorted linked lists."
      ]
    },
    {
      "cell_type": "markdown",
      "metadata": {},
      "source": [
        "## Solution\n",
        "\n"
      ]
    },
    {
      "cell_type": "code",
      "execution_count": 31,
      "metadata": {},
      "outputs": [],
      "source": [
        "import { ListNode } from \"../bin/utils.ts\";\n",
        "\n",
        "function splitMid(head: ListNode): ListNode {\n",
        "    let prev = null;\n",
        "    let slow = head;\n",
        "    let fast = head;\n",
        "    \n",
        "    while (fast && fast.next) {\n",
        "        prev = slow\n",
        "        slow = slow.next;        // Move 1 step\n",
        "        fast = fast.next.next;   // Move 2 steps\n",
        "    }\n",
        "    \n",
        "    // When fast reaches end, slow is at middle\n",
        "    if (prev) prev.next = null\n",
        "    return slow;\n",
        "}\n",
        "\n",
        "function mergeTwoLists(list1: ListNode | null, list2: ListNode | null): ListNode | null {\n",
        "    const result: ListNode = new ListNode()\n",
        "    let curr = result\n",
        "\n",
        "    while (list1 && list2) {\n",
        "        if (list1.val < list2.val) {\n",
        "            curr.next = list1\n",
        "            curr = list1\n",
        "            list1 = list1.next\n",
        "        } else {\n",
        "            curr.next = list2\n",
        "            curr = list2\n",
        "            list2 = list2.next\n",
        "        }\n",
        "    }\n",
        "\n",
        "    if (list1) curr.next = list1\n",
        "    if (list2) curr.next = list2\n",
        "\n",
        "    return result.next\n",
        "};\n",
        "\n",
        "function sortList(head: ListNode | null): ListNode | null {\n",
        "    if (!head || !head.next) return head\n",
        "    const mid = splitMid(head)\n",
        "    const sortedLeft = sortList(head)   // Sort first half\n",
        "    const sortedRight = sortList(mid)   // Sort second half  \n",
        "    return mergeTwoLists(sortedLeft, sortedRight)  // Merge sorted halves\n",
        "};"
      ]
    },
    {
      "cell_type": "markdown",
      "metadata": {},
      "source": [
        "## Test Cases\n",
        "\n"
      ]
    },
    {
      "cell_type": "code",
      "execution_count": 37,
      "metadata": {},
      "outputs": [
        {
          "name": "stdout",
          "output_type": "stream",
          "text": [
            "Sort List: empty list ... \u001b[0m\u001b[32mok\u001b[0m \u001b[0m\u001b[38;5;245m(0ms)\u001b[0m\n",
            "Sort List: single node ... \u001b[0m\u001b[32mok\u001b[0m \u001b[0m\u001b[38;5;245m(0ms)\u001b[0m\n",
            "Sort List: already sorted ... \u001b[0m\u001b[32mok\u001b[0m \u001b[0m\u001b[38;5;245m(0ms)\u001b[0m\n",
            "Sort List: reverse sorted ... \u001b[0m\u001b[32mok\u001b[0m \u001b[0m\u001b[38;5;245m(0ms)\u001b[0m\n",
            "Sort List: duplicates ... \u001b[0m\u001b[32mok\u001b[0m \u001b[0m\u001b[38;5;245m(0ms)\u001b[0m\n",
            "\n",
            "\u001b[0m\u001b[32mok\u001b[0m | 5 passed | 0 failed \u001b[0m\u001b[38;5;245m(1ms)\u001b[0m\n"
          ]
        }
      ],
      "source": [
        "import { assertEquals } from \"https://deno.land/std/testing/asserts.ts\";\n",
        "\n",
        "Deno.test(\"Sort List: empty list\", () => {\n",
        "  assertEquals((sortList(new ListNode()).toArray()), [0]);\n",
        "});\n",
        "\n",
        "Deno.test(\"Sort List: single node\", () => {\n",
        "  assertEquals((sortList(new ListNode(1)).toArray()), [1]);\n",
        "});\n",
        "\n",
        "Deno.test(\"Sort List: already sorted\", () => {\n",
        "  const sorted = ListNode.fromArray([1, 2, 3, 4]);\n",
        "  assertEquals((sortList(sorted).toArray()), [1, 2, 3, 4]);\n",
        "});\n",
        "\n",
        "Deno.test(\"Sort List: reverse sorted\", () => {\n",
        "  const reversed = ListNode.fromArray([4, 3, 2, 1]);\n",
        "  assertEquals((sortList(reversed).toArray()), [1, 2, 3, 4]);\n",
        "});\n",
        "\n",
        "Deno.test(\"Sort List: duplicates\", () => {\n",
        "  const duplicates = ListNode.fromArray([2, 3, 2, 1]);\n",
        "  assertEquals((sortList(duplicates).toArray()), [1, 2, 2, 3]);\n",
        "});\n",
        "\n"
      ]
    }
  ],
  "metadata": {
    "author": "Me",
    "kernelspec": {
      "display_name": "Deno",
      "language": "typescript",
      "name": "deno"
    },
    "language_info": {
      "codemirror_mode": "typescript",
      "file_extension": ".ts",
      "mimetype": "text/x.typescript",
      "name": "typescript",
      "nbconvert_exporter": "script",
      "pygments_lexer": "typescript",
      "version": "5.8.3"
    },
    "title": "Problem"
  },
  "nbformat": 4,
  "nbformat_minor": 2
}
