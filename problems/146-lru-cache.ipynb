{
  "cells": [
    {
      "cell_type": "markdown",
      "metadata": {
        "tags": [
          "Hash Tables",
          "Linked List",
          "Design",
          "Doubly-Linked List"
        ]
      },
      "source": [
        "# [LRU Cache](https://leetcode.com/problems/lru-cache/description/)\n",
        "\n",
        "Design a data structure to store key-value pairs with fast access and update. When capacity is exceeded, evict the least recently used item.\n",
        "## Strategy\n",
        "> Without capacity, this would be a simple hash, so you'll need another data structure. The O(1) requirement hints that additional structure must also have O(1) ability, like a linked list.\n",
        "- Use a [doubly linked list](../resources/linked-list.ipynb) to keep track of usage order (most recent at head).\n",
        "- Use a hash map for O(1) access to nodes.\n",
        "- On get, move accessed node to head.\n",
        "- On put, insert new node at head, remove tail if over capacity.\n",
        "\n",
        "## Remember\n",
        "- When removing a doubling linked list element with dummy nodes, you can use a generic code to remove any element\n"
      ]
    },
    {
      "cell_type": "markdown",
      "metadata": {},
      "source": [
        "## Solution\n",
        "\n"
      ]
    },
    {
      "cell_type": "code",
      "execution_count": null,
      "metadata": {},
      "outputs": [],
      "source": [
        "class Node {\n",
        "  constructor(key?: number, val?: number) {\n",
        "    this.key = key ?? null\n",
        "    this.val = val ?? null\n",
        "    this.next = null\n",
        "    this.prev = null\n",
        "  }\n",
        "}\n",
        "\n",
        "class LRUCache {\n",
        "  constructor(capacity: number) {\n",
        "      this.map = new Map<number, Node>()\n",
        "      this.capacity = capacity\n",
        "      this.head = new Node()\n",
        "      this.tail = new Node()\n",
        "      this.head.next = this.tail\n",
        "      this.tail.prev = this.head\n",
        "  }\n",
        "\n",
        "  moveToFront(key: number) {\n",
        "      const node: Node = this.map.get(key)\n",
        "\n",
        "      // head node can remain where it is\n",
        "      if(this.head.next !== node) {\n",
        "        // remove node\n",
        "        node.prev.next = node.next\n",
        "        node.next.prev = node.prev\n",
        "        \n",
        "        node.next = this.head.next\n",
        "        node.prev = this.head\n",
        "        this.head.next.prev = node\n",
        "        this.head.next = node\n",
        "      }\n",
        "  }\n",
        "\n",
        "  get(key: number): number {\n",
        "    if (this.map.has(key)) {\n",
        "        this.moveToFront(key)\n",
        "        return this.map.get(key).val\n",
        "    }\n",
        "\n",
        "    return -1\n",
        "  }\n",
        "\n",
        "  put(key: number, value: number): void {\n",
        "    // just update if it already exists\n",
        "    if (this.map.has(key)) {\n",
        "      this.map.get(key).val = value\n",
        "      this.moveToFront(key)\n",
        "    } else {\n",
        "      // remove the LRU\n",
        "      if ((this.map.size + 1) > this.capacity) {\n",
        "        // cull\n",
        "        const lru: Node = this.tail.prev\n",
        "        lru.prev.next = this.tail\n",
        "        this.tail.prev = lru.prev\n",
        "\n",
        "        // remove from the map\n",
        "        this.map.delete(lru.key)\n",
        "      }\n",
        "\n",
        "      // store in front\n",
        "      const node: Node = new Node(key, value)\n",
        "      node.prev = this.head\n",
        "      node.next = this.head.next\n",
        "      this.head.next.prev = node\n",
        "      this.head.next = node\n",
        "\n",
        "      // store in map\n",
        "      this.map.set(key, node)\n",
        "    }\n",
        "  }\n",
        "}"
      ]
    },
    {
      "cell_type": "markdown",
      "metadata": {},
      "source": [
        "## Test Cases\n",
        "\n"
      ]
    },
    {
      "cell_type": "code",
      "execution_count": 48,
      "metadata": {},
      "outputs": [
        {
          "name": "stdout",
          "output_type": "stream",
          "text": [
            "LRU Cache: put key 1 ... \u001b[0m\u001b[32mok\u001b[0m \u001b[0m\u001b[38;5;245m(1ms)\u001b[0m\n",
            "LRU Cache: put key 2 ... \u001b[0m\u001b[32mok\u001b[0m \u001b[0m\u001b[38;5;245m(0ms)\u001b[0m\n",
            "LRU Cache: evict least recently used key ... \u001b[0m\u001b[32mok\u001b[0m \u001b[0m\u001b[38;5;245m(0ms)\u001b[0m\n",
            "LRU Cache: update value of existing key ... \u001b[0m\u001b[32mok\u001b[0m \u001b[0m\u001b[38;5;245m(0ms)\u001b[0m\n",
            "LRU Cache: evict after capacity exceeded ... \u001b[0m\u001b[32mok\u001b[0m \u001b[0m\u001b[38;5;245m(0ms)\u001b[0m\n",
            "\n",
            "\u001b[0m\u001b[32mok\u001b[0m | 5 passed | 0 failed \u001b[0m\u001b[38;5;245m(2ms)\u001b[0m\n"
          ]
        }
      ],
      "source": [
        "import { assertEquals } from \"https://deno.land/std/testing/asserts.ts\";\n",
        "\n",
        "Deno.test(\"LRU Cache: put key 1\", () => {\n",
        "  const cache = new LRUCache(2);\n",
        "  cache.put(1, 1);\n",
        "  assertEquals(cache.get(1), 1);\n",
        "});\n",
        "\n",
        "Deno.test(\"LRU Cache: put key 2\", () => {\n",
        "  const cache = new LRUCache(2);\n",
        "  cache.put(1, 1);\n",
        "  cache.put(2, 2);\n",
        "  assertEquals(cache.get(2), 2);\n",
        "});\n",
        "\n",
        "Deno.test(\"LRU Cache: evict least recently used key\", () => {\n",
        "  const cache = new LRUCache(2);\n",
        "  cache.put(1, 1);\n",
        "  cache.put(2, 2);\n",
        "  cache.get(1);          // Access key 1\n",
        "  cache.put(3, 3);       // Evicts key 2\n",
        "  assertEquals(cache.get(2), -1);\n",
        "});\n",
        "\n",
        "Deno.test(\"LRU Cache: update value of existing key\", () => {\n",
        "  const cache = new LRUCache(2);\n",
        "  cache.put(1, 1);\n",
        "  cache.put(1, 10);\n",
        "  assertEquals(cache.get(1), 10);\n",
        "});\n",
        "\n",
        "Deno.test(\"LRU Cache: evict after capacity exceeded\", () => {\n",
        "  const cache = new LRUCache(2);\n",
        "  cache.put(1, 1);\n",
        "  cache.put(2, 2);\n",
        "  cache.put(3, 3); // Evicts key 1\n",
        "  assertEquals(cache.get(1), -1);\n",
        "});"
      ]
    },
    {
      "cell_type": "code",
      "execution_count": null,
      "metadata": {},
      "outputs": [],
      "source": []
    }
  ],
  "metadata": {
    "author": "ChatGPT",
    "kernelspec": {
      "display_name": "Deno",
      "language": "typescript",
      "name": "deno"
    },
    "language_info": {
      "codemirror_mode": "typescript",
      "file_extension": ".ts",
      "mimetype": "text/x.typescript",
      "name": "typescript",
      "nbconvert_exporter": "script",
      "pygments_lexer": "typescript",
      "version": "5.8.3"
    },
    "title": "Deno Notebook YAML Template"
  },
  "nbformat": 4,
  "nbformat_minor": 2
}
