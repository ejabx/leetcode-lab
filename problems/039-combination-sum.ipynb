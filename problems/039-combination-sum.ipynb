{
  "cells": [
    {
      "cell_type": "markdown",
      "metadata": {
        "tags": [
          "Array",
          "Backtracking"
        ]
      },
      "source": [
        "# [Combination Sum](https://leetcode.com/problems/combination-sum)\n",
        "\n",
        "Return all combinations that sum to target with unlimited reuse of elements.\n",
        "\n",
        "## Strategy  \n",
        "Backtracking with index to reuse elements.\n",
        "\n",
        "__Time:__ O(k^(target/min_candidate))  \n",
        "__Space:__ O(target/min_candidate)  "
      ]
    },
    {
      "cell_type": "code",
      "execution_count": null,
      "metadata": {},
      "outputs": [
        {
          "data": {
            "text/plain": [
              "[ [ \u001b[33m2\u001b[39m, \u001b[33m2\u001b[39m, \u001b[33m3\u001b[39m ], [ \u001b[33m7\u001b[39m ] ]"
            ]
          },
          "execution_count": 12,
          "metadata": {},
          "output_type": "execute_result"
        }
      ],
      "source": [
        "export function combinationSum(candidates: number[], target: number): number[][] {\n",
        "    const results: number[][] = []\n",
        "\n",
        "    function backtrack(start: number, current: number[], currentSum: number) {\n",
        "        if (target === currentSum) {\n",
        "            results.push([...current]);\n",
        "        } else if (currentSum < target) {\n",
        "            for (let i = start; i < candidates.length; i++) {\n",
        "                current.push(candidates[i])\n",
        "                backtrack(i, current, currentSum + candidates[i])\n",
        "                current.pop()\n",
        "            }\n",
        "        } else if (currentSum > target) {\n",
        "            return; // prune\n",
        "        }\n",
        "    }\n",
        "\n",
        "    backtrack(0, [], 0)\n",
        "\n",
        "    return results\n",
        "}\n",
        "\n",
        "combinationSum([2,3,6,7], 7)"
      ]
    },
    {
      "cell_type": "code",
      "execution_count": 13,
      "metadata": {},
      "outputs": [
        {
          "name": "stdout",
          "output_type": "stream",
          "text": [
            "combinationSum - basic ... \u001b[0m\u001b[32mok\u001b[0m \u001b[0m\u001b[38;5;245m(1ms)\u001b[0m\n",
            "\n",
            "\u001b[0m\u001b[32mok\u001b[0m | 1 passed | 0 failed \u001b[0m\u001b[38;5;245m(1ms)\u001b[0m\n"
          ]
        }
      ],
      "source": [
        "import { assertEquals } from \"https://deno.land/std/testing/asserts.ts\";\n",
        "\n",
        "Deno.test(\"combinationSum - basic\", () => {\n",
        "  assertEquals(combinationSum([2,3,6,7], 7).length > 0, true);\n",
        "});\n",
        "\n"
      ]
    }
  ],
  "metadata": {
    "kernelspec": {
      "display_name": "Deno",
      "language": "typescript",
      "name": "deno"
    },
    "language_info": {
      "codemirror_mode": "typescript",
      "file_extension": ".ts",
      "mimetype": "text/x.typescript",
      "name": "typescript",
      "nbconvert_exporter": "script",
      "pygments_lexer": "typescript",
      "version": "5.8.3"
    },
    "title": "Combination Sum"
  },
  "nbformat": 4,
  "nbformat_minor": 5
}
