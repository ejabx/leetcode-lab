{
  "cells": [
    {
      "cell_type": "markdown",
      "metadata": {},
      "source": [
        "# [Remove Invalid Parentheses](https://leetcode.com/problems/remove-invalid-parentheses/)\n",
        "\n",
        "Remove minimum invalid parentheses to make valid expressions.\n",
        "\n",
        "## Strategy  \n",
        "Use BFS or backtracking with pruning.\n",
        "\n"
      ]
    },
    {
      "cell_type": "code",
      "execution_count": null,
      "metadata": {},
      "outputs": [],
      "source": [
        "export function removeInvalidParentheses(s: string): string[] {\n",
        "  return [];\n",
        "}\n",
        "\n"
      ]
    },
    {
      "cell_type": "code",
      "execution_count": null,
      "metadata": {},
      "outputs": [],
      "source": [
        "import { assertEquals } from \"https://deno.land/std/testing/asserts.ts\";\n",
        "\n",
        "Deno.test(\"removeInvalidParentheses - extra right\", () => {\n",
        "  assertEquals(removeInvalidParentheses(\"()())()\").includes(\"(())()\"), true);\n",
        "});\n",
        "\n",
        "Deno.test(\"removeInvalidParentheses - all invalid\", () => {\n",
        "  assertEquals(removeInvalidParentheses(\")(\").includes(\"\"), true);\n",
        "});\n",
        "\n",
        "Deno.test(\"removeInvalidParentheses - already valid\", () => {\n",
        "  assertEquals(removeInvalidParentheses(\"()\"), [\"()\"]);\n",
        "});\n",
        "\n",
        "\n"
      ]
    }
  ],
  "metadata": {
    "kernelspec": {
      "display_name": "Deno",
      "name": "deno"
    },
    "language_info": {
      "name": "typescript",
      "version": "1.0"
    },
    "title": "[Remove Invalid Parentheses](https://leetcode.com/problems/remove-invalid-parentheses/)"
  },
  "nbformat": 4,
  "nbformat_minor": 5
}
