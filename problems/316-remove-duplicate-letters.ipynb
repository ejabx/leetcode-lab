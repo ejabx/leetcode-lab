{
 "cells": [
  {
   "cell_type": "markdown",
   "id": "4231dbd4",
   "metadata": {},
   "source": [
    "# [Remove Duplicate Letters](https://leetcode.com/problems/remove-duplicate-letters/description/)\n",
    "\n",
    "Given a string, remove duplicate letters so that the result is the __smallest in lexicographical order__ and contains each letter __only once__.\n",
    "\n",
    "> A string is lexicographically smaller than another string if it would appear earlier in dictionary order when both strings are sorted alphabetically.\n",
    "\n",
    "## Strategy\n",
    "\n",
    "- Use a monotonic stack.\n",
    "- Track last index of each character.\n",
    "- [Greedily](../resources/greedy-algorithm.ipynb) remove characters from the stack that:\n",
    "    - Can appear again later.\n",
    "    - Are lexicographically larger than the current one.\n",
    "\n",
    "__Time__: O(n)  \n",
    "__Space__: O(n)  "
   ]
  },
  {
   "cell_type": "markdown",
   "id": "262206e8",
   "metadata": {},
   "source": [
    "## Solution\n"
   ]
  },
  {
   "cell_type": "code",
   "execution_count": 15,
   "id": "7aebb81a",
   "metadata": {},
   "outputs": [],
   "source": [
    "function removeDuplicateLetters(s: string): string {\n",
    "    const stack: string[] = [];\n",
    "    const seen: Set<string> = new Set();\n",
    "    const lastOccurrence: Record<string, number> = {};\n",
    "    \n",
    "    // Find last occurrence of each character\n",
    "    for (let i = 0; i < s.length; i++) {\n",
    "        lastOccurrence[s[i]] = i;\n",
    "    }\n",
    "    \n",
    "    for (let i = 0; i < s.length; i++) {\n",
    "        const char: string = s[i];\n",
    "        \n",
    "        if (seen.has(char)) continue;\n",
    "        \n",
    "        // Remove larger characters that will appear later\n",
    "        while (stack.length > 0 && \n",
    "               stack[stack.length - 1] > char && \n",
    "               lastOccurrence[stack[stack.length - 1]] > i) {\n",
    "            seen.delete(stack.pop()!);\n",
    "        }\n",
    "        \n",
    "        stack.push(char);\n",
    "        seen.add(char);\n",
    "    }\n",
    "    \n",
    "    return stack.join('');\n",
    "};"
   ]
  },
  {
   "cell_type": "markdown",
   "id": "b5ec007c",
   "metadata": {},
   "source": [
    "## Test Cases"
   ]
  },
  {
   "cell_type": "code",
   "execution_count": 14,
   "id": "a10ce450",
   "metadata": {},
   "outputs": [
    {
     "name": "stdout",
     "output_type": "stream",
     "text": [
      "removeDuplicateLetters - basic ... \u001b[0m\u001b[32mok\u001b[0m \u001b[0m\u001b[38;5;245m(0ms)\u001b[0m\n",
      "removeDuplicateLetters - with overlap ... \u001b[0m\u001b[32mok\u001b[0m \u001b[0m\u001b[38;5;245m(0ms)\u001b[0m\n",
      "removeDuplicateLetters - all unique ... \u001b[0m\u001b[32mok\u001b[0m \u001b[0m\u001b[38;5;245m(0ms)\u001b[0m\n",
      "removeDuplicateLetters - descending order ... \u001b[0m\u001b[32mok\u001b[0m \u001b[0m\u001b[38;5;245m(0ms)\u001b[0m\n",
      "\n",
      "\u001b[0m\u001b[32mok\u001b[0m | 4 passed | 0 failed \u001b[0m\u001b[38;5;245m(1ms)\u001b[0m\n"
     ]
    }
   ],
   "source": [
    "import { assertEquals } from \"jsr:@std/assert\";\n",
    "\n",
    "Deno.test(\"removeDuplicateLetters - basic\", () => {\n",
    "  assertEquals(removeDuplicateLetters(\"bcabc\"), \"abc\");\n",
    "});\n",
    "\n",
    "Deno.test(\"removeDuplicateLetters - with overlap\", () => {\n",
    "  assertEquals(removeDuplicateLetters(\"cbacdcbc\"), \"acdb\");\n",
    "});\n",
    "\n",
    "Deno.test(\"removeDuplicateLetters - all unique\", () => {\n",
    "  assertEquals(removeDuplicateLetters(\"abc\"), \"abc\");\n",
    "});\n",
    "\n",
    "Deno.test(\"removeDuplicateLetters - descending order\", () => {\n",
    "  assertEquals(removeDuplicateLetters(\"zyxzyx\"), \"xzy\");\n",
    "});"
   ]
  }
 ],
 "metadata": {
  "kernelspec": {
   "display_name": "Deno",
   "language": "typescript",
   "name": "deno"
  },
  "language_info": {
   "codemirror_mode": "typescript",
   "file_extension": ".ts",
   "mimetype": "text/x.typescript",
   "name": "typescript",
   "nbconvert_exporter": "script",
   "pygments_lexer": "typescript",
   "version": "5.8.3"
  }
 },
 "nbformat": 4,
 "nbformat_minor": 5
}
