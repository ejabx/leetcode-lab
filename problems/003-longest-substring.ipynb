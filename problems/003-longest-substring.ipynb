{
 "cells": [
  {
   "cell_type": "markdown",
   "id": "a5bcd663",
   "metadata": {
    "tags": [
     "Hash Table",
     "String",
     "Sliding Window"
    ]
   },
   "source": [
    "# [Longest Substring Without Repeating Characters](https://leetcode.com/problems/longest-substring-without-repeating-characters/description/)\n",
    "\n",
    "Given a string, return the length of the longest substring that contains no repeating characters.  \n",
    "_The substring must be contiguous, and characters must be unique._\n",
    "\n",
    "## Strategy\n",
    "\n",
    "Use the [dynamic sliding window](https://www.youtube.com/watch?v=GaXwHThEgGk) technique:\n",
    "\n",
    "1. Maintain a window [start..end] with no duplicates.\n",
    "2. Use a hash map or set to track seen characters and their positions.\n",
    "3. If a duplicate is found, shrink the window from the left.\n",
    "4. Track the maximum length seen.\n",
    "\n",
    "__Time__: O(n) — each character is visited at most twice  \n",
    "__Space__: O(k) — k is the number of unique characters in the string  "
   ]
  },
  {
   "cell_type": "markdown",
   "id": "4e451c00",
   "metadata": {},
   "source": [
    "## Solution"
   ]
  },
  {
   "cell_type": "code",
   "execution_count": null,
   "id": "a9813dfd",
   "metadata": {},
   "outputs": [],
   "source": [
    "function lengthOfLongestSubstring(s: string): number {\n",
    "    let left = 0\n",
    "    let longest = 0\n",
    "    const set: Set<string> = new Set<string>()\n",
    "\n",
    "    for(let right = 0; right < s.length; right++) {\n",
    "        while (set.has(s[right])) {\n",
    "            set.delete(s[left])\n",
    "            left++;\n",
    "        }\n",
    "        const window = (right - left) + 1\n",
    "        longest = Math.max(longest, window)\n",
    "        set.add(s[right])\n",
    "    }\n",
    "\n",
    "    return longest\n",
    "}"
   ]
  },
  {
   "cell_type": "markdown",
   "id": "4b7e5051",
   "metadata": {},
   "source": [
    "## Test Cases"
   ]
  },
  {
   "cell_type": "code",
   "execution_count": 17,
   "id": "0f55ead8",
   "metadata": {},
   "outputs": [
    {
     "name": "stdout",
     "output_type": "stream",
     "text": [
      "lengthOfLongestSubstring - basic cases ... \u001b[0m\u001b[32mok\u001b[0m \u001b[0m\u001b[38;5;245m(0ms)\u001b[0m\n",
      "lengthOfLongestSubstring - edge cases ... \u001b[0m\u001b[32mok\u001b[0m \u001b[0m\u001b[38;5;245m(0ms)\u001b[0m\n",
      "lengthOfLongestSubstring - overlaps & repeats ... \u001b[0m\u001b[32mok\u001b[0m \u001b[0m\u001b[38;5;245m(0ms)\u001b[0m\n",
      "lengthOfLongestSubstring - complex inputs ... \u001b[0m\u001b[32mok\u001b[0m \u001b[0m\u001b[38;5;245m(0ms)\u001b[0m\n",
      "\n",
      "\u001b[0m\u001b[32mok\u001b[0m | 4 passed | 0 failed \u001b[0m\u001b[38;5;245m(1ms)\u001b[0m\n"
     ]
    }
   ],
   "source": [
    "import { assertEquals } from \"jsr:@std/assert\";\n",
    "\n",
    "Deno.test(\"lengthOfLongestSubstring - basic cases\", () => {\n",
    "  assertEquals(lengthOfLongestSubstring(\"abcabcbb\"), 3); // \"abc\"\n",
    "  assertEquals(lengthOfLongestSubstring(\"bbbbb\"), 1);    // \"b\"\n",
    "  assertEquals(lengthOfLongestSubstring(\"pwwkew\"), 3);   // \"wke\"\n",
    "});\n",
    "\n",
    "Deno.test(\"lengthOfLongestSubstring - edge cases\", () => {\n",
    "  assertEquals(lengthOfLongestSubstring(\"\"), 0);         // empty string\n",
    "  assertEquals(lengthOfLongestSubstring(\" \"), 1);        // single space\n",
    "  assertEquals(lengthOfLongestSubstring(\"au\"), 2);       // no repeats\n",
    "});\n",
    "\n",
    "Deno.test(\"lengthOfLongestSubstring - overlaps & repeats\", () => {\n",
    "  assertEquals(lengthOfLongestSubstring(\"dvdf\"), 3);     // \"vdf\"\n",
    "  assertEquals(lengthOfLongestSubstring(\"abba\"), 2);     // \"ab\"\n",
    "});\n",
    "\n",
    "Deno.test(\"lengthOfLongestSubstring - complex inputs\", () => {\n",
    "  assertEquals(lengthOfLongestSubstring(\"abcdeafghij\"), 10); // \"bcdeafghij\"\n",
    "  assertEquals(lengthOfLongestSubstring(\"abcdefg\"), 7);      // full string\n",
    "  assertEquals(lengthOfLongestSubstring(\"aaaaaaa\"), 1);      // \"a\"\n",
    "});\n"
   ]
  }
 ],
 "metadata": {
  "kernelspec": {
   "display_name": "Deno",
   "language": "typescript",
   "name": "deno"
  },
  "language_info": {
   "codemirror_mode": "typescript",
   "file_extension": ".ts",
   "mimetype": "text/x.typescript",
   "name": "typescript",
   "nbconvert_exporter": "script",
   "pygments_lexer": "typescript",
   "version": "5.8.3"
  }
 },
 "nbformat": 4,
 "nbformat_minor": 5
}
