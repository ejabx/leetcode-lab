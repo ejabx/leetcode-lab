{
  "cells": [
    {
      "cell_type": "markdown",
      "metadata": {},
      "source": [
        "# [Binary Tree Maximum Path Sum](https://leetcode.com/problems/binary-tree-maximum-path-sum/)"
      ]
    },
    {
      "cell_type": "markdown",
      "metadata": {},
      "source": [
        "## Description\n",
        "Find the maximum path sum in a binary tree, where the path may start and end at any node.\n",
        "The path must contain at least one node.\n",
        "\n"
      ]
    },
    {
      "cell_type": "markdown",
      "metadata": {},
      "source": [
        "## Strategy\n",
        "Use a DFS approach:\n",
        "- Traverse the tree recursively.\n",
        "- At each node, compute the maximum gain from left and right subtrees.\n",
        "- Update the global max path sum considering paths through the current node.\n",
        "- Return the maximum gain to parent for use in higher recursive calls.\n",
        "\n",
        "Time complexity: O(n)  \n",
        "Space complexity: O(h), where h is the height of the tree\n",
        "\n"
      ]
    },
    {
      "cell_type": "code",
      "execution_count": 3,
      "metadata": {},
      "outputs": [],
      "source": [
        "import { TreeNode } from \"../bin/utils.ts\"\n",
        "\n",
        "export function maxPathSum(root: TreeNode | null): number {\n",
        "  return 0;\n",
        "}\n",
        "\n"
      ]
    },
    {
      "cell_type": "code",
      "execution_count": 4,
      "metadata": {},
      "outputs": [
        {
          "name": "stdout",
          "output_type": "stream",
          "text": [
            "Max Path Sum - Simple Tree ... \u001b[0m\u001b[31mFAILED\u001b[0m \u001b[0m\u001b[38;5;245m(6ms)\u001b[0m\n",
            "Max Path Sum - Single Node ... \u001b[0m\u001b[31mFAILED\u001b[0m \u001b[0m\u001b[38;5;245m(0ms)\u001b[0m\n",
            "Max Path Sum - Negative Nodes ... \u001b[0m\u001b[31mFAILED\u001b[0m \u001b[0m\u001b[38;5;245m(0ms)\u001b[0m\n",
            "Max Path Sum - Left Skewed Tree ..."
          ]
        },
        {
          "name": "stdout",
          "output_type": "stream",
          "text": [
            " \u001b[0m\u001b[31mFAILED\u001b[0m \u001b[0m\u001b[38;5;245m(78ms)\u001b[0m\n",
            "\n",
            "\u001b[0m\u001b[1m\u001b[37m\u001b[41m ERRORS \u001b[0m\n",
            "\n",
            "Max Path Sum - Simple Tree \u001b[0m\u001b[38;5;245m=> <anonymous>:2:6\u001b[0m\n",
            "\u001b[0m\u001b[1m\u001b[31merror\u001b[0m: AssertionError: Values are not equal.\n",
            "\n",
            "\n",
            "    \u001b[90m\u001b[1m[Diff]\u001b[22m\u001b[39m \u001b[31m\u001b[1mActual\u001b[22m\u001b[39m / \u001b[32m\u001b[1mExpected\u001b[22m\u001b[39m\n",
            "\n",
            "\n",
            "\u001b[31m\u001b[1m-   0\u001b[22m\u001b[39m\n",
            "\u001b[32m\u001b[1m+   42\u001b[22m\u001b[39m\n",
            "\n",
            "  throw new AssertionError(message);\n",
            "\u001b[0m\u001b[31m        ^\u001b[0m\n",
            "    at \u001b[0m\u001b[1m\u001b[3mModule.assertEquals\u001b[0m (\u001b[0m\u001b[36mhttps://deno.land/std@0.224.0/assert/assert_equals.ts\u001b[0m:\u001b[0m\u001b[33m52\u001b[0m:\u001b[0m\u001b[33m9\u001b[0m)\n",
            "    at \u001b[0m\u001b[1m\u001b[3massertEquals\u001b[0m (\u001b[0m\u001b[36mhttps://deno.land/std@0.224.0/testing/asserts.ts\u001b[0m:\u001b[0m\u001b[33m101\u001b[0m:\u001b[0m\u001b[33m11\u001b[0m)\n",
            "    at \u001b[0m\u001b[36m<anonymous>\u001b[0m:\u001b[0m\u001b[33m4\u001b[0m:\u001b[0m\u001b[33m3\u001b[0m\n",
            "\n",
            "Max Path Sum - Single Node \u001b[0m\u001b[38;5;245m=> <anonymous>:6:6\u001b[0m\n",
            "\u001b[0m\u001b[1m\u001b[31merror\u001b[0m: AssertionError: Values are not equal.\n",
            "\n",
            "\n",
            "    \u001b[90m\u001b[1m[Diff]\u001b[22m\u001b[39m \u001b[31m\u001b[1mActual\u001b[22m\u001b[39m / \u001b[32m\u001b[1mExpected\u001b[22m\u001b[39m\n",
            "\n",
            "\n",
            "\u001b[31m\u001b[1m-   0\u001b[22m\u001b[39m\n",
            "\u001b[32m\u001b[1m+   1\u001b[22m\u001b[39m\n",
            "\n",
            "  throw new AssertionError(message);\n",
            "\u001b[0m\u001b[31m        ^\u001b[0m\n",
            "    at \u001b[0m\u001b[1m\u001b[3mModule.assertEquals\u001b[0m (\u001b[0m\u001b[36mhttps://deno.land/std@0.224.0/assert/assert_equals.ts\u001b[0m:\u001b[0m\u001b[33m52\u001b[0m:\u001b[0m\u001b[33m9\u001b[0m)\n",
            "    at \u001b[0m\u001b[1m\u001b[3massertEquals\u001b[0m (\u001b[0m\u001b[36mhttps://deno.land/std@0.224.0/testing/asserts.ts\u001b[0m:\u001b[0m\u001b[33m101\u001b[0m:\u001b[0m\u001b[33m11\u001b[0m)\n",
            "    at \u001b[0m\u001b[36m<anonymous>\u001b[0m:\u001b[0m\u001b[33m8\u001b[0m:\u001b[0m\u001b[33m3\u001b[0m\n",
            "\n",
            "Max Path Sum - Negative Nodes \u001b[0m\u001b[38;5;245m=> <anonymous>:10:6\u001b[0m\n",
            "\u001b[0m\u001b[1m\u001b[31merror\u001b[0m: AssertionError: Values are not equal.\n",
            "\n",
            "\n",
            "    \u001b[90m\u001b[1m[Diff]\u001b[22m\u001b[39m \u001b[31m\u001b[1mActual\u001b[22m\u001b[39m / \u001b[32m\u001b[1mExpected\u001b[22m\u001b[39m\n",
            "\n",
            "\n",
            "\u001b[31m\u001b[1m-   0\u001b[22m\u001b[39m\n",
            "\u001b[32m\u001b[1m+   -3\u001b[22m\u001b[39m\n",
            "\n",
            "  throw new AssertionError(message);\n",
            "\u001b[0m\u001b[31m        ^\u001b[0m\n",
            "    at \u001b[0m\u001b[1m\u001b[3mModule.assertEquals\u001b[0m (\u001b[0m\u001b[36mhttps://deno.land/std@0.224.0/assert/assert_equals.ts\u001b[0m:\u001b[0m\u001b[33m52\u001b[0m:\u001b[0m\u001b[33m9\u001b[0m)\n",
            "    at \u001b[0m\u001b[1m\u001b[3massertEquals\u001b[0m (\u001b[0m\u001b[36mhttps://deno.land/std@0.224.0/testing/asserts.ts\u001b[0m:\u001b[0m\u001b[33m101\u001b[0m:\u001b[0m\u001b[33m11\u001b[0m)\n",
            "    at \u001b[0m\u001b[36m<anonymous>\u001b[0m:\u001b[0m\u001b[33m12\u001b[0m:\u001b[0m\u001b[33m3\u001b[0m\n",
            "\n",
            "Max Path Sum - Left Skewed Tree \u001b[0m\u001b[38;5;245m=> <anonymous>:14:6\u001b[0m\n",
            "\u001b[0m\u001b[1m\u001b[31merror\u001b[0m: AssertionError: Values are not equal.\n",
            "\n",
            "\n",
            "    \u001b[90m\u001b[1m[Diff]\u001b[22m\u001b[39m \u001b[31m\u001b[1mActual\u001b[22m\u001b[39m / \u001b[32m\u001b[1mExpected\u001b[22m\u001b[39m\n",
            "\n",
            "\n",
            "\u001b[31m\u001b[1m-   0\u001b[22m\u001b[39m\n",
            "\u001b[32m\u001b[1m+   2\u001b[22m\u001b[39m\n",
            "\n",
            "  throw new AssertionError(message);\n",
            "\u001b[0m\u001b[31m        ^\u001b[0m\n",
            "    at \u001b[0m\u001b[1m\u001b[3mModule.assertEquals\u001b[0m (\u001b[0m\u001b[36mhttps://deno.land/std@0.224.0/assert/assert_equals.ts\u001b[0m:\u001b[0m\u001b[33m52\u001b[0m:\u001b[0m\u001b[33m9\u001b[0m)\n",
            "    at \u001b[0m\u001b[1m\u001b[3massertEquals\u001b[0m (\u001b[0m\u001b[36mhttps://deno.land/std@0.224.0/testing/asserts.ts\u001b[0m:\u001b[0m\u001b[33m101\u001b[0m:\u001b[0m\u001b[33m11\u001b[0m)\n",
            "    at \u001b[0m\u001b[36m<anonymous>\u001b[0m:\u001b[0m\u001b[33m16\u001b[0m:\u001b[0m\u001b[33m3\u001b[0m\n",
            "\n",
            "\u001b[0m\u001b[1m\u001b[37m\u001b[41m FAILURES \u001b[0m\n",
            "\n",
            "Max Path Sum - Simple Tree \u001b[0m\u001b[38;5;245m=> <anonymous>:2:6\u001b[0m\n",
            "Max Path Sum - Single Node \u001b[0m\u001b[38;5;245m=> <anonymous>:6:6\u001b[0m\n",
            "Max Path Sum - Negative Nodes \u001b[0m\u001b[38;5;245m=> <anonymous>:10:6\u001b[0m\n",
            "Max Path Sum - Left Skewed Tree \u001b[0m\u001b[38;5;245m=> <anonymous>:14:6\u001b[0m\n",
            "\n",
            "\u001b[0m\u001b[31mFAILED\u001b[0m | 0 passed | 4 failed \u001b[0m\u001b[38;5;245m(88ms)\u001b[0m\n"
          ]
        }
      ],
      "source": [
        "import { assertEquals } from \"https://deno.land/std/testing/asserts.ts\";\n",
        "\n",
        "Deno.test(\"Max Path Sum - Simple Tree\", () => {\n",
        "  const root = new TreeNode(-10, new TreeNode(9), new TreeNode(20, new TreeNode(15), new TreeNode(7)));\n",
        "  assertEquals(maxPathSum(root), 42);\n",
        "});\n",
        "\n",
        "Deno.test(\"Max Path Sum - Single Node\", () => {\n",
        "  const root = new TreeNode(1);\n",
        "  assertEquals(maxPathSum(root), 1);\n",
        "});\n",
        "\n",
        "Deno.test(\"Max Path Sum - Negative Nodes\", () => {\n",
        "  const root = new TreeNode(-3);\n",
        "  assertEquals(maxPathSum(root), -3);\n",
        "});\n",
        "\n",
        "Deno.test(\"Max Path Sum - Left Skewed Tree\", () => {\n",
        "  const root = new TreeNode(2, new TreeNode(-1));\n",
        "  assertEquals(maxPathSum(root), 2);\n",
        "});\n",
        "\n"
      ]
    }
  ],
  "metadata": {
    "kernelspec": {
      "display_name": "Deno",
      "language": "typescript",
      "name": "deno"
    },
    "language_info": {
      "codemirror_mode": "typescript",
      "file_extension": ".ts",
      "mimetype": "text/x.typescript",
      "name": "typescript",
      "nbconvert_exporter": "script",
      "pygments_lexer": "typescript",
      "version": "5.8.3"
    },
    "title": "Binary Tree Maximum Path Sum"
  },
  "nbformat": 4,
  "nbformat_minor": 5
}
