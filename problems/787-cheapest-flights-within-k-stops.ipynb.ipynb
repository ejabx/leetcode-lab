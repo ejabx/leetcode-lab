{
  "nbformat": 4,
  "nbformat_minor": 5,
  "metadata": {
    "title": "Cheapest Flights Within K Stops",
    "kernelspec": {
      "name": "deno",
      "display_name": "Deno"
    },
    "language_info": {
      "name": "typescript",
      "version": "1.0"
    }
  },
  "cells": [
    {
      "cell_type": "markdown",
      "metadata": {},
      "source": [
        "# Cheapest Flights Within K Stops  \n",
        "[LeetCode Link](https://leetcode.com/problems/cheapest-flights-within-k-stops)\n",
        "\n"
      ]
    },
    {
      "cell_type": "markdown",
      "metadata": {},
      "source": [
        "## Description  \n",
        "Find the cheapest price from a source to destination within at most K stops using flight data.\n",
        "\n"
      ]
    },
    {
      "cell_type": "markdown",
      "metadata": {},
      "source": [
        "## Strategy  \n",
        "Use a modified Dijkstra's or BFS algorithm tracking stops as an extra constraint.\n",
        "\n"
      ]
    },
    {
      "cell_type": "code",
      "metadata": {},
      "source": [
        "export function findCheapestPrice(n: number, flights: number[][], src: number, dst: number, k: number): number {\n",
        "  return -1;\n",
        "}\n",
        "\n"
      ],
      "execution_count": null,
      "outputs": []
    },
    {
      "cell_type": "code",
      "metadata": {},
      "source": [
        "import { assertEquals } from \"https://deno.land/std/testing/asserts.ts\";\n",
        "\n",
        "Deno.test(\"findCheapestPrice - basic\", () => {\n",
        "  assertEquals(findCheapestPrice(3, [[0,1,100],[1,2,100],[0,2,500]], 0, 2, 1), 200);\n",
        "});\n",
        "\n",
        "Deno.test(\"findCheapestPrice - direct cheaper\", () => {\n",
        "  assertEquals(findCheapestPrice(3, [[0,1,100],[1,2,100],[0,2,50]], 0, 2, 1), 50);\n",
        "});\n",
        "\n",
        "Deno.test(\"findCheapestPrice - no valid path\", () => {\n",
        "  assertEquals(findCheapestPrice(3, [[0,1,100],[1,2,100]], 0, 2, 0), -1);\n",
        "});\n",
        "\n",
        "Deno.test(\"findCheapestPrice - empty flights\", () => {\n",
        "  assertEquals(findCheapestPrice(3, [], 0, 2, 1), -1);\n",
        "});\n",
        "\n",
        "Deno.test(\"findCheapestPrice - long route cheaper\", () => {\n",
        "  assertEquals(findCheapestPrice(4, [[0,1,100],[1,2,100],[2,3,100],[0,3,500]], 0, 3, 2), 300);\n",
        "});\n",
        "\n"
      ],
      "execution_count": null,
      "outputs": []
    }
  ]
}