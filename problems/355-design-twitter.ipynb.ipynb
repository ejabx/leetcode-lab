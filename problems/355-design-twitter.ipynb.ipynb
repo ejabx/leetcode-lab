{
  "nbformat": 4,
  "nbformat_minor": 5,
  "metadata": {
    "title": "Design Twitter",
    "kernelspec": {
      "name": "deno",
      "display_name": "Deno"
    },
    "language_info": {
      "name": "typescript",
      "version": "1.0"
    }
  },
  "cells": [
    {
      "cell_type": "markdown",
      "metadata": {},
      "source": [
        "# [Design Twitter](https://leetcode.com/problems/design-twitter)\n",
        "## Description  \n",
        "Design a simplified version of Twitter to post tweets, follow users, and retrieve timelines.\n",
        "## Strategy  \n",
        "Maintain tweet history and follower relationships using maps and priority queues.\n",
        "\n"
      ]
    },
    {
      "cell_type": "code",
      "metadata": {},
      "source": [
        "export class Twitter {\n",
        "  constructor() {}\n",
        "\n",
        "  postTweet(userId: number, tweetId: number): void {}\n",
        "\n",
        "  getNewsFeed(userId: number): number[] {\n",
        "    return [];\n",
        "  }\n",
        "\n",
        "  follow(followerId: number, followeeId: number): void {}\n",
        "\n",
        "  unfollow(followerId: number, followeeId: number): void {}\n",
        "}\n",
        "\n"
      ],
      "execution_count": null,
      "outputs": []
    },
    {
      "cell_type": "code",
      "metadata": {},
      "source": [
        "import { assertEquals } from \"https://deno.land/std/testing/asserts.ts\";\n",
        "\n",
        "Deno.test(\"Twitter basic usage\", () => {\n",
        "  const twitter = new Twitter();\n",
        "  twitter.postTweet(1, 5);\n",
        "  assertEquals(twitter.getNewsFeed(1), [5]);\n",
        "  twitter.follow(1, 2);\n",
        "  twitter.postTweet(2, 6);\n",
        "  assertEquals(twitter.getNewsFeed(1), [6, 5]);\n",
        "  twitter.unfollow(1, 2);\n",
        "  assertEquals(twitter.getNewsFeed(1), [5]);\n",
        "});\n",
        "\n"
      ],
      "execution_count": null,
      "outputs": []
    }
  ]
}