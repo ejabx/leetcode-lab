{
 "cells": [
  {
   "cell_type": "markdown",
   "id": "4231dbd4",
   "metadata": {},
   "source": [
    "# [Reverse Linked List](https://leetcode.com/problems/reverse-linked-list/description/)\n",
    "\n",
    "TKTKGiven the head of a singly linked list, reverse the list, and return the new head.TK\n",
    "\n",
    "## Strategy\n",
    "\n",
    "### Iterative\n",
    "\n",
    "1. Initialize pointers: Set previous to null, current to head\n",
    "2. While current is not null:\n",
    "    - Store current's next node in the next pointer\n",
    "    - Reverse the link: point current's next to previous\n",
    "    - Move pointers forward: previous becomes current, current becomes next\n",
    "3. Return previous (which is now the new head)\n",
    "\n",
    "__Time__: O(n)  \n",
    "__Space__: O(1)  \n",
    "\n",
    "### Recursive\n",
    "\n",
    "1. Recursively reverse the rest of the list\n",
    "2. Reverse the current connection\n",
    "3. Return the new head\n",
    "\n",
    "__Time__: O(n)  \n",
    "__Space__: O(n)  "
   ]
  },
  {
   "cell_type": "markdown",
   "id": "262206e8",
   "metadata": {},
   "source": [
    "## Solution\n"
   ]
  },
  {
   "cell_type": "code",
   "execution_count": 1,
   "id": "7aebb81a",
   "metadata": {},
   "outputs": [],
   "source": [
    "import { ListNode } from \"../bin/ds/list.ts\"\n",
    "\n",
    "/**\n",
    " * Definition for singly-linked list.\n",
    " * class ListNode {\n",
    " *     val: number\n",
    " *     next: ListNode | null\n",
    " *     constructor(val?: number, next?: ListNode | null) {\n",
    " *         this.val = (val===undefined ? 0 : val)\n",
    " *         this.next = (next===undefined ? null : next)\n",
    " *     }\n",
    " * }\n",
    " */\n",
    "\n",
    "// Time: O(n)\n",
    "// Space: O(n)\n",
    "function reverseList_recursive(head: ListNode | null): ListNode | null {\n",
    "    if (head === null || head.next === null) {\n",
    "        return head;\n",
    "    }\n",
    "\n",
    "    const prev: ListNode = reverseList_recursive(head.next)\n",
    "    head.next.next = head\n",
    "    head.next = null\n",
    "    return prev\n",
    "}\n",
    "\n",
    "// Time: O(n)\n",
    "// Space: O(1)\n",
    "function reverseList(head: ListNode | null): ListNode | null {\n",
    "    let prev = null;\n",
    "    let curr = head;\n",
    "    while (curr !== null) {\n",
    "        const next = curr.next;\n",
    "        curr.next = prev\n",
    "        prev = curr\n",
    "        curr = next\n",
    "    }\n",
    "\n",
    "    return prev\n",
    "};"
   ]
  },
  {
   "cell_type": "markdown",
   "id": "b5ec007c",
   "metadata": {},
   "source": [
    "## Test Cases"
   ]
  },
  {
   "cell_type": "code",
   "execution_count": 2,
   "id": "a10ce450",
   "metadata": {},
   "outputs": [
    {
     "name": "stdout",
     "output_type": "stream",
     "text": [
      "reverseList - empty list ... \u001b[0m\u001b[31mFAILED\u001b[0m \u001b[0m\u001b[38;5;245m(1ms)\u001b[0m\n",
      "reverseList - single node ... \u001b[0m\u001b[32mok\u001b[0m \u001b[0m\u001b[38;5;245m(0ms)\u001b[0m\n",
      "reverseList - multiple nodes ... \u001b[0m\u001b[32mok\u001b[0m \u001b[0m\u001b[38;5;245m(0ms)\u001b[0m\n",
      "reverseList - two nodes ... \u001b[0m\u001b[32mok\u001b[0m \u001b[0m\u001b[38;5;245m(0ms)\u001b[0m\n",
      "\n",
      "\u001b[0m\u001b[1m\u001b[37m\u001b[41m ERRORS \u001b[0m\n",
      "\n",
      "reverseList - empty list \u001b[0m\u001b[38;5;245m=> <anonymous>:2:6\u001b[0m\n",
      "\u001b[0m\u001b[1m\u001b[31merror\u001b[0m: AssertionError: Values are not equal.\n",
      "\n",
      "\n",
      "    \u001b[90m\u001b[1m[Diff]\u001b[22m\u001b[39m \u001b[31m\u001b[1mActual\u001b[22m\u001b[39m / \u001b[32m\u001b[1mExpected\u001b[22m\u001b[39m\n",
      "\n",
      "\n",
      "\u001b[31m\u001b[1m-   undefined\u001b[22m\u001b[39m\n",
      "\u001b[32m\u001b[1m+   []\u001b[22m\u001b[39m\n",
      "\n",
      "  throw new AssertionError(message);\n",
      "\u001b[0m\u001b[31m        ^\u001b[0m\n",
      "    at \u001b[0m\u001b[1m\u001b[3massertEquals\u001b[0m (\u001b[0m\u001b[36mhttps://jsr.io/@std/assert/1.0.13/equals.ts\u001b[0m:\u001b[0m\u001b[33m64\u001b[0m:\u001b[0m\u001b[33m9\u001b[0m)\n",
      "    at \u001b[0m\u001b[36m<anonymous>\u001b[0m:\u001b[0m\u001b[33m4\u001b[0m:\u001b[0m\u001b[33m3\u001b[0m\n",
      "\n",
      "\u001b[0m\u001b[1m\u001b[37m\u001b[41m FAILURES \u001b[0m\n",
      "\n",
      "reverseList - empty list \u001b[0m\u001b[38;5;245m=> <anonymous>:2:6\u001b[0m\n",
      "\n",
      "\u001b[0m\u001b[31mFAILED\u001b[0m | 3 passed | 1 failed \u001b[0m\u001b[38;5;245m(2ms)\u001b[0m\n"
     ]
    }
   ],
   "source": [
    "import { assertEquals } from \"jsr:@std/assert\";\n",
    "\n",
    "Deno.test(\"reverseList - empty list\", () => {\n",
    "  const reversed = reverseList(ListNode.fromArray([]));\n",
    "  assertEquals(reversed?.toArray(), []);\n",
    "});\n",
    "\n",
    "Deno.test(\"reverseList - single node\", () => {\n",
    "  const reversed = reverseList(ListNode.fromArray([1]));\n",
    "  assertEquals(reversed?.toArray(), [1]);\n",
    "});\n",
    "\n",
    "Deno.test(\"reverseList - multiple nodes\", () => {\n",
    "  const reversed = reverseList(ListNode.fromArray([1, 2, 3, 4, 5]));\n",
    "  assertEquals(reversed?.toArray(), [5, 4, 3, 2, 1]);\n",
    "});\n",
    "\n",
    "Deno.test(\"reverseList - two nodes\", () => {\n",
    "  const reversed = reverseList(ListNode.fromArray([10, 20]));\n",
    "  assertEquals(reversed?.toArray(), [20, 10]);\n",
    "});"
   ]
  },
  {
   "cell_type": "code",
   "execution_count": null,
   "id": "943ad123",
   "metadata": {},
   "outputs": [],
   "source": []
  }
 ],
 "metadata": {
  "kernelspec": {
   "display_name": "Deno",
   "language": "typescript",
   "name": "deno"
  },
  "language_info": {
   "codemirror_mode": "typescript",
   "file_extension": ".ts",
   "mimetype": "text/x.typescript",
   "name": "typescript",
   "nbconvert_exporter": "script",
   "pygments_lexer": "typescript",
   "version": "5.8.3"
  }
 },
 "nbformat": 4,
 "nbformat_minor": 5
}
