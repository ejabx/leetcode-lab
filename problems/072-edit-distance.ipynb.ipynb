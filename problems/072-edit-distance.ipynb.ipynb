{
  "cells": [
    {
      "cell_type": "markdown",
      "metadata": {
        "tags": [
          "String",
          "Dynamic Programming"
        ]
      },
      "source": [
        "# [Edit Distance](https://leetcode.com/problems/edit-distance/)\n",
        "## Description\n",
        "Compute the minimum number of operations required to convert one word to another using insert, delete, or replace.\n",
        "## Strategy\n",
        "Use 2D DP table where dp[i][j] = edit distance between first i and j chars.\n",
        "\n"
      ]
    },
    {
      "cell_type": "code",
      "execution_count": null,
      "metadata": {},
      "outputs": [],
      "source": [
        "export function minDistance(word1: string, word2: string): number {\n",
        "  return 0;\n",
        "}"
      ]
    },
    {
      "cell_type": "code",
      "execution_count": null,
      "metadata": {},
      "outputs": [],
      "source": [
        "import { assertEquals } from \"https://deno.land/std/testing/asserts.ts\";\n",
        "\n",
        "Deno.test(\"Edit Distance - Basic\", () => {\n",
        "  assertEquals(minDistance(\"horse\", \"ros\"), 3);\n",
        "});\n",
        "\n",
        "Deno.test(\"Edit Distance - Same\", () => {\n",
        "  assertEquals(minDistance(\"abc\", \"abc\"), 0);\n",
        "});\n",
        "\n",
        "Deno.test(\"Edit Distance - Insert All\", () => {\n",
        "  assertEquals(minDistance(\"\", \"abc\"), 3);\n",
        "});\n",
        "\n"
      ]
    }
  ],
  "metadata": {
    "kernelspec": {
      "display_name": "Deno",
      "name": "deno"
    },
    "language_info": {
      "name": "typescript",
      "version": "1.0"
    },
    "title": "Edit Distance"
  },
  "nbformat": 4,
  "nbformat_minor": 5
}
