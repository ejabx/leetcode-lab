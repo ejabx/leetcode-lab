{
  "nbformat": 4,
  "nbformat_minor": 5,
  "metadata": {
    "title": "Word Search",
    "kernelspec": {
      "name": "deno",
      "display_name": "Deno"
    },
    "language_info": {
      "name": "typescript",
      "version": "1.0"
    }
  },
  "cells": [
    {
      "cell_type": "markdown",
      "metadata": {
        "tags": [
          "Array", "String", "Backtracking", "Depth-First Search", "Matrix"
        ]
      },
      "source": [
        "# [Word Search](https://leetcode.com/problems/word-search)\n",
        "\n",
        "Given a 2D board and a word, return true if the word exists in the grid.\n",
        "\n",
        "## Strategy  \n",
        "Backtracking DFS in 2D with visited tracking.\n",
        "\n"
      ]
    },
    {
      "cell_type": "code",
      "metadata": {},
      "source": [
        "export function exist(board: string[][], word: string): boolean {\n",
        "  return false;\n",
        "}\n",
        "\n"
      ],
      "execution_count": null,
      "outputs": []
    },
    {
      "cell_type": "code",
      "metadata": {},
      "source": [
        "import { assertEquals } from \"https://deno.land/std/testing/asserts.ts\";\n",
        "\n",
        "Deno.test(\"exist - found\", () => {\n",
        "  assertEquals(exist([[\"A\",\"B\",\"C\",\"E\"],[\"S\",\"F\",\"C\",\"S\"],[\"A\",\"D\",\"E\",\"E\"]], \"ABCCED\"), true);\n",
        "});\n",
        "\n",
        "Deno.test(\"exist - not found\", () => {\n",
        "  assertEquals(exist([[\"A\",\"B\"]], \"BA\"), true);\n",
        "});\n",
        "\n"
      ],
      "execution_count": null,
      "outputs": []
    }
  ]
}