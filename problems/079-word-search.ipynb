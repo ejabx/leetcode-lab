{
  "cells": [
    {
      "cell_type": "markdown",
      "metadata": {
        "tags": [
          "Array",
          "String",
          "Backtracking",
          "Depth-First Search",
          "Matrix"
        ]
      },
      "source": [
        "# [Word Search](https://leetcode.com/problems/word-search)\n",
        "\n",
        "Given a 2D board and a word, return true if the word exists in the grid.\n",
        "\n",
        "## Strategy  \n",
        "Backtracking DFS in 2D with visited tracking.\n",
        "\n"
      ]
    },
    {
      "cell_type": "code",
      "execution_count": null,
      "metadata": {},
      "outputs": [],
      "source": [
        "export function exist(board: string[][], word: string): boolean {\n",
        "  return false;\n",
        "}\n",
        "\n"
      ]
    },
    {
      "cell_type": "code",
      "execution_count": 2,
      "metadata": {},
      "outputs": [
        {
          "name": "stdout",
          "output_type": "stream",
          "text": [
            "exist - found ... \u001b[0m\u001b[31mFAILED\u001b[0m \u001b[0m\u001b[38;5;245m(0ms)\u001b[0m\n",
            "exist - not found ... \u001b[0m\u001b[31mFAILED\u001b[0m \u001b[0m\u001b[38;5;245m(0ms)\u001b[0m\n",
            "\n",
            "\u001b[0m\u001b[1m\u001b[37m\u001b[41m ERRORS \u001b[0m\n",
            "\n",
            "exist - found \u001b[0m\u001b[38;5;245m=> <anonymous>:2:6\u001b[0m\n",
            "\u001b[0m\u001b[1m\u001b[31merror\u001b[0m: ReferenceError: beginWord is not defined\n",
            "    at \u001b[0m\u001b[1m\u001b[3mexist\u001b[0m (\u001b[0m\u001b[36m<anonymous>\u001b[0m:\u001b[0m\u001b[33m4\u001b[0m:\u001b[0m\u001b[33m5\u001b[0m)\n",
            "    at \u001b[0m\u001b[36m<anonymous>\u001b[0m:\u001b[0m\u001b[33m3\u001b[0m:\u001b[0m\u001b[33m16\u001b[0m\n",
            "\n",
            "exist - not found \u001b[0m\u001b[38;5;245m=> <anonymous>:24:6\u001b[0m\n",
            "\u001b[0m\u001b[1m\u001b[31merror\u001b[0m: ReferenceError: beginWord is not defined\n",
            "    at \u001b[0m\u001b[1m\u001b[3mexist\u001b[0m (\u001b[0m\u001b[36m<anonymous>\u001b[0m:\u001b[0m\u001b[33m4\u001b[0m:\u001b[0m\u001b[33m5\u001b[0m)\n",
            "    at \u001b[0m\u001b[36m<anonymous>\u001b[0m:\u001b[0m\u001b[33m25\u001b[0m:\u001b[0m\u001b[33m16\u001b[0m\n",
            "\n",
            "\u001b[0m\u001b[1m\u001b[37m\u001b[41m FAILURES \u001b[0m\n",
            "\n",
            "exist - found \u001b[0m\u001b[38;5;245m=> <anonymous>:2:6\u001b[0m\n",
            "exist - not found \u001b[0m\u001b[38;5;245m=> <anonymous>:24:6\u001b[0m\n",
            "\n",
            "\u001b[0m\u001b[31mFAILED\u001b[0m | 0 passed | 2 failed \u001b[0m\u001b[38;5;245m(1ms)\u001b[0m\n"
          ]
        }
      ],
      "source": [
        "import { assertEquals } from \"https://deno.land/std/testing/asserts.ts\";\n",
        "\n",
        "Deno.test(\"exist - found\", () => {\n",
        "  assertEquals(exist([[\"A\",\"B\",\"C\",\"E\"],[\"S\",\"F\",\"C\",\"S\"],[\"A\",\"D\",\"E\",\"E\"]], \"ABCCED\"), true);\n",
        "});\n",
        "\n",
        "Deno.test(\"exist - not found\", () => {\n",
        "  assertEquals(exist([[\"A\",\"B\"]], \"BA\"), true);\n",
        "});\n",
        "\n"
      ]
    }
  ],
  "metadata": {
    "kernelspec": {
      "display_name": "Deno",
      "language": "typescript",
      "name": "deno"
    },
    "language_info": {
      "codemirror_mode": "typescript",
      "file_extension": ".ts",
      "mimetype": "text/x.typescript",
      "name": "typescript",
      "nbconvert_exporter": "script",
      "pygments_lexer": "typescript",
      "version": "5.8.3"
    },
    "title": "Word Search"
  },
  "nbformat": 4,
  "nbformat_minor": 5
}
