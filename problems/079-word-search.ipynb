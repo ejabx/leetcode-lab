{
  "cells": [
    {
      "cell_type": "markdown",
      "metadata": {
        "tags": [
          "Array",
          "String",
          "Backtracking",
          "Depth-First Search",
          "Matrix"
        ]
      },
      "source": [
        "# [Word Search](https://leetcode.com/problems/word-search)\n",
        "\n",
        "Given a 2D board and a word, return true if the word exists in the grid.\n",
        "\n",
        "## Strategy  \n",
        "Backtracking DFS in 2D with visited tracking.\n",
        "\n"
      ]
    },
    {
      "cell_type": "code",
      "execution_count": 3,
      "metadata": {},
      "outputs": [],
      "source": [
        "function exist(board: string[][], word: string): boolean {\n",
        "    const visited: boolean[][] = Array(board.length)\n",
        "        .fill(null)\n",
        "        .map(() => Array(board[0].length).fill(false))\n",
        "\n",
        "    function dfs(i: number, j: number, wordIndex: number): boolean {\n",
        "        if (i < 0 || \n",
        "            j < 0 || \n",
        "            i >= board.length || \n",
        "            j >= board[0].length || \n",
        "            visited[i][j] ||\n",
        "            board[i][j] !== word[wordIndex]) {\n",
        "            return false\n",
        "        }\n",
        "\n",
        "        if (wordIndex === word.length - 1) {\n",
        "            return true\n",
        "        }\n",
        "\n",
        "        visited[i][j] = true\n",
        "\n",
        "        let found = false\n",
        "        if (board[i][j] === word[wordIndex]) {\n",
        "            found = dfs(i + 1, j, wordIndex + 1) ||\n",
        "                    dfs(i - 1, j, wordIndex + 1) ||\n",
        "                    dfs(i, j + 1, wordIndex + 1) ||\n",
        "                    dfs(i, j - 1, wordIndex + 1)\n",
        "        }\n",
        "\n",
        "        visited[i][j] = false\n",
        "\n",
        "        return found\n",
        "    }\n",
        "\n",
        "    for(let row = 0; row < board.length; row++) {\n",
        "        for(let col = 0; col < board[0].length; col++) {\n",
        "            if (dfs(row, col, 0)) return true\n",
        "        }\n",
        "    }\n",
        "\n",
        "    return false\n",
        "};"
      ]
    },
    {
      "cell_type": "code",
      "execution_count": 9,
      "metadata": {},
      "outputs": [
        {
          "name": "stdout",
          "output_type": "stream",
          "text": [
            "exist - found ... \u001b[0m\u001b[32mok\u001b[0m \u001b[0m\u001b[38;5;245m(0ms)\u001b[0m\n",
            "exist - not found ... \u001b[0m\u001b[32mok\u001b[0m \u001b[0m\u001b[38;5;245m(0ms)\u001b[0m\n",
            "\n",
            "\u001b[0m\u001b[32mok\u001b[0m | 2 passed | 0 failed \u001b[0m\u001b[38;5;245m(0ms)\u001b[0m\n"
          ]
        }
      ],
      "source": [
        "import { assertEquals } from \"https://deno.land/std/testing/asserts.ts\";\n",
        "\n",
        "Deno.test(\"exist - found\", () => {\n",
        "  assertEquals(exist([[\"A\",\"B\",\"C\",\"E\"],[\"S\",\"F\",\"C\",\"S\"],[\"A\",\"D\",\"E\",\"E\"]], \"ABCCED\"), true);\n",
        "});\n",
        "\n",
        "Deno.test(\"exist - not found\", () => {\n",
        "  assertEquals(exist([[\"A\",\"B\"]], \"BA\"), true);\n",
        "});\n",
        "\n"
      ]
    }
  ],
  "metadata": {
    "kernelspec": {
      "display_name": "Deno",
      "language": "typescript",
      "name": "deno"
    },
    "language_info": {
      "codemirror_mode": "typescript",
      "file_extension": ".ts",
      "mimetype": "text/x.typescript",
      "name": "typescript",
      "nbconvert_exporter": "script",
      "pygments_lexer": "typescript",
      "version": "5.8.3"
    },
    "title": "Word Search"
  },
  "nbformat": 4,
  "nbformat_minor": 5
}
