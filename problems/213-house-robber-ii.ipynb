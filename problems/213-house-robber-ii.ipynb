{
  "nbformat": 4,
  "nbformat_minor": 5,
  "metadata": {
    "title": "[House Robber II](https://leetcode.com/problems/house-robber-ii/)",
    "kernelspec": {
      "name": "deno",
      "display_name": "Deno"
    },
    "language_info": {
      "name": "typescript",
      "version": "1.0"
    }
  },
  "cells": [
    {
      "cell_type": "markdown",
      "metadata": {},
      "source": [
        "# [House Robber II](https://leetcode.com/problems/house-robber-ii/)\n",
        "\n",
        "Same as House Robber I, but the houses are arranged in a circle—so the first and last houses cannot both be robbed.\n",
        "\n",
        "## Strategy  \n",
        "The circular constraint splits the problem into two cases:\n",
        "1. Rob from house 0 to n-2 (exclude last)\n",
        "2. Rob from house 1 to n-1 (exclude first)\n",
        "\n",
        "Use the same dynamic programming approach from House Robber I on both ranges and return the maximum.\n",
        "\n"
      ]
    },
    {
      "cell_type": "code",
      "metadata": {},
      "source": [
        "export function rob(nums: number[]): number {\n",
        "  return 0;\n",
        "}\n",
        "\n"
      ],
      "execution_count": null,
      "outputs": []
    },
    {
      "cell_type": "code",
      "metadata": {},
      "source": [
        "import { assertEquals } from \"https://deno.land/std/testing/asserts.ts\";\n",
        "\n",
        "Deno.test(\"rob - basic\", () => {\n",
        "  assertEquals(rob([2, 3, 2]), 3);\n",
        "});\n",
        "\n",
        "Deno.test(\"rob - middle heavier\", () => {\n",
        "  assertEquals(rob([1, 2, 3, 1]), 4);\n",
        "});\n",
        "\n",
        "Deno.test(\"rob - single house\", () => {\n",
        "  assertEquals(rob([5]), 5);\n",
        "});\n",
        "\n",
        "Deno.test(\"rob - two houses\", () => {\n",
        "  assertEquals(rob([2, 1]), 2);\n",
        "});\n",
        "\n",
        "Deno.test(\"rob - empty\", () => {\n",
        "  assertEquals(rob([]), 0);\n",
        "});\n",
        "\n",
        "Deno.test(\"rob - all same\", () => {\n",
        "  assertEquals(rob([1, 1, 1, 1]), 2);\n",
        "});\n",
        "\n",
        "Deno.test(\"rob - only first and last high\", () => {\n",
        "  assertEquals(rob([10, 1, 1, 10]), 11);\n",
        "});\n",
        "\n"
      ],
      "execution_count": null,
      "outputs": []
    }
  ]
}