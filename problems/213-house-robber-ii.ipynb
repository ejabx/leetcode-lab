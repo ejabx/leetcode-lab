{
  "cells": [
    {
      "cell_type": "markdown",
      "metadata": {},
      "source": [
        "# [House Robber II](https://leetcode.com/problems/house-robber-ii/)\n",
        "\n",
        "Same as House Robber I, but the houses are arranged in a circle—so the first and last houses cannot both be robbed.\n",
        "\n",
        "## Strategy  \n",
        "The circular constraint splits the problem into two cases:\n",
        "1. Rob from house 0 to n-2 (exclude last)\n",
        "2. Rob from house 1 to n-1 (exclude first)\n",
        "\n",
        "Use the same dynamic programming approach from House Robber I on both ranges and return the maximum.\n",
        "\n"
      ]
    },
    {
      "cell_type": "code",
      "execution_count": 1,
      "metadata": {},
      "outputs": [],
      "source": [
        "function robConstantSpace(nums: number[]): number {\n",
        "    if (!nums) return 0\n",
        "    if (nums.length === 1) return nums[0]\n",
        "\n",
        "    let twoAgo: number = nums[0]\n",
        "    let oneAgo: number = Math.max(nums[1], nums[0])\n",
        "\n",
        "    for(let i = 2; i < nums.length; i++) {\n",
        "        const current: number = Math.max(nums[i] + twoAgo, oneAgo)\n",
        "\n",
        "        twoAgo = oneAgo\n",
        "        oneAgo = current\n",
        "    }\n",
        "\n",
        "    return oneAgo\n",
        "}\n",
        "\n",
        "function rob(nums: number[]): number {\n",
        "    if (!nums) return 0\n",
        "    if (nums.length === 1) return nums[0]\n",
        "\n",
        "    return Math.max(\n",
        "        robConstantSpace(nums.slice(0, -1)),\n",
        "        robConstantSpace(nums.slice(1))\n",
        "    )\n",
        "};"
      ]
    },
    {
      "cell_type": "code",
      "execution_count": 3,
      "metadata": {},
      "outputs": [
        {
          "name": "stdout",
          "output_type": "stream",
          "text": [
            "rob - basic ... \u001b[0m\u001b[32mok\u001b[0m \u001b[0m\u001b[38;5;245m(0ms)\u001b[0m\n",
            "rob - middle heavier ... \u001b[0m\u001b[32mok\u001b[0m \u001b[0m\u001b[38;5;245m(0ms)\u001b[0m\n",
            "rob - single house ... \u001b[0m\u001b[32mok\u001b[0m \u001b[0m\u001b[38;5;245m(0ms)\u001b[0m\n",
            "rob - two houses ... \u001b[0m\u001b[32mok\u001b[0m \u001b[0m\u001b[38;5;245m(0ms)\u001b[0m\n",
            "rob - empty ... \u001b[0m\u001b[32mok\u001b[0m \u001b[0m\u001b[38;5;245m(0ms)\u001b[0m\n",
            "rob - all same ... \u001b[0m\u001b[32mok\u001b[0m \u001b[0m\u001b[38;5;245m(0ms)\u001b[0m\n",
            "rob - only first and last high ... \u001b[0m\u001b[32mok\u001b[0m \u001b[0m\u001b[38;5;245m(0ms)\u001b[0m\n",
            "\n",
            "\u001b[0m\u001b[32mok\u001b[0m | 7 passed | 0 failed \u001b[0m\u001b[38;5;245m(1ms)\u001b[0m\n"
          ]
        }
      ],
      "source": [
        "import { assertEquals } from \"https://deno.land/std/testing/asserts.ts\";\n",
        "\n",
        "Deno.test(\"rob - basic\", () => {\n",
        "  assertEquals(rob([2, 3, 2]), 3);\n",
        "});\n",
        "\n",
        "Deno.test(\"rob - middle heavier\", () => {\n",
        "  assertEquals(rob([1, 2, 3, 1]), 4);\n",
        "});\n",
        "\n",
        "Deno.test(\"rob - single house\", () => {\n",
        "  assertEquals(rob([5]), 5);\n",
        "});\n",
        "\n",
        "Deno.test(\"rob - two houses\", () => {\n",
        "  assertEquals(rob([2, 1]), 2);\n",
        "});\n",
        "\n",
        "Deno.test(\"rob - empty\", () => {\n",
        "  assertEquals(rob([0]), 0);\n",
        "});\n",
        "\n",
        "Deno.test(\"rob - all same\", () => {\n",
        "  assertEquals(rob([1, 1, 1, 1]), 2);\n",
        "});\n",
        "\n",
        "Deno.test(\"rob - only first and last high\", () => {\n",
        "  assertEquals(rob([10, 1, 1, 10]), 11);\n",
        "});\n",
        "\n"
      ]
    }
  ],
  "metadata": {
    "kernelspec": {
      "display_name": "Deno",
      "language": "typescript",
      "name": "deno"
    },
    "language_info": {
      "codemirror_mode": "typescript",
      "file_extension": ".ts",
      "mimetype": "text/x.typescript",
      "name": "typescript",
      "nbconvert_exporter": "script",
      "pygments_lexer": "typescript",
      "version": "5.8.3"
    },
    "title": "[House Robber II](https://leetcode.com/problems/house-robber-ii/)"
  },
  "nbformat": 4,
  "nbformat_minor": 5
}
