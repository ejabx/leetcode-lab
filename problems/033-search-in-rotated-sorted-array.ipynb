{
  "cells": [
    {
      "cell_type": "markdown",
      "metadata": {},
      "source": [
        "# [Search in Rotated Sorted Array](https://leetcode.com/problems/search-in-rotated-sorted-array/)\n"
      ]
    },
    {
      "cell_type": "markdown",
      "metadata": {},
      "source": [
        "## Description\n",
        "Given a sorted array that has been rotated at some pivot unknown beforehand,\n",
        "find the index of a target value in O(log n) time.\n",
        "If the target is not found, return -1.\n",
        "\n"
      ]
    },
    {
      "cell_type": "markdown",
      "metadata": {},
      "source": [
        "## Strategy\n",
        "Use a modified binary search:\n",
        "- At each iteration, check which side (left or right) is normally sorted.\n",
        "- If the target lies within the sorted half, continue searching there; otherwise, search the other half.\n",
        "- Repeat until the target is found or the search space is empty.\n",
        "\n",
        "Time complexity: O(log n)\n",
        "Space complexity: O(1)\n",
        "\n"
      ]
    },
    {
      "cell_type": "code",
      "execution_count": 1,
      "metadata": {},
      "outputs": [],
      "source": [
        "function search(nums: number[], target: number): number {\n",
        "    let left: number = 0\n",
        "    let right: number = nums.length - 1\n",
        "\n",
        "    while (left <= right) {\n",
        "        const mid: number = Math.floor((left + right) / 2)\n",
        "        if (nums[mid] === target) return mid\n",
        "        if (nums[left] <= nums[mid]) {\n",
        "            if (nums[left] <= target && target < nums[mid]) {\n",
        "                right = mid - 1\n",
        "            } else {\n",
        "                left = mid + 1\n",
        "            }\n",
        "        } else {\n",
        "            if (nums[mid] < target && target <= nums[right]) {\n",
        "                left = mid + 1\n",
        "            } else {\n",
        "                right = mid - 1\n",
        "            }\n",
        "        }\n",
        "    }\n",
        "\n",
        "    return -1\n",
        "}"
      ]
    },
    {
      "cell_type": "code",
      "execution_count": 2,
      "metadata": {},
      "outputs": [
        {
          "name": "stdout",
          "output_type": "stream",
          "text": [
            "Search - Target Found ... \u001b[0m\u001b[32mok\u001b[0m \u001b[0m\u001b[38;5;245m(2ms)\u001b[0m\n",
            "Search - Target Not Found ... \u001b[0m\u001b[32mok\u001b[0m \u001b[0m\u001b[38;5;245m(0ms)\u001b[0m\n",
            "Search - No Rotation ... \u001b[0m\u001b[32mok\u001b[0m \u001b[0m\u001b[38;5;245m(0ms)\u001b[0m\n",
            "Search - Single Element Found ... \u001b[0m\u001b[32mok\u001b[0m \u001b[0m\u001b[38;5;245m(0ms)\u001b[0m\n",
            "Search - Single Element Not Found ... \u001b[0m\u001b[32mok\u001b[0m \u001b[0m\u001b[38;5;245m(0ms)\u001b[0m\n",
            "\n",
            "\u001b[0m\u001b[32mok\u001b[0m | 5 passed | 0 failed \u001b[0m\u001b[38;5;245m(4ms)\u001b[0m\n"
          ]
        }
      ],
      "source": [
        "import { assertEquals } from \"https://deno.land/std/testing/asserts.ts\";\n",
        "\n",
        "Deno.test(\"Search - Target Found\", () => {\n",
        "  assertEquals(search([4,5,6,7,0,1,2], 0), 4);\n",
        "});\n",
        "\n",
        "Deno.test(\"Search - Target Not Found\", () => {\n",
        "  assertEquals(search([4,5,6,7,0,1,2], 3), -1);\n",
        "});\n",
        "\n",
        "Deno.test(\"Search - No Rotation\", () => {\n",
        "  assertEquals(search([1,2,3,4,5,6], 4), 3);\n",
        "});\n",
        "\n",
        "Deno.test(\"Search - Single Element Found\", () => {\n",
        "  assertEquals(search([1], 1), 0);\n",
        "});\n",
        "\n",
        "Deno.test(\"Search - Single Element Not Found\", () => {\n",
        "  assertEquals(search([1], 0), -1);\n",
        "});\n",
        "\n"
      ]
    }
  ],
  "metadata": {
    "kernelspec": {
      "display_name": "Deno",
      "language": "typescript",
      "name": "deno"
    },
    "language_info": {
      "codemirror_mode": "typescript",
      "file_extension": ".ts",
      "mimetype": "text/x.typescript",
      "name": "typescript",
      "nbconvert_exporter": "script",
      "pygments_lexer": "typescript",
      "version": "5.8.3"
    },
    "title": "Search in Rotated Sorted Array"
  },
  "nbformat": 4,
  "nbformat_minor": 5
}
