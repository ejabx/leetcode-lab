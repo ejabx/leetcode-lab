{
  "nbformat": 4,
  "nbformat_minor": 5,
  "metadata": {
    "title": "Serialize and Deserialize Binary Tree",
    "kernelspec": {
      "name": "deno",
      "display_name": "Deno"
    },
    "language_info": {
      "name": "typescript",
      "version": "1.0"
    }
  },
  "cells": [
    {
      "cell_type": "markdown",
      "metadata": {},
      "source": [
        "# [Serialize and Deserialize Binary Tree](https://leetcode.com/problems/serialize-and-deserialize-binary-tree)\n",
        "## Description  \n",
        "Convert a binary tree to a string and back using a serialization format.\n",
        "## Strategy  \n",
        "Use preorder traversal with \"null\" markers for missing nodes to maintain structure.\n",
        "\n"
      ]
    },
    {
      "cell_type": "code",
      "metadata": {},
      "source": [
        "import { TreeNode } from \"../bin/utils.ts\"\n",
        "\n",
        "export class Codec {\n",
        "  serialize(root: TreeNode | null): string {\n",
        "    return \"\";\n",
        "  }\n",
        "\n",
        "  deserialize(data: string): TreeNode | null {\n",
        "    return null;\n",
        "  }\n",
        "}\n",
        "\n"
      ],
      "execution_count": null,
      "outputs": []
    },
    {
      "cell_type": "code",
      "metadata": {},
      "source": [
        "import { assert } from \"https://deno.land/std/testing/asserts.ts\";\n",
        "\n",
        "Deno.test(\"serialize and deserialize basic\", () => {\n",
        "  const codec = new Codec();\n",
        "  const tree = new TreeNode(1, new TreeNode(2), new TreeNode(3));\n",
        "  const data = codec.serialize(tree);\n",
        "  const restored = codec.deserialize(data);\n",
        "  assert(codec.serialize(restored) === data);\n",
        "});\n",
        "\n"
      ],
      "execution_count": null,
      "outputs": []
    }
  ]
}