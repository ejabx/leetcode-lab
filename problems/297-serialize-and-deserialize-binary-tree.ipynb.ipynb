{
  "cells": [
    {
      "cell_type": "markdown",
      "metadata": {},
      "source": [
        "# [Serialize and Deserialize Binary Tree](https://leetcode.com/problems/serialize-and-deserialize-binary-tree)\n",
        "## Description  \n",
        "Convert a binary tree to a string and back using a serialization format.\n",
        "## Strategy  \n",
        "Use [preorder traversal](../resources/binary-trees.ipynb) with \"null\" markers for missing nodes to maintain structure.\n",
        "\n"
      ]
    },
    {
      "cell_type": "code",
      "execution_count": 11,
      "metadata": {},
      "outputs": [],
      "source": [
        "import { TreeNode } from \"../bin/utils.ts\"\n",
        "\n",
        "export class Codec {\n",
        "  serialize(root: TreeNode | null): string {\n",
        "    if (!root) return \"null\"\n",
        "    return `${root.val},${this.serialize(root.left)},${this.serialize(root.right)}`\n",
        "  }\n",
        "\n",
        "  deserialize(data: string): TreeNode | null {\n",
        "    const treeData: string[] = data.split(',')\n",
        "    let index = 0\n",
        "\n",
        "    function buildTree(): TreeNode | null {\n",
        "      if (treeData[index] === \"null\") {\n",
        "        index++\n",
        "        return null\n",
        "      }\n",
        "  \n",
        "      const node = new TreeNode(parseInt(treeData[index++]))\n",
        "      node.left = buildTree()\n",
        "      node.right = buildTree()\n",
        "      return node\n",
        "    }\n",
        "\n",
        "    return buildTree()\n",
        "  }\n",
        "}\n",
        "\n"
      ]
    },
    {
      "cell_type": "code",
      "execution_count": 12,
      "metadata": {},
      "outputs": [
        {
          "name": "stdout",
          "output_type": "stream",
          "text": [
            "serialize and deserialize basic ... \u001b[0m\u001b[32mok\u001b[0m \u001b[0m\u001b[38;5;245m(1ms)\u001b[0m\n",
            "\n",
            "\u001b[0m\u001b[32mok\u001b[0m | 1 passed | 0 failed \u001b[0m\u001b[38;5;245m(1ms)\u001b[0m\n"
          ]
        }
      ],
      "source": [
        "import { assert } from \"https://deno.land/std/testing/asserts.ts\";\n",
        "\n",
        "Deno.test(\"serialize and deserialize basic\", () => {\n",
        "  const codec = new Codec();\n",
        "  const tree = new TreeNode(1, new TreeNode(2), new TreeNode(3));\n",
        "  const data = codec.serialize(tree);\n",
        "  const restored = codec.deserialize(data);\n",
        "  assert(codec.serialize(restored) === data);\n",
        "});\n",
        "\n"
      ]
    }
  ],
  "metadata": {
    "kernelspec": {
      "display_name": "Deno",
      "language": "typescript",
      "name": "deno"
    },
    "language_info": {
      "codemirror_mode": "typescript",
      "file_extension": ".ts",
      "mimetype": "text/x.typescript",
      "name": "typescript",
      "nbconvert_exporter": "script",
      "pygments_lexer": "typescript",
      "version": "5.8.3"
    },
    "title": "Serialize and Deserialize Binary Tree"
  },
  "nbformat": 4,
  "nbformat_minor": 5
}
