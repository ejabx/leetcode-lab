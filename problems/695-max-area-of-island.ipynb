{
  "nbformat": 4,
  "nbformat_minor": 5,
  "metadata": {
    "title": "Max Area of Island",
    "kernelspec": {
      "name": "deno",
      "display_name": "Deno"
    },
    "language_info": {
      "name": "typescript",
      "version": "1.0"
    }
  },
  "cells": [
    {
      "cell_type": "markdown",
      "metadata": {
        "tags": [
          "Array",
          "Depth-First Search",
          "Breadth-First Search",
          "Union Find",
          "Matrix"
        ]
      },
      "source": [
        "# [Max Area of Island](https://leetcode.com/problems/max-area-of-island)\n",
        "## Description  \n",
        "Given a 2D grid of 0s and 1s, find the size of the largest island. An island is made of adjacent 1s connected horizontally or vertically.\n",
        "## Strategy  \n",
        "Use DFS or BFS to explore each island and keep track of the maximum area encountered.\n",
        "\n"
      ]
    },
    {
      "cell_type": "code",
      "metadata": {},
      "source": [
        "export function maxAreaOfIsland(grid: number[][]): number {\n",
        "  return 0;\n",
        "}\n",
        "\n"
      ],
      "execution_count": null,
      "outputs": []
    },
    {
      "cell_type": "code",
      "metadata": {},
      "source": [
        "import { assertEquals } from \"https://deno.land/std/testing/asserts.ts\";\n",
        "\n",
        "Deno.test(\"maxAreaOfIsland - example grid\", () => {\n",
        "  assertEquals(maxAreaOfIsland([\n",
        "    [0,0,1,0,0,0,0,1,0,0,0,0,0],\n",
        "    [0,0,0,0,0,0,0,1,1,1,0,0,0],\n",
        "    [0,1,1,0,1,0,0,0,0,0,0,0,0],\n",
        "    [0,1,0,0,1,1,0,0,1,0,1,0,0],\n",
        "    [0,1,0,0,1,1,0,0,1,1,1,0,0],\n",
        "    [0,0,0,0,0,0,0,0,0,0,1,0,0],\n",
        "    [0,0,0,0,0,0,0,1,1,1,0,0,0],\n",
        "    [0,0,0,0,0,0,0,1,1,0,0,0,0]\n",
        "  ]), 6);\n",
        "});\n",
        "\n",
        "Deno.test(\"maxAreaOfIsland - empty grid\", () => {\n",
        "  assertEquals(maxAreaOfIsland([]), 0);\n",
        "});\n",
        "\n",
        "Deno.test(\"maxAreaOfIsland - all water\", () => {\n",
        "  assertEquals(maxAreaOfIsland([[0,0],[0,0]]), 0);\n",
        "});\n",
        "\n",
        "Deno.test(\"maxAreaOfIsland - all land\", () => {\n",
        "  assertEquals(maxAreaOfIsland([[1,1],[1,1]]), 4);\n",
        "});\n",
        "\n",
        "Deno.test(\"maxAreaOfIsland - diagonal only\", () => {\n",
        "  assertEquals(maxAreaOfIsland([[1,0],[0,1]]), 1);\n",
        "});\n",
        "\n"
      ],
      "execution_count": null,
      "outputs": []
    }
  ]
}