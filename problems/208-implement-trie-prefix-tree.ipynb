{
  "cells": [
    {
      "cell_type": "markdown",
      "metadata": {},
      "source": [
        "# [Implement Trie (Prefix Tree)](https://leetcode.com/problems/implement-trie-prefix-tree)\n",
        "## Description  \n",
        "Design a Trie data structure to insert words, search for exact matches, and check prefixes.\n",
        "## Strategy  \n",
        "Use nested hash maps (objects) or a class-based tree structure to represent nodes with character keys.\n",
        "\n"
      ]
    },
    {
      "cell_type": "code",
      "execution_count": 95,
      "metadata": {},
      "outputs": [],
      "source": [
        "let toCharCode = (ch: string) => ch.charCodeAt(0) - 'a'.charCodeAt(0)\n",
        "\n",
        "class TrieNode {\n",
        "  constructor() {\n",
        "    this.links = new Array(26).fill(null)\n",
        "    this.isEnd = false\n",
        "  }\n",
        "\n",
        "  containsKey(ch: string): boolean {\n",
        "    return this.links[toCharCode(ch)] != null\n",
        "  }\n",
        "\n",
        "  get(ch: string): TrieNode {\n",
        "    return this.links[toCharCode(ch)];\n",
        "  }\n",
        "\n",
        "  put(ch: string, node: TrieNode) {\n",
        "    this.links[toCharCode(ch)] = node;\n",
        "  }\n",
        "\n",
        "  setEnd(): void {\n",
        "    this.isEnd = true\n",
        "  }\n",
        "\n",
        "  isEndOfWord(): boolean {\n",
        "    return this.isEnd\n",
        "  }\n",
        "}\n",
        "\n",
        "class Trie {\n",
        "  constructor() {\n",
        "    this.root = new TrieNode();\n",
        "  }\n",
        "\n",
        "  insert(word: string): void {\n",
        "    if (!word) return\n",
        "  \n",
        "    let node: TrieNode = this.root;\n",
        "    for(let letter of word) {\n",
        "      if (!node.containsKey(letter)) {\n",
        "        node.put(letter, new TrieNode())\n",
        "      }\n",
        "      node = node.get(letter)\n",
        "    }\n",
        "    node.setEnd()\n",
        "  }\n",
        "\n",
        "  searchPrefix(word: string): TrieNode | null {\n",
        "      let node: TrieNode = this.root;\n",
        "      for(let letter of word) {\n",
        "        if (node.containsKey(letter)) {\n",
        "          node = node.get(letter)\n",
        "        } else {\n",
        "          return null\n",
        "        }\n",
        "      }\n",
        "\n",
        "      return node\n",
        "  }\n",
        "\n",
        "  search(word: string): boolean {\n",
        "    let node: TrieNode = this.searchPrefix(word)\n",
        "    return node !== null && node.isEndOfWord()\n",
        "  }\n",
        "\n",
        "  startsWith(prefix: string): boolean {\n",
        "    let node: TrieNode = this.searchPrefix(prefix)\n",
        "    return node !== null\n",
        "  }\n",
        "}"
      ]
    },
    {
      "cell_type": "code",
      "execution_count": 96,
      "metadata": {},
      "outputs": [
        {
          "name": "stdout",
          "output_type": "stream",
          "text": [
            "Trie basic operations ... \u001b[0m\u001b[32mok\u001b[0m \u001b[0m\u001b[38;5;245m(0ms)\u001b[0m\n",
            "\n",
            "\u001b[0m\u001b[32mok\u001b[0m | 1 passed | 0 failed \u001b[0m\u001b[38;5;245m(0ms)\u001b[0m\n"
          ]
        }
      ],
      "source": [
        "import { assertEquals } from \"https://deno.land/std/testing/asserts.ts\";\n",
        "\n",
        "Deno.test(\"Trie basic operations\", () => {\n",
        "  const trie = new Trie();\n",
        "  trie.insert(\"apple\");\n",
        "  assertEquals(trie.search(\"apple\"), true);\n",
        "  assertEquals(trie.search(\"app\"), false);\n",
        "  assertEquals(trie.startsWith(\"app\"), true);\n",
        "  trie.insert(\"app\");\n",
        "  assertEquals(trie.search(\"app\"), true);\n",
        "});"
      ]
    },
    {
      "cell_type": "code",
      "execution_count": null,
      "id": "d00457ac",
      "metadata": {},
      "outputs": [],
      "source": []
    }
  ],
  "metadata": {
    "kernelspec": {
      "display_name": "Deno",
      "language": "typescript",
      "name": "deno"
    },
    "language_info": {
      "codemirror_mode": "typescript",
      "file_extension": ".ts",
      "mimetype": "text/x.typescript",
      "name": "typescript",
      "nbconvert_exporter": "script",
      "pygments_lexer": "typescript",
      "version": "5.8.3"
    },
    "title": "Implement Trie (Prefix Tree)"
  },
  "nbformat": 4,
  "nbformat_minor": 5
}
