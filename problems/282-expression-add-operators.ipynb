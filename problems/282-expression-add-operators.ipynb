{
  "cells": [
    {
      "cell_type": "markdown",
      "metadata": {},
      "source": [
        "# [Expression Add Operators](https://leetcode.com/problems/expression-add-operators/)\n",
        "\n",
        "Add operators between digits to reach a target value.\n",
        "\n",
        "## Strategy  \n",
        "Use backtracking with expression state tracking.\n",
        "\n"
      ]
    },
    {
      "cell_type": "code",
      "execution_count": null,
      "metadata": {},
      "outputs": [],
      "source": [
        "export function addOperators(num: string, target: number): string[] {\n",
        "  return [];\n",
        "}\n",
        "\n"
      ]
    },
    {
      "cell_type": "code",
      "execution_count": null,
      "metadata": {},
      "outputs": [],
      "source": [
        "import { assertEquals } from \"https://deno.land/std/testing/asserts.ts\";\n",
        "\n",
        "Deno.test(\"addOperators - simple\", () => {\n",
        "  assertEquals(addOperators(\"123\", 6).includes(\"1+2+3\"), true);\n",
        "});\n",
        "\n",
        "Deno.test(\"addOperators - zero handling\", () => {\n",
        "  assertEquals(addOperators(\"105\", 5).includes(\"1*0+5\"), true);\n",
        "});\n",
        "\n",
        "Deno.test(\"addOperators - multiple digits\", () => {\n",
        "  const result = addOperators(\"232\", 8);\n",
        "  assertEquals(result.includes(\"2*3+2\") || result.includes(\"2+3*2\"), true);\n",
        "});\n",
        "\n",
        "\n"
      ]
    }
  ],
  "metadata": {
    "kernelspec": {
      "display_name": "Deno",
      "name": "deno"
    },
    "language_info": {
      "name": "typescript",
      "version": "1.0"
    },
    "title": "[Expression Add Operators](https://leetcode.com/problems/expression-add-operators/)"
  },
  "nbformat": 4,
  "nbformat_minor": 5
}
