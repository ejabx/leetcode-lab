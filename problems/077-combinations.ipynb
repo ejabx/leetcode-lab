{
  "cells": [
    {
      "cell_type": "markdown",
      "metadata": {},
      "source": [
        "# [Combinations](https://leetcode.com/problems/combinations)\n",
        "## Description  \n",
        "Return all combinations of k numbers out of 1…n.\n",
        "## Strategy  \n",
        "Use backtracking to build combinations incrementally.\n",
        "\n"
      ]
    },
    {
      "cell_type": "code",
      "execution_count": 29,
      "metadata": {},
      "outputs": [],
      "source": [
        "export function combine(n: number, k: number): number[][] {\n",
        "  const results: number[][] = []\n",
        "\n",
        "  function backtrack(start: number, current: number[]) {\n",
        "    if (current.length === k) {\n",
        "      results.push([...current])\n",
        "    }\n",
        "\n",
        "    for(let i = start; i <= n; i++) {\n",
        "      current.push(i)\n",
        "      backtrack(i + 1, current)\n",
        "      current.pop()\n",
        "    }\n",
        "  }\n",
        "\n",
        "  backtrack(1, [])\n",
        "  return results;\n",
        "}"
      ]
    },
    {
      "cell_type": "code",
      "execution_count": 30,
      "metadata": {},
      "outputs": [
        {
          "name": "stdout",
          "output_type": "stream",
          "text": [
            "combine - basic ... \u001b[0m\u001b[32mok\u001b[0m \u001b[0m\u001b[38;5;245m(0ms)\u001b[0m\n",
            "combine - k equals n ... \u001b[0m\u001b[32mok\u001b[0m \u001b[0m\u001b[38;5;245m(0ms)\u001b[0m\n",
            "combine - k is 0 ... \u001b[0m\u001b[32mok\u001b[0m \u001b[0m\u001b[38;5;245m(0ms)\u001b[0m\n",
            "\n",
            "\u001b[0m\u001b[32mok\u001b[0m | 3 passed | 0 failed \u001b[0m\u001b[38;5;245m(1ms)\u001b[0m\n"
          ]
        }
      ],
      "source": [
        "import { assertEquals } from \"https://deno.land/std/testing/asserts.ts\";\n",
        "\n",
        "Deno.test(\"combine - basic\", () => {\n",
        "  assertEquals(combine(4, 2).length, 6);\n",
        "});\n",
        "\n",
        "Deno.test(\"combine - k equals n\", () => {\n",
        "  assertEquals(combine(3, 3), [[1, 2, 3]]);\n",
        "});\n",
        "\n",
        "Deno.test(\"combine - k is 0\", () => {\n",
        "  assertEquals(combine(3, 0), [[]]);\n",
        "});\n",
        "\n",
        "\n"
      ]
    }
  ],
  "metadata": {
    "kernelspec": {
      "display_name": "Deno",
      "language": "typescript",
      "name": "deno"
    },
    "language_info": {
      "codemirror_mode": "typescript",
      "file_extension": ".ts",
      "mimetype": "text/x.typescript",
      "name": "typescript",
      "nbconvert_exporter": "script",
      "pygments_lexer": "typescript",
      "version": "5.8.3"
    },
    "title": "Combinations"
  },
  "nbformat": 4,
  "nbformat_minor": 5
}
