{
  "cells": [
    {
      "cell_type": "markdown",
      "metadata": {},
      "source": [
        "# [N-Queens](https://leetcode.com/problems/n-queens)\n",
        "## Description  \n",
        "Place N queens on an N×N chessboard so that no two queens threaten each other.\n",
        "## Strategy  \n",
        "Use backtracking with sets or bitmasks to track columns and diagonals under attack.\n",
        "\n"
      ]
    },
    {
      "cell_type": "code",
      "execution_count": null,
      "metadata": {},
      "outputs": [],
      "source": [
        "export function solveNQueens(n: number): string[][] {\n",
        "  return [];\n",
        "}"
      ]
    },
    {
      "cell_type": "code",
      "execution_count": null,
      "metadata": {},
      "outputs": [],
      "source": [
        "import { assertEquals } from \"https://deno.land/std/testing/asserts.ts\";\n",
        "\n",
        "Deno.test(\"solveNQueens - n = 4\", () => {\n",
        "  assertEquals(solveNQueens(4).length, 2);\n",
        "});\n",
        "\n",
        "Deno.test(\"solveNQueens - n = 1\", () => {\n",
        "  assertEquals(solveNQueens(1), [[\"Q\"]]);\n",
        "});\n",
        "\n",
        "Deno.test(\"solveNQueens - n = 0\", () => {\n",
        "  assertEquals(solveNQueens(0), []);\n",
        "});\n",
        "\n"
      ]
    }
  ],
  "metadata": {
    "kernelspec": {
      "display_name": "Deno",
      "name": "deno"
    },
    "language_info": {
      "name": "typescript",
      "version": "1.0"
    },
    "title": "N-Queens"
  },
  "nbformat": 4,
  "nbformat_minor": 5
}
