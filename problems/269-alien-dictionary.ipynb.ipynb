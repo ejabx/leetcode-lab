{
  "nbformat": 4,
  "nbformat_minor": 5,
  "metadata": {
    "title": "Alien Dictionary",
    "kernelspec": {
      "name": "deno",
      "display_name": "Deno"
    },
    "language_info": {
      "name": "typescript",
      "version": "1.0"
    }
  },
  "cells": [
    {
      "cell_type": "markdown",
      "metadata": {},
      "source": [
        "# [Alien Dictionary](https://leetcode.com/problems/alien-dictionary)\n",
        "## Description  \n",
        "Given a sorted list of words from an alien language, derive the order of the alphabet.\n",
        "## Strategy  \n",
        "Build a graph based on pairwise character precedence and use topological sort.\n",
        "\n"
      ]
    },
    {
      "cell_type": "code",
      "metadata": {},
      "source": [
        "export function alienOrder(words: string[]): string {\n",
        "  return \"\";\n",
        "}\n",
        "\n"
      ],
      "execution_count": null,
      "outputs": []
    },
    {
      "cell_type": "code",
      "metadata": {},
      "source": [
        "import { assertEquals } from \"https://deno.land/std/testing/asserts.ts\";\n",
        "\n",
        "Deno.test(\"alienOrder basic\", () => {\n",
        "  assertEquals(alienOrder([\"wrt\",\"wrf\",\"er\",\"ett\",\"rftt\"]), \"wertf\");\n",
        "});\n",
        "\n",
        "Deno.test(\"alienOrder invalid\", () => {\n",
        "  assertEquals(alienOrder([\"z\",\"x\",\"z\"]), \"\");\n",
        "});\n",
        "\n"
      ],
      "execution_count": null,
      "outputs": []
    }
  ]
}