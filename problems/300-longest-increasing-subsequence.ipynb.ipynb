{
  "cells": [
    {
      "cell_type": "markdown",
      "metadata": {},
      "source": [
        "# [Longest Increasing Subsequence](https://leetcode.com/problems/longest-increasing-subsequence/)"
      ]
    },
    {
      "cell_type": "markdown",
      "metadata": {},
      "source": [
        "## Description\n",
        "Given an integer array, find the length of the longest strictly increasing subsequence.\n",
        "\n"
      ]
    },
    {
      "cell_type": "markdown",
      "metadata": {},
      "source": [
        "## Strategy\n",
        "Use dynamic programming or patience sorting:\n",
        "- For DP: For each element, find the length of the LIS ending at that element.\n",
        "- For patience sorting (binary search approach): Maintain an array tracking smallest tail of increasing subsequences.\n",
        "- The length of the array at the end is the length of the LIS.\n",
        "\n",
        "Time complexity: O(n log n)  \n",
        "Space complexity: O(n)\n",
        "\n"
      ]
    },
    {
      "cell_type": "code",
      "execution_count": 1,
      "metadata": {},
      "outputs": [],
      "source": [
        "function lengthOfLIS(nums: number[]): number {\n",
        "    const dp: number[] = new Array(nums.length).fill(1)\n",
        "    let max: number = 1\n",
        "\n",
        "    for(let i = 0; i < nums.length; i++) {\n",
        "        for (let j = 0; j < i; j++) {\n",
        "            if (nums[j] < nums[i]) {\n",
        "                dp[i] = Math.max(dp[i], dp[j] + 1)\n",
        "            }\n",
        "            max = Math.max(max, dp[i])\n",
        "        }\n",
        "    }\n",
        "\n",
        "    return max\n",
        "};"
      ]
    },
    {
      "cell_type": "code",
      "execution_count": null,
      "id": "6953f82b",
      "metadata": {},
      "outputs": [],
      "source": [
        "function lengthOfLIS_memo(nums: number[]): number {\n",
        "    const memo = new Map<string, number>();\n",
        "    \n",
        "    function dfs(index: number, prevValue: number): number {\n",
        "        if (index === nums.length) return 0;\n",
        "        \n",
        "        const key = `${index}-${prevValue}`;\n",
        "        if (memo.has(key)) return memo.get(key)!;\n",
        "        \n",
        "        // Option 1: Skip current element\n",
        "        let result = dfs(index + 1, prevValue);\n",
        "        \n",
        "        // Option 2: Take current element (if it's increasing)\n",
        "        if (nums[index] > prevValue) {\n",
        "            result = Math.max(result, 1 + dfs(index + 1, nums[index]));\n",
        "        }\n",
        "        \n",
        "        memo.set(key, result);\n",
        "        return result;\n",
        "    }\n",
        "    \n",
        "    return dfs(0, -Infinity);\n",
        "}"
      ]
    },
    {
      "cell_type": "code",
      "execution_count": 3,
      "metadata": {},
      "outputs": [
        {
          "name": "stdout",
          "output_type": "stream",
          "text": [
            "LIS - General Case ... \u001b[0m\u001b[32mok\u001b[0m \u001b[0m\u001b[38;5;245m(0ms)\u001b[0m\n",
            "LIS - Strictly Increasing ... \u001b[0m\u001b[32mok\u001b[0m \u001b[0m\u001b[38;5;245m(0ms)\u001b[0m\n",
            "LIS - All Same Elements ... \u001b[0m\u001b[32mok\u001b[0m \u001b[0m\u001b[38;5;245m(0ms)\u001b[0m\n",
            "LIS - Single Element ... \u001b[0m\u001b[32mok\u001b[0m \u001b[0m\u001b[38;5;245m(0ms)\u001b[0m\n",
            "\n",
            "\u001b[0m\u001b[32mok\u001b[0m | 4 passed | 0 failed \u001b[0m\u001b[38;5;245m(1ms)\u001b[0m\n"
          ]
        }
      ],
      "source": [
        "import { assertEquals } from \"https://deno.land/std/testing/asserts.ts\";\n",
        "\n",
        "Deno.test(\"LIS - General Case\", () => {\n",
        "  assertEquals(lengthOfLIS([10,9,2,5,3,7,101,18]), 4);\n",
        "});\n",
        "\n",
        "Deno.test(\"LIS - Strictly Increasing\", () => {\n",
        "  assertEquals(lengthOfLIS([1,2,3,4,5]), 5);\n",
        "});\n",
        "\n",
        "Deno.test(\"LIS - All Same Elements\", () => {\n",
        "  assertEquals(lengthOfLIS([7,7,7,7]), 1);\n",
        "});\n",
        "\n",
        "Deno.test(\"LIS - Single Element\", () => {\n",
        "  assertEquals(lengthOfLIS([10]), 1);\n",
        "});"
      ]
    }
  ],
  "metadata": {
    "kernelspec": {
      "display_name": "Deno",
      "language": "typescript",
      "name": "deno"
    },
    "language_info": {
      "codemirror_mode": "typescript",
      "file_extension": ".ts",
      "mimetype": "text/x.typescript",
      "name": "typescript",
      "nbconvert_exporter": "script",
      "pygments_lexer": "typescript",
      "version": "5.8.3"
    },
    "title": "Longest Increasing Subsequence"
  },
  "nbformat": 4,
  "nbformat_minor": 5
}
