{
  "nbformat": 4,
  "nbformat_minor": 5,
  "metadata": {
    "title": "[House Robber](https://leetcode.com/problems/house-robber/)",
    "kernelspec": {
      "name": "deno",
      "display_name": "Deno"
    },
    "language_info": {
      "name": "typescript",
      "version": "1.0"
    }
  },
  "cells": [
    {
      "cell_type": "markdown",
      "metadata": {},
      "source": [
        "# [House Robber](https://leetcode.com/problems/house-robber/)\n",
        "\n",
        "Maximize the amount of money you can rob tonight without alerting the police, assuming adjacent houses cannot be robbed together.\n",
        "\n",
        "## Strategy  \n",
        "Use dynamic programming to track the maximum at each house: either rob it (and skip previous) or skip it and take the best up to the previous house.\n",
        "\n"
      ]
    },
    {
      "cell_type": "code",
      "metadata": {},
      "source": [
        "export function rob(nums: number[]): number {\n",
        "  return 0;\n",
        "}\n",
        "\n"
      ],
      "execution_count": null,
      "outputs": []
    },
    {
      "cell_type": "code",
      "metadata": {},
      "source": [
        "import { assertEquals } from \"https://deno.land/std/testing/asserts.ts\";\n",
        "\n",
        "Deno.test(\"rob - basic\", () => {\n",
        "  assertEquals(rob([1, 2, 3, 1]), 4);\n",
        "});\n",
        "\n",
        "Deno.test(\"rob - larger values\", () => {\n",
        "  assertEquals(rob([2, 7, 9, 3, 1]), 12);\n",
        "});\n",
        "\n",
        "Deno.test(\"rob - single house\", () => {\n",
        "  assertEquals(rob([5]), 5);\n",
        "});\n",
        "\n",
        "Deno.test(\"rob - two houses\", () => {\n",
        "  assertEquals(rob([2, 1]), 2);\n",
        "});\n",
        "\n",
        "Deno.test(\"rob - empty list\", () => {\n",
        "  assertEquals(rob([]), 0);\n",
        "});\n",
        "\n"
      ],
      "execution_count": null,
      "outputs": []
    }
  ]
}