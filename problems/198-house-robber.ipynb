{
  "cells": [
    {
      "cell_type": "markdown",
      "metadata": {},
      "source": [
        "# [House Robber](https://leetcode.com/problems/house-robber/)\n",
        "\n",
        "Maximize the amount of money you can rob tonight without alerting the police, assuming adjacent houses cannot be robbed together.\n",
        "\n",
        "## Strategy  \n",
        "Use dynamic programming to track the maximum at each house: either rob it (and skip previous) or skip it and take the best up to the previous house.\n",
        "\n",
        "1. **At each house, we have exactly 2 choices:**\n",
        "   - Rob this house + best result from 2 houses ago\n",
        "   - Skip this house + best result from previous house\n",
        "\n",
        "2. **Why `dp[i-2]` when robbing?**\n",
        "   - Can't rob adjacent houses\n",
        "   - If we rob house `i`, we couldn't have robbed house `i-1`\n",
        "   - So we add the best result from house `i-2`\n",
        "\n",
        "3. **The algorithm guarantees optimality:**\n",
        "   - Considers all valid combinations through systematic comparison\n",
        "   - Uses optimal substructure: best solution uses best solutions to subproblems\n",
        "\n",
        "4. **Remember Base Cases!**\n",
        "    - No house: ```if (!nums) return 0```  \n",
        "    - Only one house: ```if (nums.length === 1) return nums[0];```  \n",
        "\n",
        "**Time Complexity**: O(n)  \n",
        "**Space Complexity**: O(n) (can be optimized to O(1))"
      ]
    },
    {
      "cell_type": "code",
      "execution_count": null,
      "metadata": {},
      "outputs": [],
      "source": [
        "// Time: O(n)\n",
        "// Space: O(n)\n",
        "function rob(nums: number[]): number {\n",
        "  if (!nums) return 0\n",
        "  if (nums.length === 1) return nums[0];\n",
        "\n",
        "  const dp: number[] = new Array(nums.length).fill(0)\n",
        "\n",
        "  dp[0] = nums[0]\n",
        "  dp[1] = Math.max(nums[0], nums[1])\n",
        "\n",
        "  for(let i = 2; i < nums.length; i++) {\n",
        "    dp[i] = Math.max(nums[i] + dp[i - 2], dp[i - 1])\n",
        "  }\n",
        "\n",
        "  return dp[nums.length - 1]\n",
        "}\n",
        "\n",
        "// Time: O(n)\n",
        "// Space: O(1)\n",
        "function robConstant(nums: number[]): number {\n",
        "    if (!nums) return 0\n",
        "    if (nums.length === 1) return nums[0];\n",
        "    \n",
        "    let twoBack: number = nums[0]\n",
        "    let oneBack: number = Math.max(nums[0], nums[1])\n",
        "\n",
        "    for(let i = 2; i < nums.length; i++) {\n",
        "        const current = Math.max(nums[i] + twoBack, oneBack)\n",
        "        twoBack = oneBack\n",
        "        oneBack = current\n",
        "    }\n",
        "    \n",
        "    return oneBack\n",
        "};"
      ]
    },
    {
      "cell_type": "code",
      "execution_count": 32,
      "metadata": {},
      "outputs": [
        {
          "name": "stdout",
          "output_type": "stream",
          "text": [
            "rob - basic ...[ 1, 2, 0, 0 ]\n",
            "[ 1, 2, 4, 0 ]\n",
            " \u001b[0m\u001b[32mok\u001b[0m \u001b[0m\u001b[38;5;245m(0ms)\u001b[0m\n",
            "rob - larger values ...[ 2, 7, 0, 0, 0 ]\n",
            "[ 2, 7, 11, 0, 0 ]\n",
            "[ 2, 7, 11, 11, 0 ]\n",
            " \u001b[0m\u001b[32mok\u001b[0m \u001b[0m\u001b[38;5;245m(0ms)\u001b[0m\n",
            "rob - single house ... \u001b[0m\u001b[32mok\u001b[0m \u001b[0m\u001b[38;5;245m(0ms)\u001b[0m\n",
            "rob - two houses ... \u001b[0m\u001b[32mok\u001b[0m \u001b[0m\u001b[38;5;245m(0ms)\u001b[0m\n",
            "rob - empty list ... \u001b[0m\u001b[32mok\u001b[0m \u001b[0m\u001b[38;5;245m(0ms)\u001b[0m\n",
            "\n",
            "\u001b[0m\u001b[32mok\u001b[0m | 5 passed | 0 failed \u001b[0m\u001b[38;5;245m(1ms)\u001b[0m\n"
          ]
        }
      ],
      "source": [
        "import { assertEquals } from \"https://deno.land/std/testing/asserts.ts\";\n",
        "\n",
        "Deno.test(\"rob - basic\", () => {\n",
        "  assertEquals(rob([1, 2, 3, 1]), 4);\n",
        "});\n",
        "\n",
        "Deno.test(\"rob - larger values\", () => {\n",
        "  assertEquals(rob([2, 7, 9, 3, 1]), 12);\n",
        "});\n",
        "\n",
        "Deno.test(\"rob - single house\", () => {\n",
        "  assertEquals(rob([5]), 5);\n",
        "});\n",
        "\n",
        "Deno.test(\"rob - two houses\", () => {\n",
        "  assertEquals(rob([2, 1]), 2);\n",
        "});\n",
        "\n",
        "Deno.test(\"rob - empty list\", () => {\n",
        "  assertEquals(rob([0]), 0);\n",
        "});\n",
        "\n"
      ]
    },
    {
      "cell_type": "code",
      "execution_count": null,
      "id": "4bab4889",
      "metadata": {},
      "outputs": [],
      "source": []
    }
  ],
  "metadata": {
    "kernelspec": {
      "display_name": "Deno",
      "language": "typescript",
      "name": "deno"
    },
    "language_info": {
      "codemirror_mode": "typescript",
      "file_extension": ".ts",
      "mimetype": "text/x.typescript",
      "name": "typescript",
      "nbconvert_exporter": "script",
      "pygments_lexer": "typescript",
      "version": "5.8.3"
    },
    "title": "[House Robber](https://leetcode.com/problems/house-robber/)"
  },
  "nbformat": 4,
  "nbformat_minor": 5
}
