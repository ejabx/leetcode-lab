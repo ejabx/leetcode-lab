{
 "cells": [
  {
   "cell_type": "markdown",
   "id": "113512e6",
   "metadata": {
    "tags": [
     "Array",
     "Two Pointers",
     "Greedy"
    ]
   },
   "source": [
    "# [Container With Most Water](https://leetcode.com/problems/container-with-most-water/description/)\n",
    "\n",
    "You are given an array of heights representing vertical lines drawn at equal intervals. Find the pair of lines that, along with the x-axis, can hold the __maximum amount of water__ between them.\n",
    "\n",
    "The area is calculated as `min(height[i], height[j]) * (j - i)`.\n",
    "You must use two different lines, and the width is the distance between the two indices.\n",
    "\n",
    "# Strategy\n",
    "\n",
    "Use a two-pointer approach:\n",
    "\n",
    "- Start with one pointer at the beginning and the other at the end.\n",
    "- Calculate the area.\n",
    "- Move the pointer pointing to the shorter line inward.\n",
    "- Repeat until the pointers meet.\n",
    "\n",
    "__Time__: O(n) — each element is visited at most once  \n",
    "__Space__: O(1) — constant space  "
   ]
  },
  {
   "cell_type": "markdown",
   "id": "ce2e8e79",
   "metadata": {},
   "source": [
    "# Solution"
   ]
  },
  {
   "cell_type": "code",
   "execution_count": 1,
   "id": "59cb52f1",
   "metadata": {},
   "outputs": [],
   "source": [
    "function maxAreaWater(height: number[]): number {\n",
    "    let left = 0\n",
    "    let right = height.length - 1\n",
    "    let maxArea = 0\n",
    "\n",
    "    while (left < right) {\n",
    "        const width = right - left;\n",
    "        maxArea = Math.max(maxArea, Math.min(height[left], height[right]) * width)\n",
    "        if (height[left] <= height[right]) {\n",
    "            left++\n",
    "        } else {\n",
    "            right--\n",
    "        }\n",
    "    }\n",
    "\n",
    "    return maxArea\n",
    "};"
   ]
  },
  {
   "cell_type": "markdown",
   "id": "827b0637",
   "metadata": {},
   "source": [
    "# Test Cases"
   ]
  },
  {
   "cell_type": "code",
   "execution_count": 2,
   "id": "5ecd126b",
   "metadata": {},
   "outputs": [
    {
     "name": "stdout",
     "output_type": "stream",
     "text": [
      "maxArea - basic cases ... \u001b[0m\u001b[32mok\u001b[0m \u001b[0m\u001b[38;5;245m(0ms)\u001b[0m\n",
      "maxArea - increasing or decreasing heights ... \u001b[0m\u001b[32mok\u001b[0m \u001b[0m\u001b[38;5;245m(0ms)\u001b[0m\n",
      "maxArea - edge cases ... \u001b[0m\u001b[32mok\u001b[0m \u001b[0m\u001b[38;5;245m(0ms)\u001b[0m\n",
      "\n",
      "\u001b[0m\u001b[32mok\u001b[0m | 3 passed | 0 failed \u001b[0m\u001b[38;5;245m(0ms)\u001b[0m\n"
     ]
    }
   ],
   "source": [
    "import { assertEquals } from \"https://deno.land/std@0.224.0/assert/mod.ts\";\n",
    "\n",
    "Deno.test(\"maxArea - basic cases\", () => {\n",
    "  assertEquals(maxAreaWater([1, 8, 6, 2, 5, 4, 8, 3, 7]), 49);\n",
    "  assertEquals(maxAreaWater([1, 1]), 1);\n",
    "  assertEquals(maxAreaWater([4, 3, 2, 1, 4]), 16);\n",
    "});\n",
    "\n",
    "Deno.test(\"maxArea - increasing or decreasing heights\", () => {\n",
    "  assertEquals(maxAreaWater([1, 2, 3, 4, 5]), 6);\n",
    "  assertEquals(maxAreaWater([5, 4, 3, 2, 1]), 6);\n",
    "});\n",
    "\n",
    "Deno.test(\"maxArea - edge cases\", () => {\n",
    "  assertEquals(maxAreaWater([1]), 0); // only one line — can't form container\n",
    "  assertEquals(maxAreaWater([]), 0);  // empty input\n",
    "  assertEquals(maxAreaWater([0, 0, 0, 0]), 0); // no height\n",
    "  assertEquals(maxAreaWater([10, 0, 0, 10]), 30); // tall walls at ends\n",
    "});"
   ]
  }
 ],
 "metadata": {
  "kernelspec": {
   "display_name": "Deno",
   "language": "typescript",
   "name": "deno"
  },
  "language_info": {
   "codemirror_mode": "typescript",
   "file_extension": ".ts",
   "mimetype": "text/x.typescript",
   "name": "typescript",
   "nbconvert_exporter": "script",
   "pygments_lexer": "typescript",
   "version": "5.8.3"
  }
 },
 "nbformat": 4,
 "nbformat_minor": 5
}
