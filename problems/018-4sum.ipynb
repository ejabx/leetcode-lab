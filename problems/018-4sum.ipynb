{
 "cells": [
  {
   "cell_type": "markdown",
   "id": "a5bcd663",
   "metadata": {
    "tags": [
     "Array",
     "Two Pointers",
     "Sorting"
    ]
   },
   "source": [
    "# [4 Sum](https://leetcode.com/problems/4sum/description/)\n",
    "\n",
    "Given an array of integers `nums` and a `target` integer target, find all __unique quadruplets__ `[a, b, c, d]` in the array such that:\n",
    "\n",
    "```a + b + c + d == target```\n",
    "\n",
    "Each quadruplet must not be repeated in the output.\n",
    "\n",
    "## Strategy\n",
    "\n",
    "1. Sort the array to make duplicate handling easier.\n",
    "2. Use a nested loop (2 layers) to fix two elements.\n",
    "3. Use a two-pointer approach to find the remaining two values.\n",
    "4. Skip duplicates carefully at each layer.\n",
    "5. Use Set or direct checks to filter duplicates.\n",
    "\n",
    "__Time__: O(n^3) — due to 2 nested loops and 2-pointer scan  \n",
    "__Space__: O(k) — for storing results  "
   ]
  },
  {
   "cell_type": "markdown",
   "id": "4e451c00",
   "metadata": {},
   "source": [
    "## Solution"
   ]
  },
  {
   "cell_type": "code",
   "execution_count": 4,
   "id": "a9813dfd",
   "metadata": {},
   "outputs": [],
   "source": [
    "function fourSum(nums: number[], target: number): number[][] {\n",
    "    \n",
    "};"
   ]
  },
  {
   "cell_type": "code",
   "execution_count": 5,
   "id": "0f55ead8",
   "metadata": {},
   "outputs": [
    {
     "name": "stdout",
     "output_type": "stream",
     "text": [
      "fourSum - multiple duplicates, target is 0 ... \u001b[0m\u001b[31mFAILED\u001b[0m \u001b[0m\u001b[38;5;245m(0ms)\u001b[0m\n",
      "fourSum - all negatives ... \u001b[0m\u001b[31mFAILED\u001b[0m \u001b[0m\u001b[38;5;245m(0ms)\u001b[0m\n",
      "fourSum - includes zeros ... \u001b[0m\u001b[31mFAILED\u001b[0m \u001b[0m\u001b[38;5;245m(0ms)\u001b[0m\n",
      "fourSum - empty and small input ... \u001b[0m\u001b[31mFAILED\u001b[0m \u001b[0m\u001b[38;5;245m(38ms)\u001b[0m\n",
      "fourSum - large target, no combination ... \u001b[0m\u001b[31mFAILED\u001b[0m \u001b[0m\u001b[38;5;245m(0ms)\u001b[0m\n",
      "\n",
      "\u001b[0m\u001b[1m\u001b[37m\u001b[41m ERRORS \u001b[0m\n",
      "\n",
      "fourSum - multiple duplicates, target is 0 \u001b[0m\u001b[38;5;245m=> <anonymous>:7:6\u001b[0m\n",
      "\u001b[0m\u001b[1m\u001b[31merror\u001b[0m: TypeError: Cannot read properties of undefined (reading 'map')\n",
      "    at \u001b[0m\u001b[1m\u001b[3msortQuadruplets\u001b[0m (\u001b[0m\u001b[36m<anonymous>\u001b[0m:\u001b[0m\u001b[33m3\u001b[0m:\u001b[0m\u001b[33m14\u001b[0m)\n",
      "    at \u001b[0m\u001b[36m<anonymous>\u001b[0m:\u001b[0m\u001b[33m8\u001b[0m:\u001b[0m\u001b[33m15\u001b[0m\n",
      "\n",
      "fourSum - all negatives \u001b[0m\u001b[38;5;245m=> <anonymous>:24:6\u001b[0m\n",
      "\u001b[0m\u001b[1m\u001b[31merror\u001b[0m: TypeError: Cannot read properties of undefined (reading 'map')\n",
      "    at \u001b[0m\u001b[1m\u001b[3msortQuadruplets\u001b[0m (\u001b[0m\u001b[36m<anonymous>\u001b[0m:\u001b[0m\u001b[33m3\u001b[0m:\u001b[0m\u001b[33m14\u001b[0m)\n",
      "    at \u001b[0m\u001b[36m<anonymous>\u001b[0m:\u001b[0m\u001b[33m25\u001b[0m:\u001b[0m\u001b[33m15\u001b[0m\n",
      "\n",
      "fourSum - includes zeros \u001b[0m\u001b[38;5;245m=> <anonymous>:41:6\u001b[0m\n",
      "\u001b[0m\u001b[1m\u001b[31merror\u001b[0m: TypeError: Cannot read properties of undefined (reading 'map')\n",
      "    at \u001b[0m\u001b[1m\u001b[3msortQuadruplets\u001b[0m (\u001b[0m\u001b[36m<anonymous>\u001b[0m:\u001b[0m\u001b[33m3\u001b[0m:\u001b[0m\u001b[33m14\u001b[0m)\n",
      "    at \u001b[0m\u001b[36m<anonymous>\u001b[0m:\u001b[0m\u001b[33m42\u001b[0m:\u001b[0m\u001b[33m15\u001b[0m\n",
      "\n",
      "fourSum - empty and small input \u001b[0m\u001b[38;5;245m=> <anonymous>:57:6\u001b[0m\n",
      "\u001b[0m\u001b[1m\u001b[31merror\u001b[0m: AssertionError: Values are not equal.\n",
      "\n",
      "\n",
      "    \u001b[90m\u001b[1m[Diff]\u001b[22m\u001b[39m \u001b[31m\u001b[1mActual\u001b[22m\u001b[39m / \u001b[32m\u001b[1mExpected\u001b[22m\u001b[39m\n",
      "\n",
      "\n",
      "\u001b[31m\u001b[1m-   undefined\u001b[22m\u001b[39m\n",
      "\u001b[32m\u001b[1m+   []\u001b[22m\u001b[39m\n",
      "\n",
      "  throw new AssertionError(message);\n",
      "\u001b[0m\u001b[31m        ^\u001b[0m\n",
      "    at \u001b[0m\u001b[1m\u001b[3massertEquals\u001b[0m (\u001b[0m\u001b[36mhttps://jsr.io/@std/assert/1.0.13/equals.ts\u001b[0m:\u001b[0m\u001b[33m64\u001b[0m:\u001b[0m\u001b[33m9\u001b[0m)\n",
      "    at \u001b[0m\u001b[36m<anonymous>\u001b[0m:\u001b[0m\u001b[33m58\u001b[0m:\u001b[0m\u001b[33m3\u001b[0m\n",
      "\n",
      "fourSum - large target, no combination \u001b[0m\u001b[38;5;245m=> <anonymous>:65:6\u001b[0m\n",
      "\u001b[0m\u001b[1m\u001b[31merror\u001b[0m: AssertionError: Values are not equal.\n",
      "\n",
      "\n",
      "    \u001b[90m\u001b[1m[Diff]\u001b[22m\u001b[39m \u001b[31m\u001b[1mActual\u001b[22m\u001b[39m / \u001b[32m\u001b[1mExpected\u001b[22m\u001b[39m\n",
      "\n",
      "\n",
      "\u001b[31m\u001b[1m-   undefined\u001b[22m\u001b[39m\n",
      "\u001b[32m\u001b[1m+   []\u001b[22m\u001b[39m\n",
      "\n",
      "  throw new AssertionError(message);\n",
      "\u001b[0m\u001b[31m        ^\u001b[0m\n",
      "    at \u001b[0m\u001b[1m\u001b[3massertEquals\u001b[0m (\u001b[0m\u001b[36mhttps://jsr.io/@std/assert/1.0.13/equals.ts\u001b[0m:\u001b[0m\u001b[33m64\u001b[0m:\u001b[0m\u001b[33m9\u001b[0m)\n",
      "    at \u001b[0m\u001b[36m<anonymous>\u001b[0m:\u001b[0m\u001b[33m66\u001b[0m:\u001b[0m\u001b[33m3\u001b[0m\n",
      "\n",
      "\u001b[0m\u001b[1m\u001b[37m\u001b[41m FAILURES \u001b[0m\n",
      "\n",
      "fourSum - multiple duplicates, target is 0 \u001b[0m\u001b[38;5;245m=> <anonymous>:7:6\u001b[0m\n",
      "fourSum - all negatives \u001b[0m\u001b[38;5;245m=> <anonymous>:24:6\u001b[0m\n",
      "fourSum - includes zeros \u001b[0m\u001b[38;5;245m=> <anonymous>:41:6\u001b[0m\n",
      "fourSum - empty and small input \u001b[0m\u001b[38;5;245m=> <anonymous>:57:6\u001b[0m\n",
      "fourSum - large target, no combination \u001b[0m\u001b[38;5;245m=> <anonymous>:65:6\u001b[0m\n",
      "\n",
      "\u001b[0m\u001b[31mFAILED\u001b[0m | 0 passed | 5 failed \u001b[0m\u001b[38;5;245m(40ms)\u001b[0m\n"
     ]
    }
   ],
   "source": [
    "import { assertEquals } from \"jsr:@std/assert\";\n",
    "\n",
    "function sortQuadruplets(arr: number[][]): number[][] {\n",
    "  return arr.map(q => [...q].sort((a, b) => a - b))\n",
    "            .sort((a, b) => a[0] - b[0] || a[1] - b[1] || a[2] - b[2] || a[3] - b[3]);\n",
    "}\n",
    "\n",
    "Deno.test(\"fourSum - multiple duplicates, target is 0\", () => {\n",
    "  const res = sortQuadruplets(fourSum([2, 2, 2, 2, 2], 8));\n",
    "  assertEquals(res, [[2, 2, 2, 2]]);\n",
    "});\n",
    "\n",
    "Deno.test(\"fourSum - all negatives\", () => {\n",
    "  const res = sortQuadruplets(fourSum([-5, -4, -3, -2, -1], -10));\n",
    "  assertEquals(res, [[-4, -3, -2, -1]]);\n",
    "});\n",
    "\n",
    "Deno.test(\"fourSum - includes zeros\", () => {\n",
    "  const res = sortQuadruplets(fourSum([0, 0, 0, 0], 0));\n",
    "  assertEquals(res, [[0, 0, 0, 0]]);\n",
    "});\n",
    "\n",
    "Deno.test(\"fourSum - empty and small input\", () => {\n",
    "  assertEquals(fourSum([], 0), []);\n",
    "  assertEquals(fourSum([1, 2, 3], 6), []);\n",
    "});\n",
    "\n",
    "Deno.test(\"fourSum - large target, no combination\", () => {\n",
    "  assertEquals(fourSum([1, 2, 3, 4, 5], 100), []);\n",
    "});"
   ]
  },
  {
   "cell_type": "markdown",
   "id": "4b7e5051",
   "metadata": {},
   "source": [
    "## Test Cases\n",
    "_Expected to fail until Solution is solved_"
   ]
  },
  {
   "cell_type": "markdown",
   "id": "e39f9b95",
   "metadata": {},
   "source": []
  }
 ],
 "metadata": {
  "kernelspec": {
   "display_name": "Deno",
   "language": "typescript",
   "name": "deno"
  },
  "language_info": {
   "codemirror_mode": "typescript",
   "file_extension": ".ts",
   "mimetype": "text/x.typescript",
   "name": "typescript",
   "nbconvert_exporter": "script",
   "pygments_lexer": "typescript",
   "version": "5.8.3"
  }
 },
 "nbformat": 4,
 "nbformat_minor": 5
}
