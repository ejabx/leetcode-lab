{
  "nbformat": 4,
  "nbformat_minor": 5,
  "metadata": {
    "title": "Longest Valid Parentheses",
    "kernelspec": {
      "name": "deno",
      "display_name": "Deno"
    },
    "language_info": {
      "name": "typescript",
      "version": "1.0"
    }
  },
  "cells": [
    {
      "cell_type": "markdown",
      "metadata": {},
      "source": [
        "# Longest Valid Parentheses  \n",
        "[LeetCode Link](https://leetcode.com/problems/longest-valid-parentheses)\n",
        "\n"
      ]
    },
    {
      "cell_type": "markdown",
      "metadata": {},
      "source": [
        "## Description  \n",
        "Find the length of the longest valid (well-formed) parentheses substring.\n",
        "\n"
      ]
    },
    {
      "cell_type": "markdown",
      "metadata": {},
      "source": [
        "## Strategy  \n",
        "Use a stack to track open parentheses or use dynamic programming for efficiency.\n",
        "\n"
      ]
    },
    {
      "cell_type": "code",
      "metadata": {},
      "source": [
        "export function longestValidParentheses(s: string): number {\n",
        "  return 0;\n",
        "}\n",
        "\n"
      ],
      "execution_count": null,
      "outputs": []
    },
    {
      "cell_type": "code",
      "metadata": {},
      "source": [
        "import { assertEquals } from \"https://deno.land/std/testing/asserts.ts\";\n",
        "\n",
        "Deno.test(\"longestValidParentheses - nested\", () => {\n",
        "  assertEquals(longestValidParentheses(\"(()\"), 2);\n",
        "});\n",
        "\n",
        "Deno.test(\"longestValidParentheses - complex\", () => {\n",
        "  assertEquals(longestValidParentheses(\")()())\"), 4);\n",
        "});\n",
        "\n",
        "Deno.test(\"longestValidParentheses - empty\", () => {\n",
        "  assertEquals(longestValidParentheses(\"\"), 0);\n",
        "});\n",
        "\n",
        "Deno.test(\"longestValidParentheses - all open\", () => {\n",
        "  assertEquals(longestValidParentheses(\"((((\"), 0);\n",
        "});\n",
        "\n"
      ],
      "execution_count": null,
      "outputs": []
    }
  ]
}