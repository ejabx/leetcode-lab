{
  "nbformat": 4,
  "nbformat_minor": 5,
  "metadata": {
    "title": "Search a 2D Matrix II",
    "kernelspec": {
      "name": "deno",
      "display_name": "Deno"
    },
    "language_info": {
      "name": "typescript",
      "version": "1.0"
    }
  },
  "cells": [
    {
      "cell_type": "markdown",
      "metadata": {},
      "source": [
        "# [Search a 2D Matrix II](https://leetcode.com/problems/search-a-2d-matrix-ii/)\n",
        "## Description\n",
        "Search for a target in a matrix where rows and columns are sorted.\n",
        "## Strategy\n",
        "Start from top-right or bottom-left and eliminate rows or columns based on comparison.\n",
        "\n"
      ]
    },
    {
      "cell_type": "code",
      "metadata": {},
      "source": [
        "export function searchMatrix(matrix: number[][], target: number): boolean {\n",
        "  return false;\n",
        "}\n",
        "\n"
      ],
      "execution_count": null,
      "outputs": []
    },
    {
      "cell_type": "code",
      "metadata": {},
      "source": [
        "import { assertEquals } from \"https://deno.land/std/testing/asserts.ts\";\n",
        "\n",
        "Deno.test(\"2D Search - Found\", () => {\n",
        "  assertEquals(searchMatrix([\n",
        "    [1, 4, 7, 11, 15],\n",
        "    [2, 5, 8, 12, 19],\n",
        "    [3, 6, 9, 16, 22],\n",
        "    [10, 13, 14, 17, 24],\n",
        "    [18, 21, 23, 26, 30]\n",
        "  ], 5), true);\n",
        "});\n",
        "\n",
        "Deno.test(\"2D Search - Not Found\", () => {\n",
        "  assertEquals(searchMatrix([\n",
        "    [1, 4, 7],\n",
        "    [8, 10, 12]\n",
        "  ], 6), false);\n",
        "});\n",
        "\n",
        "Deno.test(\"2D Search - Empty Matrix\", () => {\n",
        "  assertEquals(searchMatrix([], 1), false);\n",
        "});\n",
        "\n"
      ],
      "execution_count": null,
      "outputs": []
    }
  ]
}