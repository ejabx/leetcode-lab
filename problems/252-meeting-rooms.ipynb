{
  "cells": [
    {
      "cell_type": "markdown",
      "metadata": {
        "tags": [
          "Array",
          "Sorting"
        ]
      },
      "source": [
        "# [Meeting Rooms](https://leetcode.com/problems/meeting-rooms)\n",
        "## Description  \n",
        "Determine if a person can attend all meetings given an array of meeting time intervals.\n",
        "## Strategy  \n",
        "Sort intervals by start time and check for any overlaps with the previous meeting's end time.\n",
        "\n"
      ]
    },
    {
      "cell_type": "code",
      "execution_count": 17,
      "metadata": {},
      "outputs": [],
      "source": [
        "export function canAttendMeetings(intervals: number[][]): boolean {\n",
        "  const sortedMeetings: number[][] = intervals.sort((a: number[], b: number[]) => {\n",
        "    return a[0] - b[0]\n",
        "  })\n",
        "  for(let i = 1; i < sortedMeetings.length; i++) {\n",
        "    if (sortedMeetings[i][0] < sortedMeetings[i - 1][1]) return false\n",
        "  }\n",
        "\n",
        "  return true;\n",
        "}"
      ]
    },
    {
      "cell_type": "code",
      "execution_count": 18,
      "metadata": {},
      "outputs": [
        {
          "name": "stdout",
          "output_type": "stream",
          "text": [
            "canAttendMeetings - no overlap ... \u001b[0m\u001b[32mok\u001b[0m \u001b[0m\u001b[38;5;245m(0ms)\u001b[0m\n",
            "canAttendMeetings - overlap ... \u001b[0m\u001b[32mok\u001b[0m \u001b[0m\u001b[38;5;245m(0ms)\u001b[0m\n",
            "canAttendMeetings - single meeting ... \u001b[0m\u001b[32mok\u001b[0m \u001b[0m\u001b[38;5;245m(0ms)\u001b[0m\n",
            "canAttendMeetings - empty list ... \u001b[0m\u001b[32mok\u001b[0m \u001b[0m\u001b[38;5;245m(0ms)\u001b[0m\n",
            "canAttendMeetings - touching meetings ... \u001b[0m\u001b[32mok\u001b[0m \u001b[0m\u001b[38;5;245m(0ms)\u001b[0m\n",
            "\n",
            "\u001b[0m\u001b[32mok\u001b[0m | 5 passed | 0 failed \u001b[0m\u001b[38;5;245m(1ms)\u001b[0m\n"
          ]
        }
      ],
      "source": [
        "import { assertEquals } from \"https://deno.land/std/testing/asserts.ts\";\n",
        "\n",
        "Deno.test(\"canAttendMeetings - no overlap\", () => {\n",
        "  assertEquals(canAttendMeetings([[0,30],[35,50]]), true);\n",
        "});\n",
        "\n",
        "Deno.test(\"canAttendMeetings - overlap\", () => {\n",
        "  assertEquals(canAttendMeetings([[0,30],[5,10],[15,20]]), false);\n",
        "});\n",
        "\n",
        "Deno.test(\"canAttendMeetings - single meeting\", () => {\n",
        "  assertEquals(canAttendMeetings([[10,20]]), true);\n",
        "});\n",
        "\n",
        "Deno.test(\"canAttendMeetings - empty list\", () => {\n",
        "  assertEquals(canAttendMeetings([]), true);\n",
        "});\n",
        "\n",
        "Deno.test(\"canAttendMeetings - touching meetings\", () => {\n",
        "  assertEquals(canAttendMeetings([[10,20],[20,30]]), true);\n",
        "});\n",
        "\n"
      ]
    }
  ],
  "metadata": {
    "kernelspec": {
      "display_name": "Deno",
      "language": "typescript",
      "name": "deno"
    },
    "language_info": {
      "codemirror_mode": "typescript",
      "file_extension": ".ts",
      "mimetype": "text/x.typescript",
      "name": "typescript",
      "nbconvert_exporter": "script",
      "pygments_lexer": "typescript",
      "version": "5.8.3"
    },
    "title": "Meeting Rooms"
  },
  "nbformat": 4,
  "nbformat_minor": 5
}
