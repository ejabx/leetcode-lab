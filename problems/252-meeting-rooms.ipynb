{
  "nbformat": 4,
  "nbformat_minor": 5,
  "metadata": {
    "title": "Meeting Rooms",
    "kernelspec": {
      "name": "deno",
      "display_name": "Deno"
    },
    "language_info": {
      "name": "typescript",
      "version": "1.0"
    }
  },
  "cells": [
    {
      "cell_type": "markdown",
      "metadata": {
        "tags": [
          "Array",
          "Sorting"
        ]
      },
      "source": [
        "# [Meeting Rooms](https://leetcode.com/problems/meeting-rooms)\n",
        "## Description  \n",
        "Determine if a person can attend all meetings given an array of meeting time intervals.\n",
        "## Strategy  \n",
        "Sort intervals by start time and check for any overlaps with the previous meeting's end time.\n",
        "\n"
      ]
    },
    {
      "cell_type": "code",
      "metadata": {},
      "source": [
        "export function canAttendMeetings(intervals: number[][]): boolean {\n",
        "  return false;\n",
        "}\n",
        "\n"
      ],
      "execution_count": null,
      "outputs": []
    },
    {
      "cell_type": "code",
      "metadata": {},
      "source": [
        "import { assertEquals } from \"https://deno.land/std/testing/asserts.ts\";\n",
        "\n",
        "Deno.test(\"canAttendMeetings - no overlap\", () => {\n",
        "  assertEquals(canAttendMeetings([[0,30],[35,50]]), true);\n",
        "});\n",
        "\n",
        "Deno.test(\"canAttendMeetings - overlap\", () => {\n",
        "  assertEquals(canAttendMeetings([[0,30],[5,10],[15,20]]), false);\n",
        "});\n",
        "\n",
        "Deno.test(\"canAttendMeetings - single meeting\", () => {\n",
        "  assertEquals(canAttendMeetings([[10,20]]), true);\n",
        "});\n",
        "\n",
        "Deno.test(\"canAttendMeetings - empty list\", () => {\n",
        "  assertEquals(canAttendMeetings([]), true);\n",
        "});\n",
        "\n",
        "Deno.test(\"canAttendMeetings - touching meetings\", () => {\n",
        "  assertEquals(canAttendMeetings([[10,20],[20,30]]), true);\n",
        "});\n",
        "\n"
      ],
      "execution_count": null,
      "outputs": []
    }
  ]
}