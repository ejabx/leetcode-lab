{
  "nbformat": 4,
  "nbformat_minor": 5,
  "metadata": {
    "title": "Task Scheduler",
    "kernelspec": {
      "name": "deno",
      "display_name": "Deno"
    },
    "language_info": {
      "name": "typescript",
      "version": "1.0"
    }
  },
  "cells": [
    {
      "cell_type": "markdown",
      "metadata": {},
      "source": [
        "# Task Scheduler  \n",
        "[LeetCode Link](https://leetcode.com/problems/task-scheduler)\n",
        "\n"
      ]
    },
    {
      "cell_type": "markdown",
      "metadata": {},
      "source": [
        "## Description  \n",
        "Find the least number of units of time needed to finish all tasks given a cooldown interval.\n",
        "\n"
      ]
    },
    {
      "cell_type": "markdown",
      "metadata": {},
      "source": [
        "## Strategy  \n",
        "Use greedy counting of most frequent tasks and fill gaps accordingly.\n",
        "\n"
      ]
    },
    {
      "cell_type": "code",
      "metadata": {},
      "source": [
        "export function leastInterval(tasks: string[], n: number): number {\n",
        "  return 0;\n",
        "}\n",
        "\n"
      ],
      "execution_count": null,
      "outputs": []
    },
    {
      "cell_type": "code",
      "metadata": {},
      "source": [
        "import { assertEquals } from \"https://deno.land/std/testing/asserts.ts\";\n",
        "\n",
        "Deno.test(\"leastInterval - basic\", () => {\n",
        "  assertEquals(leastInterval([\"A\",\"A\",\"A\",\"B\",\"B\",\"B\"], 2), 8);\n",
        "});\n",
        "\n",
        "Deno.test(\"leastInterval - no cooldown\", () => {\n",
        "  assertEquals(leastInterval([\"A\",\"A\",\"A\",\"B\",\"B\",\"B\"], 0), 6);\n",
        "});\n",
        "\n",
        "Deno.test(\"leastInterval - one task\", () => {\n",
        "  assertEquals(leastInterval([\"A\"], 2), 1);\n",
        "});\n",
        "\n",
        "Deno.test(\"leastInterval - all unique\", () => {\n",
        "  assertEquals(leastInterval([\"A\",\"B\",\"C\"], 2), 3);\n",
        "});\n",
        "\n"
      ],
      "execution_count": null,
      "outputs": []
    }
  ]
}