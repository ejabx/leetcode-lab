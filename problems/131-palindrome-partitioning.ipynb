{
  "cells": [
    {
      "cell_type": "markdown",
      "metadata": {
        "tags": [
          "String",
          "Dynamic Programming",
          "Backtracking"
        ]
      },
      "source": [
        "# [Palindrome Partitioning](https://leetcode.com/problems/palindrome-partitioning)\n",
        "## Description  \n",
        "Partition a string into all possible palindrome substring combinations.\n",
        "## Strategy  \n",
        "Use backtracking to try all substring cuts, validating palindromes.\n",
        "\n"
      ]
    },
    {
      "cell_type": "code",
      "execution_count": 14,
      "metadata": {},
      "outputs": [
        {
          "name": "stdout",
          "output_type": "stream",
          "text": [
            "0 \n",
            "1 a\n",
            "2 aa\n",
            "3 aab\n",
            "3 ab\n",
            "2 a\n",
            "3 ab\n",
            "3 b\n"
          ]
        },
        {
          "data": {
            "text/plain": [
              "[\n",
              "  [ \u001b[32m\"a\"\u001b[39m ],   [ \u001b[32m\"aa\"\u001b[39m ],\n",
              "  [ \u001b[32m\"aab\"\u001b[39m ], [ \u001b[32m\"ab\"\u001b[39m ],\n",
              "  [ \u001b[32m\"a\"\u001b[39m ],   [ \u001b[32m\"ab\"\u001b[39m ],\n",
              "  [ \u001b[32m\"b\"\u001b[39m ]\n",
              "]"
            ]
          },
          "execution_count": 14,
          "metadata": {},
          "output_type": "execute_result"
        }
      ],
      "source": [
        "function isPalindrome(s: string, left: number, right: number): boolean {\n",
        "    while (left < right) {\n",
        "      if (s[left] !== s[right]) {\n",
        "        return false\n",
        "      }\n",
        "    }\n",
        "    left++\n",
        "    right--\n",
        "\n",
        "    return true\n",
        "}\n",
        "\n",
        "export function partition(s: string): string[][] {\n",
        "  const results: string[][] = []\n",
        "\n",
        "  function backtrack(start: number, current: string[]) {\n",
        "    if (current.length && isPalindrome(current.join(''))) {\n",
        "      results.push([current.join('')])\n",
        "    }\n",
        "console.log(start, current.join(''))\n",
        "    for(let i = start; i < s.length; i++) {\n",
        "      current.push(s[i])\n",
        "      backtrack(i + 1, current)\n",
        "      current.pop()\n",
        "    }\n",
        "  }\n",
        "\n",
        "  backtrack(0, [])\n",
        "\n",
        "  return results;\n",
        "}\n",
        "\n",
        "partition(\"aab\")"
      ]
    },
    {
      "cell_type": "code",
      "execution_count": 15,
      "metadata": {},
      "outputs": [
        {
          "name": "stdout",
          "output_type": "stream",
          "text": [
            "partition - basic ...0 \n",
            "1 a\n",
            "2 aa\n",
            "3 aab\n",
            "3 ab\n",
            "2 a\n",
            "3 ab\n",
            "3 b\n",
            " \u001b[0m\u001b[31mFAILED\u001b[0m \u001b[0m\u001b[38;5;245m(0ms)\u001b[0m\n",
            "partition - single character ...0 \n",
            "1 a\n",
            " \u001b[0m\u001b[32mok\u001b[0m \u001b[0m\u001b[38;5;245m(0ms)\u001b[0m\n",
            "partition - empty string ...0 \n",
            " \u001b[0m\u001b[32mok\u001b[0m \u001b[0m\u001b[38;5;245m(0ms)\u001b[0m\n",
            "\n",
            "\u001b[0m\u001b[1m\u001b[37m\u001b[41m ERRORS \u001b[0m\n",
            "\n",
            "partition - basic \u001b[0m\u001b[38;5;245m=> <anonymous>:2:6\u001b[0m\n",
            "\u001b[0m\u001b[1m\u001b[31merror\u001b[0m: AssertionError: Values are not equal.\n",
            "\n",
            "\n",
            "    \u001b[90m\u001b[1m[Diff]\u001b[22m\u001b[39m \u001b[31m\u001b[1mActual\u001b[22m\u001b[39m / \u001b[32m\u001b[1mExpected\u001b[22m\u001b[39m\n",
            "\n",
            "\n",
            "\u001b[31m\u001b[1m-   false\u001b[22m\u001b[39m\n",
            "\u001b[32m\u001b[1m+   true\u001b[22m\u001b[39m\n",
            "\n",
            "  throw new AssertionError(message);\n",
            "\u001b[0m\u001b[31m        ^\u001b[0m\n",
            "    at \u001b[0m\u001b[1m\u001b[3mModule.assertEquals\u001b[0m (\u001b[0m\u001b[36mhttps://deno.land/std@0.224.0/assert/assert_equals.ts\u001b[0m:\u001b[0m\u001b[33m52\u001b[0m:\u001b[0m\u001b[33m9\u001b[0m)\n",
            "    at \u001b[0m\u001b[1m\u001b[3massertEquals\u001b[0m (\u001b[0m\u001b[36mhttps://deno.land/std@0.224.0/testing/asserts.ts\u001b[0m:\u001b[0m\u001b[33m101\u001b[0m:\u001b[0m\u001b[33m11\u001b[0m)\n",
            "    at \u001b[0m\u001b[36m<anonymous>\u001b[0m:\u001b[0m\u001b[33m3\u001b[0m:\u001b[0m\u001b[33m3\u001b[0m\n",
            "\n",
            "\u001b[0m\u001b[1m\u001b[37m\u001b[41m FAILURES \u001b[0m\n",
            "\n",
            "partition - basic \u001b[0m\u001b[38;5;245m=> <anonymous>:2:6\u001b[0m\n",
            "\n",
            "\u001b[0m\u001b[31mFAILED\u001b[0m | 2 passed | 1 failed \u001b[0m\u001b[38;5;245m(0ms)\u001b[0m\n"
          ]
        }
      ],
      "source": [
        "import { assertEquals } from \"https://deno.land/std/testing/asserts.ts\";\n",
        "\n",
        "Deno.test(\"partition - basic\", () => {\n",
        "  assertEquals(partition(\"aab\").length === 2, true);\n",
        "});\n",
        "\n",
        "Deno.test(\"partition - single character\", () => {\n",
        "  assertEquals(partition(\"a\"), [[\"a\"]]);\n",
        "});\n",
        "\n",
        "Deno.test(\"partition - empty string\", () => {\n",
        "  assertEquals(partition(\"\"), []);\n",
        "});\n",
        "\n"
      ]
    }
  ],
  "metadata": {
    "kernelspec": {
      "display_name": "Deno",
      "language": "typescript",
      "name": "deno"
    },
    "language_info": {
      "codemirror_mode": "typescript",
      "file_extension": ".ts",
      "mimetype": "text/x.typescript",
      "name": "typescript",
      "nbconvert_exporter": "script",
      "pygments_lexer": "typescript",
      "version": "5.8.3"
    },
    "title": "Palindrome Partitioning"
  },
  "nbformat": 4,
  "nbformat_minor": 5
}
