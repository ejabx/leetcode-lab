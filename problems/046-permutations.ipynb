{
  "cells": [
    {
      "cell_type": "markdown",
      "metadata": {},
      "source": [
        "# [Permutations](https://leetcode.com/problems/permutations)\n",
        "## Description  \n",
        "Return all possible permutations of the input array.\n",
        "## Strategy  \n",
        "Use backtracking to swap elements recursively.\n",
        "\n"
      ]
    },
    {
      "cell_type": "code",
      "execution_count": null,
      "metadata": {},
      "outputs": [],
      "source": [
        "export function permute(nums: number[]): number[][] {\n",
        "  return [];\n",
        "}\n",
        "\n"
      ]
    },
    {
      "cell_type": "code",
      "execution_count": null,
      "metadata": {},
      "outputs": [],
      "source": [
        "import { assertEquals } from \"https://deno.land/std/testing/asserts.ts\";\n",
        "\n",
        "Deno.test(\"permute - basic\", () => {\n",
        "  assertEquals(permute([1, 2, 3]).length, 6);\n",
        "});\n",
        "\n",
        "Deno.test(\"permute - single element\", () => {\n",
        "  assertEquals(permute([1]), [[1]]);\n",
        "});\n",
        "\n",
        "Deno.test(\"permute - empty\", () => {\n",
        "  assertEquals(permute([]), [[]]);\n",
        "});\n",
        "\n",
        "\n"
      ]
    }
  ],
  "metadata": {
    "kernelspec": {
      "display_name": "Deno",
      "name": "deno"
    },
    "language_info": {
      "name": "typescript",
      "version": "1.0"
    },
    "title": "Permutations"
  },
  "nbformat": 4,
  "nbformat_minor": 5
}
