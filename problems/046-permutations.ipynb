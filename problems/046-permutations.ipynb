{
  "cells": [
    {
      "cell_type": "markdown",
      "metadata": {},
      "source": [
        "# [Permutations](https://leetcode.com/problems/permutations)\n",
        "## Description  \n",
        "Return all possible permutations of the input array.\n",
        "## Strategy  \n",
        "Use backtracking to swap elements recursively.\n",
        "\n"
      ]
    },
    {
      "cell_type": "code",
      "execution_count": 1,
      "metadata": {},
      "outputs": [],
      "source": [
        "export function permute(nums: number[]): number[][] {\n",
        "    let result: number[][] = [];\n",
        "    function backtrack(curr: number[]) {\n",
        "        if (curr.length === nums.length) {\n",
        "            result.push([...curr])\n",
        "            return;\n",
        "        }\n",
        "        for (let num of nums) {\n",
        "            if (!curr.includes(num)) {\n",
        "                curr.push(num)\n",
        "                backtrack(curr)\n",
        "                curr.pop()\n",
        "            }\n",
        "        }\n",
        "    }\n",
        "  backtrack([])\n",
        "  return result\n",
        "}\n",
        "\n"
      ]
    },
    {
      "cell_type": "code",
      "execution_count": 2,
      "metadata": {},
      "outputs": [
        {
          "name": "stdout",
          "output_type": "stream",
          "text": [
            "permute - basic ... \u001b[0m\u001b[32mok\u001b[0m \u001b[0m\u001b[38;5;245m(0ms)\u001b[0m\n",
            "permute - single element ... \u001b[0m\u001b[32mok\u001b[0m \u001b[0m\u001b[38;5;245m(0ms)\u001b[0m\n",
            "permute - empty ... \u001b[0m\u001b[32mok\u001b[0m \u001b[0m\u001b[38;5;245m(0ms)\u001b[0m\n",
            "\n",
            "\u001b[0m\u001b[32mok\u001b[0m | 3 passed | 0 failed \u001b[0m\u001b[38;5;245m(1ms)\u001b[0m\n"
          ]
        }
      ],
      "source": [
        "import { assertEquals } from \"https://deno.land/std/testing/asserts.ts\";\n",
        "\n",
        "Deno.test(\"permute - basic\", () => {\n",
        "  assertEquals(permute([1, 2, 3]).length, 6);\n",
        "});\n",
        "\n",
        "Deno.test(\"permute - single element\", () => {\n",
        "  assertEquals(permute([1]), [[1]]);\n",
        "});\n",
        "\n",
        "Deno.test(\"permute - empty\", () => {\n",
        "  assertEquals(permute([]), [[]]);\n",
        "});\n",
        "\n",
        "\n"
      ]
    }
  ],
  "metadata": {
    "kernelspec": {
      "display_name": "Deno",
      "language": "typescript",
      "name": "deno"
    },
    "language_info": {
      "codemirror_mode": "typescript",
      "file_extension": ".ts",
      "mimetype": "text/x.typescript",
      "name": "typescript",
      "nbconvert_exporter": "script",
      "pygments_lexer": "typescript",
      "version": "5.8.3"
    },
    "title": "Permutations"
  },
  "nbformat": 4,
  "nbformat_minor": 5
}
