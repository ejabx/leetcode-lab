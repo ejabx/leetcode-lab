{
  "cells": [
    {
      "cell_type": "markdown",
      "metadata": {
        "tags": [
          "Array",
          "Depth-First Search",
          "Breadth-First Search",
          "Union Find",
          "Matrix"
        ]
      },
      "source": [
        "# [Number of Islands](https://leetcode.com/problems/number-of-islands)\n",
        "## Description  \n",
        "Count the number of disconnected islands in a 2D grid, where '1' represents land and '0' represents water.\n",
        "## Strategy  \n",
        "Traverse the grid and perform DFS or BFS from each unvisited land cell to mark the entire island. Count the number of such traversals.\n",
        "\n"
      ]
    },
    {
      "cell_type": "code",
      "execution_count": 11,
      "metadata": {},
      "outputs": [],
      "source": [
        "function numIslands(grid: string[][]): number {\n",
        "  let islands: number = 0\n",
        "\n",
        "  function dfs(row: number, col: number): void {\n",
        "    if (row < 0 || row >= grid.length ||\n",
        "        col < 0 || col >= grid[0].length ||\n",
        "        grid[row][col] === '0') {\n",
        "      return\n",
        "    }\n",
        "    \n",
        "    grid[row][col] = '0'\n",
        "\n",
        "    // Explore all 4 directions\n",
        "    dfs(row, col - 1) // left\n",
        "    dfs(row, col + 1) // right\n",
        "    dfs(row - 1, col) // up\n",
        "    dfs(row + 1, col) // down\n",
        "  }\n",
        "\n",
        "  for(let row = 0; row < grid.length; row++) {\n",
        "    for(let col = 0; col < grid[0].length; col++) {\n",
        "      if (grid[row][col] === '1') {\n",
        "        dfs(row, col)\n",
        "        islands++\n",
        "      }\n",
        "    }\n",
        "  }\n",
        "\n",
        "  return islands\n",
        "}"
      ]
    },
    {
      "cell_type": "code",
      "execution_count": 12,
      "metadata": {},
      "outputs": [
        {
          "name": "stdout",
          "output_type": "stream",
          "text": [
            "numIslands - basic ... \u001b[0m\u001b[32mok\u001b[0m \u001b[0m\u001b[38;5;245m(0ms)\u001b[0m\n",
            "numIslands - multiple islands ... \u001b[0m\u001b[32mok\u001b[0m \u001b[0m\u001b[38;5;245m(0ms)\u001b[0m\n",
            "numIslands - no land ... \u001b[0m\u001b[32mok\u001b[0m \u001b[0m\u001b[38;5;245m(0ms)\u001b[0m\n",
            "numIslands - all land ... \u001b[0m\u001b[32mok\u001b[0m \u001b[0m\u001b[38;5;245m(0ms)\u001b[0m\n",
            "numIslands - single cell island ... \u001b[0m\u001b[32mok\u001b[0m \u001b[0m\u001b[38;5;245m(0ms)\u001b[0m\n",
            "\n",
            "\u001b[0m\u001b[32mok\u001b[0m | 5 passed | 0 failed \u001b[0m\u001b[38;5;245m(1ms)\u001b[0m\n"
          ]
        }
      ],
      "source": [
        "import { assertEquals } from \"https://deno.land/std/testing/asserts.ts\";\n",
        "\n",
        "Deno.test(\"numIslands - basic\", () => {\n",
        "  assertEquals(numIslands([\n",
        "    [\"1\",\"1\",\"1\",\"1\",\"0\"],\n",
        "    [\"1\",\"1\",\"0\",\"1\",\"0\"],\n",
        "    [\"1\",\"1\",\"0\",\"0\",\"0\"],\n",
        "    [\"0\",\"0\",\"0\",\"0\",\"0\"]\n",
        "  ]), 1);\n",
        "});\n",
        "\n",
        "Deno.test(\"numIslands - multiple islands\", () => {\n",
        "  assertEquals(numIslands([\n",
        "    [\"1\",\"1\",\"0\",\"0\",\"0\"],\n",
        "    [\"1\",\"1\",\"0\",\"0\",\"0\"],\n",
        "    [\"0\",\"0\",\"1\",\"0\",\"0\"],\n",
        "    [\"0\",\"0\",\"0\",\"1\",\"1\"]\n",
        "  ]), 3);\n",
        "});\n",
        "\n",
        "Deno.test(\"numIslands - no land\", () => {\n",
        "  assertEquals(numIslands([\n",
        "    [\"0\",\"0\",\"0\"],\n",
        "    [\"0\",\"0\",\"0\"]\n",
        "  ]), 0);\n",
        "});\n",
        "\n",
        "Deno.test(\"numIslands - all land\", () => {\n",
        "  assertEquals(numIslands([\n",
        "    [\"1\",\"1\"],\n",
        "    [\"1\",\"1\"]\n",
        "  ]), 1);\n",
        "});\n",
        "\n",
        "Deno.test(\"numIslands - single cell island\", () => {\n",
        "  assertEquals(numIslands([\n",
        "    [\"1\"]\n",
        "  ]), 1);\n",
        "});\n",
        "\n"
      ]
    }
  ],
  "metadata": {
    "kernelspec": {
      "display_name": "Deno",
      "language": "typescript",
      "name": "deno"
    },
    "language_info": {
      "codemirror_mode": "typescript",
      "file_extension": ".ts",
      "mimetype": "text/x.typescript",
      "name": "typescript",
      "nbconvert_exporter": "script",
      "pygments_lexer": "typescript",
      "version": "5.8.3"
    },
    "title": "Number of Islands"
  },
  "nbformat": 4,
  "nbformat_minor": 5
}
