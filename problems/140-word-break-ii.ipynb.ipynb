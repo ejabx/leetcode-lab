{
  "nbformat": 4,
  "nbformat_minor": 5,
  "metadata": {
    "title": "Word Break II",
    "kernelspec": {
      "name": "deno",
      "display_name": "Deno"
    },
    "language_info": {
      "name": "typescript",
      "version": "1.0"
    }
  },
  "cells": [
    {
      "cell_type": "markdown",
      "metadata": {},
      "source": [
        "# Word Break II  \n",
        "[LeetCode Link](https://leetcode.com/problems/word-break-ii)\n",
        "\n"
      ]
    },
    {
      "cell_type": "markdown",
      "metadata": {},
      "source": [
        "## Description  \n",
        "Return all possible sentences by segmenting a string into valid dictionary words.\n",
        "\n"
      ]
    },
    {
      "cell_type": "markdown",
      "metadata": {},
      "source": [
        "## Strategy  \n",
        "Use DFS with memoization to explore all possible word breaks.\n",
        "\n"
      ]
    },
    {
      "cell_type": "code",
      "metadata": {},
      "source": [
        "export function wordBreak(s: string, wordDict: string[]): string[] {\n",
        "  return [];\n",
        "}\n",
        "\n"
      ],
      "execution_count": null,
      "outputs": []
    },
    {
      "cell_type": "code",
      "metadata": {},
      "source": [
        "import { assertEquals } from \"https://deno.land/std/testing/asserts.ts\";\n",
        "\n",
        "Deno.test(\"wordBreak - multiple combinations\", () => {\n",
        "  assertEquals(\n",
        "    wordBreak(\"catsanddog\", [\"cat\",\"cats\",\"and\",\"sand\",\"dog\"]).sort(),\n",
        "    [\"cat sand dog\",\"cats and dog\"].sort()\n",
        "  );\n",
        "});\n",
        "\n",
        "Deno.test(\"wordBreak - single match\", () => {\n",
        "  assertEquals(wordBreak(\"apple\", [\"apple\"]), [\"apple\"]);\n",
        "});\n",
        "\n",
        "Deno.test(\"wordBreak - no match\", () => {\n",
        "  assertEquals(wordBreak(\"abcd\", [\"a\",\"abc\",\"b\",\"cd\"]), []);\n",
        "});\n",
        "\n",
        "Deno.test(\"wordBreak - empty input\", () => {\n",
        "  assertEquals(wordBreak(\"\", [\"a\"]), []);\n",
        "});\n",
        "\n",
        "Deno.test(\"wordBreak - overlapping options\", () => {\n",
        "  assertEquals(\n",
        "    wordBreak(\"pineapplepenapple\", [\"apple\",\"pen\",\"applepen\",\"pine\",\"pineapple\"]).sort(),\n",
        "    [\n",
        "      \"pine apple pen apple\",\n",
        "      \"pineapple pen apple\",\n",
        "      \"pine applepen apple\"\n",
        "    ].sort()\n",
        "  );\n",
        "});\n",
        "\n"
      ],
      "execution_count": null,
      "outputs": []
    }
  ]
}