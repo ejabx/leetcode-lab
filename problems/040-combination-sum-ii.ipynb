{
  "cells": [
    {
      "cell_type": "markdown",
      "metadata": {
        "tags": [
          "Array",
          "Backtracking"
        ]
      },
      "source": [
        "# [Combination Sum II](https://leetcode.com/problems/combination-sum-ii)\n",
        "\n",
        "Return combinations summing to target with each number used once and possible duplicates.\n",
        "\n",
        "## Strategy  \n",
        "Sort and backtrack skipping duplicates and no reuse.\n",
        "\n"
      ]
    },
    {
      "cell_type": "code",
      "execution_count": 10,
      "metadata": {},
      "outputs": [
        {
          "data": {
            "text/plain": [
              "[ [ \u001b[33m1\u001b[39m, \u001b[33m1\u001b[39m, \u001b[33m6\u001b[39m ], [ \u001b[33m1\u001b[39m, \u001b[33m2\u001b[39m, \u001b[33m5\u001b[39m ], [ \u001b[33m1\u001b[39m, \u001b[33m7\u001b[39m ], [ \u001b[33m2\u001b[39m, \u001b[33m6\u001b[39m ] ]"
            ]
          },
          "execution_count": 10,
          "metadata": {},
          "output_type": "execute_result"
        }
      ],
      "source": [
        "export function combinationSum2(candidates: number[], target: number): number[][] {\n",
        "  const result: number[][] = []\n",
        "\n",
        "  candidates.sort((a, b) => a - b)\n",
        "\n",
        "  function backtrack(start: number, current: number[], currentSum: number) {\n",
        "    if (target === currentSum) {\n",
        "      result.push([...current])\n",
        "    } else if (currentSum > target) {\n",
        "      return // prune\n",
        "    } else {\n",
        "      for(let i = start; i < candidates.length; i++) {\n",
        "        if (i > start && candidates[i] === candidates[i - 1]) {\n",
        "          continue\n",
        "        }\n",
        "        current.push(candidates[i])\n",
        "        backtrack(i + 1, current, candidates[i] + currentSum)\n",
        "        current.pop()\n",
        "      }\n",
        "    }\n",
        "  }\n",
        "\n",
        "  backtrack(0, [], 0)\n",
        "\n",
        "  return result\n",
        "}\n",
        "\n",
        "combinationSum2([10,1,2,7,6,1,5], 8)"
      ]
    },
    {
      "cell_type": "code",
      "execution_count": 11,
      "metadata": {},
      "outputs": [
        {
          "name": "stdout",
          "output_type": "stream",
          "text": [
            "combinationSum2 - duplicates ... \u001b[0m\u001b[32mok\u001b[0m \u001b[0m\u001b[38;5;245m(0ms)\u001b[0m\n",
            "\n",
            "\u001b[0m\u001b[32mok\u001b[0m | 1 passed | 0 failed \u001b[0m\u001b[38;5;245m(0ms)\u001b[0m\n"
          ]
        }
      ],
      "source": [
        "import { assertEquals } from \"https://deno.land/std/testing/asserts.ts\";\n",
        "\n",
        "Deno.test(\"combinationSum2 - duplicates\", () => {\n",
        "  assertEquals(combinationSum2([10,1,2,7,6,1,5], 8).length > 0, true);\n",
        "});\n",
        "\n"
      ]
    }
  ],
  "metadata": {
    "kernelspec": {
      "display_name": "Deno",
      "language": "typescript",
      "name": "deno"
    },
    "language_info": {
      "codemirror_mode": "typescript",
      "file_extension": ".ts",
      "mimetype": "text/x.typescript",
      "name": "typescript",
      "nbconvert_exporter": "script",
      "pygments_lexer": "typescript",
      "version": "5.8.3"
    },
    "title": "Combination Sum II"
  },
  "nbformat": 4,
  "nbformat_minor": 5
}
