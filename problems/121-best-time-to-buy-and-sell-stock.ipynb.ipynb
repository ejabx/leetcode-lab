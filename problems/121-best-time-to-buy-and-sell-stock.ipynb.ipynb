{
  "nbformat": 4,
  "nbformat_minor": 5,
  "metadata": {
    "title": "Best Time to Buy and Sell Stock",
    "kernelspec": {
      "name": "deno",
      "display_name": "Deno"
    },
    "language_info": {
      "name": "typescript",
      "version": "1.0"
    }
  },
  "cells": [
    {
      "cell_type": "markdown",
      "metadata": {},
      "source": [
        "# [Best Time to Buy and Sell Stock](https://leetcode.com/problems/best-time-to-buy-and-sell-stock)\n",
        "## Description  \n",
        "Determine the maximum profit you can achieve from a single buy and a single sell, given a list of stock prices over time.\n",
        "## Strategy  \n",
        "Use a single-pass approach to track the minimum price so far and update the max profit as you go.\n",
        "\n"
      ]
    },
    {
      "cell_type": "code",
      "metadata": {},
      "source": [
        "export function maxProfit(prices: number[]): number {\n",
        "  return 0;\n",
        "}\n",
        "\n"
      ],
      "execution_count": null,
      "outputs": []
    },
    {
      "cell_type": "code",
      "metadata": {},
      "source": [
        "import { assertEquals } from \"https://deno.land/std/testing/asserts.ts\";\n",
        "import { maxProfit } from \"./121-best-time-to-buy-and-sell-stock.ts\";\n",
        "\n",
        "Deno.test(\"maxProfit basic\", () => {\n",
        "  assertEquals(maxProfit([7,1,5,3,6,4]), 5);\n",
        "});\n",
        "\n",
        "Deno.test(\"maxProfit no profit\", () => {\n",
        "  assertEquals(maxProfit([7,6,4,3,1]), 0);\n",
        "});\n",
        "\n",
        "Deno.test(\"maxProfit single day\", () => {\n",
        "  assertEquals(maxProfit([5]), 0);\n",
        "});\n",
        "\n",
        "Deno.test(\"maxProfit empty\", () => {\n",
        "  assertEquals(maxProfit([]), 0);\n",
        "})\n",
        "\n"
      ],
      "execution_count": null,
      "outputs": []
    }
  ]
}