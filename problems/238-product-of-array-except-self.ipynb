{
 "cells": [
  {
   "cell_type": "markdown",
   "id": "4231dbd4",
   "metadata": {
    "tags": [
     "Array",
     "Prefix Sum"
    ]
   },
   "source": [
    "# [Product of Array Except Self](https://leetcode.com/problems/product-of-array-except-self/description/)\n",
    "\n",
    "Given an array of numbers, return a new array where each element is the product of all other elements except itself, __without using division__ and in __O(n)__ time.\n",
    "\n",
    "## [Strategy](https://www.youtube.com/watch?v=yKZFurr4GQA)\n",
    "\n",
    "### Prefix/Suffix Product Arrays\n",
    "\n",
    "```\n",
    "Input: [1,2,3,4]\n",
    "Prefix:  [1,1,2,6]     // product of all elements before index i\n",
    "Suffix:  [24,12,4,1]   // product of all elements after index i\n",
    "Result:  [24,12,8,6]   // prefix[i] * suffix[i]\n",
    "```\n",
    "\n",
    "- First pass: result[i] = product of all elements before index i\n",
    "- Second pass: result[i] *= product of all elements after index i\n",
    "- Use a running variable for suffix product to achieve O(1) extra space\n",
    "\n",
    "__Time__: O(n)  \n",
    "__Space__: O(n), O(1) if using running suffix"
   ]
  },
  {
   "cell_type": "markdown",
   "id": "262206e8",
   "metadata": {},
   "source": [
    "## Solution\n"
   ]
  },
  {
   "cell_type": "code",
   "execution_count": 29,
   "id": "7aebb81a",
   "metadata": {},
   "outputs": [],
   "source": [
    "// Time: O(n^2)\n",
    "// Space: O(n)\n",
    "function productExceptSelf_brute(nums: number[]): number[] {\n",
    "    const n: number = nums.length\n",
    "    const products: number[] = Array(n).fill(0)\n",
    "    \n",
    "    for(let i = 0; i < n; i++) {\n",
    "        let product: number = 1;\n",
    "        for(let j = 0; j < n; j++) {\n",
    "            if (i !== j) {\n",
    "                product *= nums[j]\n",
    "            }\n",
    "        }\n",
    "        products[i] = product;\n",
    "    }\n",
    "\n",
    "    return products\n",
    "};\n",
    "\n",
    "// Time: O(n)\n",
    "// Space: O(n)\n",
    "function productExceptSelf(nums: number[]): number[] {\n",
    "    const n: number = nums.length\n",
    "    const prefix: numbers[] = new Array(n).fill(1)\n",
    "    const suffix: numbers[] = new Array(n).fill(1)\n",
    "    const products: number[] = Array(n).fill(1)\n",
    "\n",
    "    for(let i = 1; i < n; i++) {\n",
    "        prefix[i] = prefix[i - 1] * nums[i - 1]\n",
    "    }\n",
    "\n",
    "    for(let i = n - 2; i >=0; i--) {\n",
    "        suffix[i] = suffix[i + 1] * nums[i + 1]\n",
    "    }\n",
    "\n",
    "    for(let i = 0; i < n; i++) {\n",
    "        products[i] = prefix[i] * suffix[i]\n",
    "    }\n",
    "\n",
    "    return products\n",
    "};"
   ]
  },
  {
   "cell_type": "markdown",
   "id": "b5ec007c",
   "metadata": {},
   "source": [
    "## Test Cases"
   ]
  },
  {
   "cell_type": "code",
   "execution_count": 30,
   "id": "a10ce450",
   "metadata": {},
   "outputs": [
    {
     "name": "stdout",
     "output_type": "stream",
     "text": [
      "productExceptSelf - basic case ... \u001b[0m\u001b[32mok\u001b[0m \u001b[0m\u001b[38;5;245m(0ms)\u001b[0m\n",
      "productExceptSelf - with 1 ... \u001b[0m\u001b[32mok\u001b[0m \u001b[0m\u001b[38;5;245m(0ms)\u001b[0m\n",
      "productExceptSelf - with zero ... \u001b[0m\u001b[32mok\u001b[0m \u001b[0m\u001b[38;5;245m(0ms)\u001b[0m\n",
      "productExceptSelf - with two zeros ... \u001b[0m\u001b[32mok\u001b[0m \u001b[0m\u001b[38;5;245m(0ms)\u001b[0m\n",
      "productExceptSelf - single element ... \u001b[0m\u001b[32mok\u001b[0m \u001b[0m\u001b[38;5;245m(0ms)\u001b[0m\n",
      "\n",
      "\u001b[0m\u001b[32mok\u001b[0m | 5 passed | 0 failed \u001b[0m\u001b[38;5;245m(1ms)\u001b[0m\n"
     ]
    }
   ],
   "source": [
    "import { assertEquals } from \"jsr:@std/assert\";\n",
    "\n",
    "Deno.test(\"productExceptSelf - basic case\", () => {\n",
    "  assertEquals(productExceptSelf([2, 3, 4, 5]), [60, 40, 30, 24]);\n",
    "});\n",
    "\n",
    "Deno.test(\"productExceptSelf - with 1\", () => {\n",
    "  assertEquals(productExceptSelf([1, 2, 3, 4]), [24, 12, 8, 6]);\n",
    "});\n",
    "\n",
    "Deno.test(\"productExceptSelf - with zero\", () => {\n",
    "  assertEquals(productExceptSelf([0, 4, 5]), [20, 0, 0]);\n",
    "});\n",
    "\n",
    "Deno.test(\"productExceptSelf - with two zeros\", () => {\n",
    "  assertEquals(productExceptSelf([0, 4, 0]), [0, 0, 0]);\n",
    "});\n",
    "\n",
    "Deno.test(\"productExceptSelf - single element\", () => {\n",
    "  assertEquals(productExceptSelf([7]), [1]); // Often handled as 1 or undefined\n",
    "});"
   ]
  },
  {
   "cell_type": "code",
   "execution_count": null,
   "id": "b752d7e7",
   "metadata": {},
   "outputs": [],
   "source": []
  }
 ],
 "metadata": {
  "kernelspec": {
   "display_name": "Deno",
   "language": "typescript",
   "name": "deno"
  },
  "language_info": {
   "codemirror_mode": "typescript",
   "file_extension": ".ts",
   "mimetype": "text/x.typescript",
   "name": "typescript",
   "nbconvert_exporter": "script",
   "pygments_lexer": "typescript",
   "version": "5.8.3"
  }
 },
 "nbformat": 4,
 "nbformat_minor": 5
}
