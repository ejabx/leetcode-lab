{
  "cells": [
    {
      "cell_type": "markdown",
      "metadata": {
        "tags": [
          "Linked List",
          "Math",
          "Stack"
        ]
      },
      "source": [
        "# [Add Two Numbers II](https://leetcode.com/problems/add-two-numbers-ii/description/)\n",
        "dd two numbers represented by linked lists, where the head is the most significant digit.\n",
        "## Strategy\n",
        "- Push digits of both lists onto stacks.\n",
        "- Pop and add digits, track carry.\n",
        "- Build result from least significant to most.\n",
        "\n",
        "__Time__: O(max(M, N))  \n",
        "__Space__: O(max(M, N))  "
      ]
    },
    {
      "cell_type": "markdown",
      "metadata": {},
      "source": [
        "## Solution\n",
        "\n"
      ]
    },
    {
      "cell_type": "code",
      "execution_count": 1,
      "metadata": {},
      "outputs": [],
      "source": [
        "import { ListNode } from \"../bin/ds/list.ts\"\n",
        "\n",
        "function addTwoNumbers(l1: ListNode | null, l2: ListNode | null): ListNode | null {\n",
        "    let result: ListNode = new ListNode()\n",
        "    let s1: number[] = []\n",
        "    let s2: number[] = []\n",
        "\n",
        "    while(l1) {\n",
        "        s1.push(l1.val)\n",
        "        l1 = l1.next\n",
        "    }\n",
        "\n",
        "    while(l2) {\n",
        "        s2.push(l2.val)\n",
        "        l2 = l2.next\n",
        "    }\n",
        "\n",
        "    let carry: number = 0\n",
        "    const accum: number[] = []\n",
        "    while (s1.length || s2.length || carry) {\n",
        "        const v1: number = s1.pop() ?? 0\n",
        "        const v2: number = s2.pop() ?? 0\n",
        "        let sum: number = carry + v1 + v2;\n",
        "        carry = Math.floor(sum / 10)\n",
        "        sum %= 10\n",
        "\n",
        "        accum.push(sum)\n",
        "    }\n",
        "\n",
        "    while(accum.length) {\n",
        "        const n: number = accum.shift()\n",
        "        const node = new ListNode(n)\n",
        "        node.next = result.next\n",
        "        result.next = node\n",
        "    }\n",
        "\n",
        "    return result.next\n",
        "};"
      ]
    },
    {
      "cell_type": "markdown",
      "metadata": {},
      "source": [
        "## Test Cases\n",
        "\n"
      ]
    },
    {
      "cell_type": "code",
      "execution_count": 2,
      "metadata": {},
      "outputs": [
        {
          "name": "stdout",
          "output_type": "stream",
          "text": [
            "Add Two Numbers II: normal addition ... \u001b[0m\u001b[32mok\u001b[0m \u001b[0m\u001b[38;5;245m(0ms)\u001b[0m\n",
            "Add Two Numbers II: carry overflow ... \u001b[0m\u001b[32mok\u001b[0m \u001b[0m\u001b[38;5;245m(0ms)\u001b[0m\n",
            "Add Two Numbers II: one list empty ... \u001b[0m\u001b[32mok\u001b[0m \u001b[0m\u001b[38;5;245m(0ms)\u001b[0m\n",
            "\n",
            "\u001b[0m\u001b[32mok\u001b[0m | 3 passed | 0 failed \u001b[0m\u001b[38;5;245m(0ms)\u001b[0m\n"
          ]
        }
      ],
      "source": [
        "import { assertEquals } from \"https://deno.land/std/testing/asserts.ts\";\n",
        "\n",
        "Deno.test(\"Add Two Numbers II: normal addition\", () => {\n",
        "  const l1 = ListNode.fromArray([7, 2, 4, 3]);\n",
        "  const l2 = ListNode.fromArray([5, 6, 4]);\n",
        "  assertEquals(addTwoNumbers(l1, l2).toArray(), [7, 8, 0, 7]);\n",
        "});\n",
        "\n",
        "Deno.test(\"Add Two Numbers II: carry overflow\", () => {\n",
        "  const l1 = ListNode.fromArray([9, 9, 9]);\n",
        "  const l2 = ListNode.fromArray([1]);\n",
        "  assertEquals(addTwoNumbers(l1, l2).toArray(), [1, 0, 0, 0]);\n",
        "});\n",
        "\n",
        "Deno.test(\"Add Two Numbers II: one list empty\", () => {\n",
        "  const l1 = null;\n",
        "  const l2 = ListNode.fromArray([1]);\n",
        "  assertEquals(addTwoNumbers(l1, l2).toArray(), [1]);\n",
        "});"
      ]
    }
  ],
  "metadata": {
    "author": "Me",
    "kernelspec": {
      "display_name": "Deno",
      "language": "typescript",
      "name": "deno"
    },
    "language_info": {
      "codemirror_mode": "typescript",
      "file_extension": ".ts",
      "mimetype": "text/x.typescript",
      "name": "typescript",
      "nbconvert_exporter": "script",
      "pygments_lexer": "typescript",
      "version": "5.8.3"
    },
    "title": "Problem"
  },
  "nbformat": 4,
  "nbformat_minor": 2
}
